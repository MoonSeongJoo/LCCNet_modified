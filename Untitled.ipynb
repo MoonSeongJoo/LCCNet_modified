{
 "cells": [
  {
   "cell_type": "code",
   "execution_count": 27,
   "id": "ecological-syndicate",
   "metadata": {},
   "outputs": [
    {
     "name": "stdout",
     "output_type": "stream",
     "text": [
      "(512, 2)\n",
      "(256, 512, 2)\n",
      "torch.Size([1, 256, 512, 2])\n",
      "torch.Size([256, 512, 2])\n",
      "torch.Size([1, 256, 512, 2, 1])\n"
     ]
    },
    {
     "data": {
      "text/plain": [
       "tuple"
      ]
     },
     "execution_count": 27,
     "metadata": {},
     "output_type": "execute_result"
    }
   ],
   "source": [
    "import numpy as np\n",
    "import torch\n",
    "MAX_SIZE = 256\n",
    "q_list = []\n",
    "for i in range(MAX_SIZE):\n",
    "    queries = []\n",
    "    for j in range(MAX_SIZE * 2):\n",
    "        queries.append([(j) / (MAX_SIZE * 2), i / MAX_SIZE])\n",
    "    queries = np.array(queries)\n",
    "    q_list.append(queries)\n",
    "print(queries.shape)\n",
    "print(np.array(q_list).shape)\n",
    "np.array(q_list)\n",
    "in_grid = torch.from_numpy(np.array(q_list)).float()[None] * 2 - 1\n",
    "#print(in_grid)\n",
    "print(in_grid.shape)\n",
    "print(in_grid[0].shape)\n",
    "print(in_grid[..., None].shape)\n",
    "\n",
    "confidence = np.ones([256, 256]) * 100\n",
    "confidence.shape\n",
    "\n",
    "con_a = confidence \n",
    "mask_a = con_a < 0.02\n",
    "mask_a\n",
    "area_a = (con_a < 0.02).sum() / mask_a.size\n",
    "(con_a < 0.02).sum()\n",
    "mask_a.size\n",
    "type(np.where(mask_a))"
   ]
  },
  {
   "cell_type": "code",
   "execution_count": 13,
   "id": "clear-immune",
   "metadata": {},
   "outputs": [
    {
     "name": "stdout",
     "output_type": "stream",
     "text": [
      "[1, 2]\n",
      "[4, 5]\n"
     ]
    },
    {
     "ename": "TypeError",
     "evalue": "list indices must be integers or slices, not tuple",
     "output_type": "error",
     "traceback": [
      "\u001b[0;31m---------------------------------------------------------------------------\u001b[0m",
      "\u001b[0;31mTypeError\u001b[0m                                 Traceback (most recent call last)",
      "\u001b[0;32m<ipython-input-13-21aafa642a83>\u001b[0m in \u001b[0;36m<module>\u001b[0;34m\u001b[0m\n\u001b[1;32m      8\u001b[0m     \u001b[0mprint\u001b[0m\u001b[0;34m(\u001b[0m\u001b[0mi\u001b[0m\u001b[0;34m)\u001b[0m\u001b[0;34m\u001b[0m\u001b[0;34m\u001b[0m\u001b[0m\n\u001b[1;32m      9\u001b[0m \u001b[0;34m\u001b[0m\u001b[0m\n\u001b[0;32m---> 10\u001b[0;31m \u001b[0mtensor\u001b[0m\u001b[0;34m[\u001b[0m\u001b[0;34m...\u001b[0m\u001b[0;34m,\u001b[0m\u001b[0;32mNone\u001b[0m\u001b[0;34m]\u001b[0m\u001b[0;34m\u001b[0m\u001b[0;34m\u001b[0m\u001b[0m\n\u001b[0m",
      "\u001b[0;31mTypeError\u001b[0m: list indices must be integers or slices, not tuple"
     ]
    }
   ],
   "source": [
    "tensor_list  = [[1,2],[4,5]]\n",
    "tensor =['a','b','c']\n",
    "mask = ['A','B','C']\n",
    "\n",
    "tensor_list\n",
    "\n",
    "for i in tensor_list:\n",
    "    print(i)\n"
   ]
  },
  {
   "cell_type": "code",
   "execution_count": 43,
   "id": "appropriate-journal",
   "metadata": {},
   "outputs": [
    {
     "data": {
      "text/plain": [
       "__main__.ImagePatch"
      ]
     },
     "execution_count": 43,
     "metadata": {},
     "output_type": "execute_result"
    }
   ],
   "source": [
    "import imageio\n",
    "from collections import namedtuple\n",
    "ImagePatch = namedtuple('ImagePatch', ['patch', 'x', 'y', 'w', 'h', 'ow', 'oh'])\n",
    "img_a = imageio.imread('/root/work/COTR/sample_data/imgs/cathedral_1.jpg', pilmode='RGB')\n",
    "img_a.shape\n",
    "ImagePatch"
   ]
  },
  {
   "cell_type": "code",
   "execution_count": 46,
   "id": "based-roberts",
   "metadata": {},
   "outputs": [],
   "source": [
    "def to_square_patches(img):\n",
    "    patches = []\n",
    "    h, w, _ = img.shape\n",
    "    short = size = min(h, w)\n",
    "    long = max(h, w)\n",
    "    if long == short:\n",
    "        patch_0 = ImagePatch(img[:size, :size], 0, 0, size, size, w, h)\n",
    "        patches = [patch_0]\n",
    "    elif long <= size * 2:\n",
    "        #warnings.warn('Spatial smoothness in dense optical flow is lost, but sparse matching and triangulation should be fine')\n",
    "        patch_0 = ImagePatch(img[:size, :size], 0, 0, size, size, w, h)\n",
    "        patch_1 = ImagePatch(img[-size:, -size:], w - size, h - size, size, size, w, h)\n",
    "        patches = [patch_0, patch_1]\n",
    "        # patches += subdivide_patch(patch_0)\n",
    "        # patches += subdivide_patch(patch_1)\n",
    "    else:\n",
    "        raise NotImplementedError\n",
    "    return patches"
   ]
  },
  {
   "cell_type": "code",
   "execution_count": 56,
   "id": "leading-designation",
   "metadata": {},
   "outputs": [
    {
     "name": "stdout",
     "output_type": "stream",
     "text": [
      "(783, 783, 3)\n",
      "(783, 783, 3)\n"
     ]
    }
   ],
   "source": [
    "patches_a = to_square_patches(img_a)\n",
    "for p_i in patches_a:\n",
    "    print(p_i.patch.shape)"
   ]
  },
  {
   "cell_type": "code",
   "execution_count": 61,
   "id": "tropical-charleston",
   "metadata": {},
   "outputs": [
    {
     "data": {
      "text/plain": [
       "array([[-1., -1.],\n",
       "       [-1., -1.],\n",
       "       [-1., -1.],\n",
       "       [-1., -1.]])"
      ]
     },
     "execution_count": 61,
     "metadata": {},
     "output_type": "execute_result"
    }
   ],
   "source": [
    "cmap = np.ones([4, 2])*-1\n",
    "cmap"
   ]
  },
  {
   "cell_type": "code",
   "execution_count": 62,
   "id": "serial-vitamin",
   "metadata": {},
   "outputs": [
    {
     "data": {
      "text/plain": [
       "{'images': [1.2], 'corr': [3.4]}"
      ]
     },
     "execution_count": 62,
     "metadata": {},
     "output_type": "execute_result"
    }
   ],
   "source": [
    "out = { 'images' : [1.2],\n",
    "        'corr': [3.4]}\n",
    "out "
   ]
  },
  {
   "cell_type": "code",
   "execution_count": 64,
   "id": "skilled-diagram",
   "metadata": {},
   "outputs": [
    {
     "data": {
      "text/plain": [
       "{'images': [1.2], 'corr': [3.4], 'queries': [5, 6], 'target': [7, 8]}"
      ]
     },
     "execution_count": 64,
     "metadata": {},
     "output_type": "execute_result"
    }
   ],
   "source": [
    "out['queries'] = [5,6]\n",
    "out['target'] = [7,8]\n",
    "out"
   ]
  },
  {
   "cell_type": "code",
   "execution_count": 1,
   "id": "forward-court",
   "metadata": {},
   "outputs": [
    {
     "ename": "NameError",
     "evalue": "name 'np' is not defined",
     "output_type": "error",
     "traceback": [
      "\u001b[0;31m---------------------------------------------------------------------------\u001b[0m",
      "\u001b[0;31mNameError\u001b[0m                                 Traceback (most recent call last)",
      "\u001b[0;32m<ipython-input-1-372c4b852356>\u001b[0m in \u001b[0;36m<module>\u001b[0;34m\u001b[0m\n\u001b[1;32m      5\u001b[0m     \u001b[0;32mfor\u001b[0m \u001b[0mj\u001b[0m \u001b[0;32min\u001b[0m \u001b[0mrange\u001b[0m\u001b[0;34m(\u001b[0m\u001b[0;36m256\u001b[0m \u001b[0;34m*\u001b[0m \u001b[0;36m2\u001b[0m\u001b[0;34m)\u001b[0m\u001b[0;34m:\u001b[0m\u001b[0;34m\u001b[0m\u001b[0;34m\u001b[0m\u001b[0m\n\u001b[1;32m      6\u001b[0m         \u001b[0mqueries\u001b[0m\u001b[0;34m.\u001b[0m\u001b[0mappend\u001b[0m\u001b[0;34m(\u001b[0m\u001b[0;34m[\u001b[0m\u001b[0;34m(\u001b[0m\u001b[0mj\u001b[0m\u001b[0;34m)\u001b[0m \u001b[0;34m/\u001b[0m \u001b[0;34m(\u001b[0m\u001b[0;36m256\u001b[0m \u001b[0;34m*\u001b[0m \u001b[0;36m2\u001b[0m\u001b[0;34m)\u001b[0m\u001b[0;34m,\u001b[0m \u001b[0mi\u001b[0m \u001b[0;34m/\u001b[0m \u001b[0;36m256\u001b[0m\u001b[0;34m]\u001b[0m\u001b[0;34m)\u001b[0m\u001b[0;34m\u001b[0m\u001b[0;34m\u001b[0m\u001b[0m\n\u001b[0;32m----> 7\u001b[0;31m     \u001b[0mqueries\u001b[0m \u001b[0;34m=\u001b[0m \u001b[0mnp\u001b[0m\u001b[0;34m.\u001b[0m\u001b[0marray\u001b[0m\u001b[0;34m(\u001b[0m\u001b[0mqueries\u001b[0m\u001b[0;34m)\u001b[0m\u001b[0;34m\u001b[0m\u001b[0;34m\u001b[0m\u001b[0m\n\u001b[0m\u001b[1;32m      8\u001b[0m     \u001b[0mq_list\u001b[0m\u001b[0;34m.\u001b[0m\u001b[0mappend\u001b[0m\u001b[0;34m(\u001b[0m\u001b[0mqueries\u001b[0m\u001b[0;34m)\u001b[0m\u001b[0;34m\u001b[0m\u001b[0;34m\u001b[0m\u001b[0m\n\u001b[1;32m      9\u001b[0m \u001b[0;34m\u001b[0m\u001b[0m\n",
      "\u001b[0;31mNameError\u001b[0m: name 'np' is not defined"
     ]
    }
   ],
   "source": [
    "import torch\n",
    "q_list = []\n",
    "for i in range(256):\n",
    "    queries = []\n",
    "    for j in range(256 * 2):\n",
    "        queries.append([(j) / (256 * 2), i / 256])\n",
    "    queries = np.array(queries)\n",
    "    q_list.append(queries)\n",
    "\n",
    "print(torch.tensor(queries).shape)\n",
    "print(torch.tensor(q_list).shape)\n",
    "print(torch.from_numpy(np.concatenate(q_list)).shape)\n",
    "queries = torch.from_numpy(np.concatenate(q_list))[None].float().cuda()\n",
    "print(torch.from_numpy(np.concatenate(q_list))[None].shape)\n",
    "for q in q_list:\n",
    "    queries = torch.from_numpy(q)[None].float().cuda()\n",
    "    print(queries.shape)"
   ]
  },
  {
   "cell_type": "code",
   "execution_count": 3,
   "id": "crazy-nigeria",
   "metadata": {},
   "outputs": [
    {
     "data": {
      "text/plain": [
       "['/root/work/LCCNet_Moon',\n",
       " '/root/venv/lib/python38.zip',\n",
       " '/root/venv/lib/python3.8',\n",
       " '/root/venv/lib/python3.8/lib-dynload',\n",
       " '/usr/lib/python3.8',\n",
       " '',\n",
       " '/root/venv/lib/python3.8/site-packages',\n",
       " '/root/venv/lib/python3.8/site-packages/IPython/extensions',\n",
       " '/root/.ipython']"
      ]
     },
     "execution_count": 3,
     "metadata": {},
     "output_type": "execute_result"
    }
   ],
   "source": [
    "import sys\n",
    "sys.path"
   ]
  },
  {
   "cell_type": "code",
   "execution_count": 1,
   "id": "endless-speed",
   "metadata": {},
   "outputs": [
    {
     "name": "stdout",
     "output_type": "stream",
     "text": [
      "(1, 2, 3)\n",
      "(1, 1, 3)\n"
     ]
    }
   ],
   "source": [
    "import numpy as np\n",
    "a = [[[1,2,3],[4,5,6]]]\n",
    "b=np.asarray(a)\n",
    "print(b.shape)\n",
    "c=b[:,:1]\n",
    "print(c.shape)"
   ]
  },
  {
   "cell_type": "code",
   "execution_count": 1,
   "id": "cardiovascular-cruise",
   "metadata": {},
   "outputs": [
    {
     "ename": "NameError",
     "evalue": "name 'np' is not defined",
     "output_type": "error",
     "traceback": [
      "\u001b[0;31m---------------------------------------------------------------------------\u001b[0m",
      "\u001b[0;31mNameError\u001b[0m                                 Traceback (most recent call last)",
      "\u001b[0;32m<ipython-input-1-5aa2612d4909>\u001b[0m in \u001b[0;36m<module>\u001b[0;34m\u001b[0m\n\u001b[0;32m----> 1\u001b[0;31m \u001b[0ma\u001b[0m \u001b[0;34m=\u001b[0m \u001b[0mnp\u001b[0m\u001b[0;34m.\u001b[0m\u001b[0masarray\u001b[0m\u001b[0;34m(\u001b[0m\u001b[0;34m[\u001b[0m\u001b[0;36m1\u001b[0m\u001b[0;34m,\u001b[0m\u001b[0;36m2\u001b[0m\u001b[0;34m,\u001b[0m\u001b[0;36m3\u001b[0m\u001b[0;34m,\u001b[0m\u001b[0;36m4\u001b[0m\u001b[0;34m]\u001b[0m\u001b[0;34m)\u001b[0m\u001b[0;34m\u001b[0m\u001b[0;34m\u001b[0m\u001b[0m\n\u001b[0m\u001b[1;32m      2\u001b[0m \u001b[0ma1\u001b[0m \u001b[0;34m=\u001b[0m \u001b[0ma\u001b[0m\u001b[0;34m[\u001b[0m\u001b[0;34m...\u001b[0m\u001b[0;34m,\u001b[0m\u001b[0;32mNone\u001b[0m\u001b[0;34m]\u001b[0m\u001b[0;34m\u001b[0m\u001b[0;34m\u001b[0m\u001b[0m\n\u001b[1;32m      3\u001b[0m \u001b[0mprint\u001b[0m\u001b[0;34m(\u001b[0m\u001b[0ma\u001b[0m\u001b[0;34m)\u001b[0m\u001b[0;34m\u001b[0m\u001b[0;34m\u001b[0m\u001b[0m\n\u001b[1;32m      4\u001b[0m \u001b[0mprint\u001b[0m\u001b[0;34m(\u001b[0m\u001b[0;34m'----------'\u001b[0m\u001b[0;34m)\u001b[0m\u001b[0;34m\u001b[0m\u001b[0;34m\u001b[0m\u001b[0m\n\u001b[1;32m      5\u001b[0m \u001b[0mprint\u001b[0m\u001b[0;34m(\u001b[0m\u001b[0ma1\u001b[0m\u001b[0;34m)\u001b[0m\u001b[0;34m\u001b[0m\u001b[0;34m\u001b[0m\u001b[0m\n",
      "\u001b[0;31mNameError\u001b[0m: name 'np' is not defined"
     ]
    }
   ],
   "source": [
    "a = np.asarray([1,2,3,4])\n",
    "a1 = a[...,None]\n",
    "print(a)\n",
    "print('----------')\n",
    "print(a1)\n",
    "a1.shape"
   ]
  },
  {
   "cell_type": "code",
   "execution_count": 1,
   "id": "metallic-small",
   "metadata": {},
   "outputs": [
    {
     "data": {
      "text/plain": [
       "{'image': None, 'corrs': None, 'queries': None, 'target': None}"
      ]
     },
     "execution_count": 1,
     "metadata": {},
     "output_type": "execute_result"
    }
   ],
   "source": [
    "out ={'image': None,\n",
    "            'corrs': None\n",
    "        }\n",
    "out['queries'] = None\n",
    "out['target'] = None\n",
    "out"
   ]
  },
  {
   "cell_type": "code",
   "execution_count": 8,
   "id": "sophisticated-fifty",
   "metadata": {},
   "outputs": [],
   "source": [
    "out = None"
   ]
  },
  {
   "cell_type": "code",
   "execution_count": 9,
   "id": "domestic-helmet",
   "metadata": {},
   "outputs": [
    {
     "data": {
      "text/plain": [
       "()"
      ]
     },
     "execution_count": 9,
     "metadata": {},
     "output_type": "execute_result"
    }
   ],
   "source": [
    "import numpy as np\n",
    "np.asarray(out).shape"
   ]
  }
 ],
 "metadata": {
  "kernelspec": {
   "display_name": "Python 3",
   "language": "python",
   "name": "python3"
  },
  "language_info": {
   "codemirror_mode": {
    "name": "ipython",
    "version": 3
   },
   "file_extension": ".py",
   "mimetype": "text/x-python",
   "name": "python",
   "nbconvert_exporter": "python",
   "pygments_lexer": "ipython3",
   "version": "3.8.0"
  }
 },
 "nbformat": 4,
 "nbformat_minor": 5
}
