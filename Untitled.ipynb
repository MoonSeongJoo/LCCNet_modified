{
 "cells": [
  {
   "cell_type": "code",
   "execution_count": 27,
   "id": "accepting-lotus",
   "metadata": {},
   "outputs": [
    {
     "name": "stdout",
     "output_type": "stream",
     "text": [
      "(512, 2)\n",
      "(256, 512, 2)\n",
      "torch.Size([1, 256, 512, 2])\n",
      "torch.Size([256, 512, 2])\n",
      "torch.Size([1, 256, 512, 2, 1])\n"
     ]
    },
    {
     "data": {
      "text/plain": [
       "tuple"
      ]
     },
     "execution_count": 27,
     "metadata": {},
     "output_type": "execute_result"
    }
   ],
   "source": [
    "import numpy as np\n",
    "import torch\n",
    "MAX_SIZE = 256\n",
    "q_list = []\n",
    "for i in range(MAX_SIZE):\n",
    "    queries = []\n",
    "    for j in range(MAX_SIZE * 2):\n",
    "        queries.append([(j) / (MAX_SIZE * 2), i / MAX_SIZE])\n",
    "    queries = np.array(queries)\n",
    "    q_list.append(queries)\n",
    "print(queries.shape)\n",
    "print(np.array(q_list).shape)\n",
    "np.array(q_list)\n",
    "in_grid = torch.from_numpy(np.array(q_list)).float()[None] * 2 - 1\n",
    "#print(in_grid)\n",
    "print(in_grid.shape)\n",
    "print(in_grid[0].shape)\n",
    "print(in_grid[..., None].shape)\n",
    "\n",
    "confidence = np.ones([256, 256]) * 100\n",
    "confidence.shape\n",
    "\n",
    "con_a = confidence \n",
    "mask_a = con_a < 0.02\n",
    "mask_a\n",
    "area_a = (con_a < 0.02).sum() / mask_a.size\n",
    "(con_a < 0.02).sum()\n",
    "mask_a.size\n",
    "type(np.where(mask_a))"
   ]
  },
  {
   "cell_type": "code",
   "execution_count": 13,
   "id": "textile-university",
   "metadata": {},
   "outputs": [
    {
     "name": "stdout",
     "output_type": "stream",
     "text": [
      "[1, 2]\n",
      "[4, 5]\n"
     ]
    },
    {
     "ename": "TypeError",
     "evalue": "list indices must be integers or slices, not tuple",
     "output_type": "error",
     "traceback": [
      "\u001b[0;31m---------------------------------------------------------------------------\u001b[0m",
      "\u001b[0;31mTypeError\u001b[0m                                 Traceback (most recent call last)",
      "\u001b[0;32m<ipython-input-13-21aafa642a83>\u001b[0m in \u001b[0;36m<module>\u001b[0;34m\u001b[0m\n\u001b[1;32m      8\u001b[0m     \u001b[0mprint\u001b[0m\u001b[0;34m(\u001b[0m\u001b[0mi\u001b[0m\u001b[0;34m)\u001b[0m\u001b[0;34m\u001b[0m\u001b[0;34m\u001b[0m\u001b[0m\n\u001b[1;32m      9\u001b[0m \u001b[0;34m\u001b[0m\u001b[0m\n\u001b[0;32m---> 10\u001b[0;31m \u001b[0mtensor\u001b[0m\u001b[0;34m[\u001b[0m\u001b[0;34m...\u001b[0m\u001b[0;34m,\u001b[0m\u001b[0;32mNone\u001b[0m\u001b[0;34m]\u001b[0m\u001b[0;34m\u001b[0m\u001b[0;34m\u001b[0m\u001b[0m\n\u001b[0m",
      "\u001b[0;31mTypeError\u001b[0m: list indices must be integers or slices, not tuple"
     ]
    }
   ],
   "source": [
    "tensor_list  = [[1,2],[4,5]]\n",
    "tensor =['a','b','c']\n",
    "mask = ['A','B','C']\n",
    "\n",
    "tensor_list\n",
    "\n",
    "for i in tensor_list:\n",
    "    print(i)\n"
   ]
  },
  {
   "cell_type": "code",
   "execution_count": 43,
   "id": "integral-forge",
   "metadata": {},
   "outputs": [
    {
     "data": {
      "text/plain": [
       "__main__.ImagePatch"
      ]
     },
     "execution_count": 43,
     "metadata": {},
     "output_type": "execute_result"
    }
   ],
   "source": [
    "import imageio\n",
    "from collections import namedtuple\n",
    "ImagePatch = namedtuple('ImagePatch', ['patch', 'x', 'y', 'w', 'h', 'ow', 'oh'])\n",
    "img_a = imageio.imread('/root/work/COTR/sample_data/imgs/cathedral_1.jpg', pilmode='RGB')\n",
    "img_a.shape\n",
    "ImagePatch"
   ]
  },
  {
   "cell_type": "code",
   "execution_count": 46,
   "id": "unsigned-skirt",
   "metadata": {},
   "outputs": [],
   "source": [
    "def to_square_patches(img):\n",
    "    patches = []\n",
    "    h, w, _ = img.shape\n",
    "    short = size = min(h, w)\n",
    "    long = max(h, w)\n",
    "    if long == short:\n",
    "        patch_0 = ImagePatch(img[:size, :size], 0, 0, size, size, w, h)\n",
    "        patches = [patch_0]\n",
    "    elif long <= size * 2:\n",
    "        #warnings.warn('Spatial smoothness in dense optical flow is lost, but sparse matching and triangulation should be fine')\n",
    "        patch_0 = ImagePatch(img[:size, :size], 0, 0, size, size, w, h)\n",
    "        patch_1 = ImagePatch(img[-size:, -size:], w - size, h - size, size, size, w, h)\n",
    "        patches = [patch_0, patch_1]\n",
    "        # patches += subdivide_patch(patch_0)\n",
    "        # patches += subdivide_patch(patch_1)\n",
    "    else:\n",
    "        raise NotImplementedError\n",
    "    return patches"
   ]
  },
  {
   "cell_type": "code",
   "execution_count": 56,
   "id": "knowing-auction",
   "metadata": {},
   "outputs": [
    {
     "name": "stdout",
     "output_type": "stream",
     "text": [
      "(783, 783, 3)\n",
      "(783, 783, 3)\n"
     ]
    }
   ],
   "source": [
    "patches_a = to_square_patches(img_a)\n",
    "for p_i in patches_a:\n",
    "    print(p_i.patch.shape)"
   ]
  },
  {
   "cell_type": "code",
   "execution_count": 61,
   "id": "standard-wrestling",
   "metadata": {},
   "outputs": [
    {
     "data": {
      "text/plain": [
       "array([[-1., -1.],\n",
       "       [-1., -1.],\n",
       "       [-1., -1.],\n",
       "       [-1., -1.]])"
      ]
     },
     "execution_count": 61,
     "metadata": {},
     "output_type": "execute_result"
    }
   ],
   "source": [
    "cmap = np.ones([4, 2])*-1\n",
    "cmap"
   ]
  },
  {
   "cell_type": "code",
   "execution_count": 62,
   "id": "supported-inquiry",
   "metadata": {},
   "outputs": [
    {
     "data": {
      "text/plain": [
       "{'images': [1.2], 'corr': [3.4]}"
      ]
     },
     "execution_count": 62,
     "metadata": {},
     "output_type": "execute_result"
    }
   ],
   "source": [
    "out = { 'images' : [1.2],\n",
    "        'corr': [3.4]}\n",
    "out "
   ]
  },
  {
   "cell_type": "code",
   "execution_count": 64,
   "id": "disabled-might",
   "metadata": {},
   "outputs": [
    {
     "data": {
      "text/plain": [
       "{'images': [1.2], 'corr': [3.4], 'queries': [5, 6], 'target': [7, 8]}"
      ]
     },
     "execution_count": 64,
     "metadata": {},
     "output_type": "execute_result"
    }
   ],
   "source": [
    "out['queries'] = [5,6]\n",
    "out['target'] = [7,8]\n",
    "out"
   ]
  },
  {
   "cell_type": "code",
   "execution_count": 1,
   "id": "cellular-ecuador",
   "metadata": {},
   "outputs": [
    {
     "ename": "NameError",
     "evalue": "name 'np' is not defined",
     "output_type": "error",
     "traceback": [
      "\u001b[0;31m---------------------------------------------------------------------------\u001b[0m",
      "\u001b[0;31mNameError\u001b[0m                                 Traceback (most recent call last)",
      "\u001b[0;32m<ipython-input-1-372c4b852356>\u001b[0m in \u001b[0;36m<module>\u001b[0;34m\u001b[0m\n\u001b[1;32m      5\u001b[0m     \u001b[0;32mfor\u001b[0m \u001b[0mj\u001b[0m \u001b[0;32min\u001b[0m \u001b[0mrange\u001b[0m\u001b[0;34m(\u001b[0m\u001b[0;36m256\u001b[0m \u001b[0;34m*\u001b[0m \u001b[0;36m2\u001b[0m\u001b[0;34m)\u001b[0m\u001b[0;34m:\u001b[0m\u001b[0;34m\u001b[0m\u001b[0;34m\u001b[0m\u001b[0m\n\u001b[1;32m      6\u001b[0m         \u001b[0mqueries\u001b[0m\u001b[0;34m.\u001b[0m\u001b[0mappend\u001b[0m\u001b[0;34m(\u001b[0m\u001b[0;34m[\u001b[0m\u001b[0;34m(\u001b[0m\u001b[0mj\u001b[0m\u001b[0;34m)\u001b[0m \u001b[0;34m/\u001b[0m \u001b[0;34m(\u001b[0m\u001b[0;36m256\u001b[0m \u001b[0;34m*\u001b[0m \u001b[0;36m2\u001b[0m\u001b[0;34m)\u001b[0m\u001b[0;34m,\u001b[0m \u001b[0mi\u001b[0m \u001b[0;34m/\u001b[0m \u001b[0;36m256\u001b[0m\u001b[0;34m]\u001b[0m\u001b[0;34m)\u001b[0m\u001b[0;34m\u001b[0m\u001b[0;34m\u001b[0m\u001b[0m\n\u001b[0;32m----> 7\u001b[0;31m     \u001b[0mqueries\u001b[0m \u001b[0;34m=\u001b[0m \u001b[0mnp\u001b[0m\u001b[0;34m.\u001b[0m\u001b[0marray\u001b[0m\u001b[0;34m(\u001b[0m\u001b[0mqueries\u001b[0m\u001b[0;34m)\u001b[0m\u001b[0;34m\u001b[0m\u001b[0;34m\u001b[0m\u001b[0m\n\u001b[0m\u001b[1;32m      8\u001b[0m     \u001b[0mq_list\u001b[0m\u001b[0;34m.\u001b[0m\u001b[0mappend\u001b[0m\u001b[0;34m(\u001b[0m\u001b[0mqueries\u001b[0m\u001b[0;34m)\u001b[0m\u001b[0;34m\u001b[0m\u001b[0;34m\u001b[0m\u001b[0m\n\u001b[1;32m      9\u001b[0m \u001b[0;34m\u001b[0m\u001b[0m\n",
      "\u001b[0;31mNameError\u001b[0m: name 'np' is not defined"
     ]
    }
   ],
   "source": [
    "import torch\n",
    "q_list = []\n",
    "for i in range(256):\n",
    "    queries = []\n",
    "    for j in range(256 * 2):\n",
    "        queries.append([(j) / (256 * 2), i / 256])\n",
    "    queries = np.array(queries)\n",
    "    q_list.append(queries)\n",
    "\n",
    "print(torch.tensor(queries).shape)\n",
    "print(torch.tensor(q_list).shape)\n",
    "print(torch.from_numpy(np.concatenate(q_list)).shape)\n",
    "queries = torch.from_numpy(np.concatenate(q_list))[None].float().cuda()\n",
    "print(torch.from_numpy(np.concatenate(q_list))[None].shape)\n",
    "for q in q_list:\n",
    "    queries = torch.from_numpy(q)[None].float().cuda()\n",
    "    print(queries.shape)"
   ]
  },
  {
   "cell_type": "code",
   "execution_count": 3,
   "id": "grave-firewall",
   "metadata": {},
   "outputs": [
    {
     "data": {
      "text/plain": [
       "['/root/work/LCCNet_Moon',\n",
       " '/root/venv/lib/python38.zip',\n",
       " '/root/venv/lib/python3.8',\n",
       " '/root/venv/lib/python3.8/lib-dynload',\n",
       " '/usr/lib/python3.8',\n",
       " '',\n",
       " '/root/venv/lib/python3.8/site-packages',\n",
       " '/root/venv/lib/python3.8/site-packages/IPython/extensions',\n",
       " '/root/.ipython']"
      ]
     },
     "execution_count": 3,
     "metadata": {},
     "output_type": "execute_result"
    }
   ],
   "source": [
    "import sys\n",
    "sys.path"
   ]
  },
  {
   "cell_type": "code",
   "execution_count": 1,
   "id": "confused-blank",
   "metadata": {},
   "outputs": [
    {
     "name": "stdout",
     "output_type": "stream",
     "text": [
      "(1, 2, 3)\n",
      "(1, 1, 3)\n"
     ]
    }
   ],
   "source": [
    "import numpy as np\n",
    "a = [[[1,2,3],[4,5,6]]]\n",
    "b=np.asarray(a)\n",
    "print(b.shape)\n",
    "c=b[:,:1]\n",
    "print(c.shape)"
   ]
  },
  {
   "cell_type": "code",
   "execution_count": 1,
   "id": "automated-bolivia",
   "metadata": {},
   "outputs": [
    {
     "ename": "NameError",
     "evalue": "name 'np' is not defined",
     "output_type": "error",
     "traceback": [
      "\u001b[0;31m---------------------------------------------------------------------------\u001b[0m",
      "\u001b[0;31mNameError\u001b[0m                                 Traceback (most recent call last)",
      "\u001b[0;32m<ipython-input-1-5aa2612d4909>\u001b[0m in \u001b[0;36m<module>\u001b[0;34m\u001b[0m\n\u001b[0;32m----> 1\u001b[0;31m \u001b[0ma\u001b[0m \u001b[0;34m=\u001b[0m \u001b[0mnp\u001b[0m\u001b[0;34m.\u001b[0m\u001b[0masarray\u001b[0m\u001b[0;34m(\u001b[0m\u001b[0;34m[\u001b[0m\u001b[0;36m1\u001b[0m\u001b[0;34m,\u001b[0m\u001b[0;36m2\u001b[0m\u001b[0;34m,\u001b[0m\u001b[0;36m3\u001b[0m\u001b[0;34m,\u001b[0m\u001b[0;36m4\u001b[0m\u001b[0;34m]\u001b[0m\u001b[0;34m)\u001b[0m\u001b[0;34m\u001b[0m\u001b[0;34m\u001b[0m\u001b[0m\n\u001b[0m\u001b[1;32m      2\u001b[0m \u001b[0ma1\u001b[0m \u001b[0;34m=\u001b[0m \u001b[0ma\u001b[0m\u001b[0;34m[\u001b[0m\u001b[0;34m...\u001b[0m\u001b[0;34m,\u001b[0m\u001b[0;32mNone\u001b[0m\u001b[0;34m]\u001b[0m\u001b[0;34m\u001b[0m\u001b[0;34m\u001b[0m\u001b[0m\n\u001b[1;32m      3\u001b[0m \u001b[0mprint\u001b[0m\u001b[0;34m(\u001b[0m\u001b[0ma\u001b[0m\u001b[0;34m)\u001b[0m\u001b[0;34m\u001b[0m\u001b[0;34m\u001b[0m\u001b[0m\n\u001b[1;32m      4\u001b[0m \u001b[0mprint\u001b[0m\u001b[0;34m(\u001b[0m\u001b[0;34m'----------'\u001b[0m\u001b[0;34m)\u001b[0m\u001b[0;34m\u001b[0m\u001b[0;34m\u001b[0m\u001b[0m\n\u001b[1;32m      5\u001b[0m \u001b[0mprint\u001b[0m\u001b[0;34m(\u001b[0m\u001b[0ma1\u001b[0m\u001b[0;34m)\u001b[0m\u001b[0;34m\u001b[0m\u001b[0;34m\u001b[0m\u001b[0m\n",
      "\u001b[0;31mNameError\u001b[0m: name 'np' is not defined"
     ]
    }
   ],
   "source": [
    "a = np.asarray([1,2,3,4])\n",
    "a1 = a[...,None]\n",
    "print(a)\n",
    "print('----------')\n",
    "print(a1)\n",
    "a1.shape"
   ]
  },
  {
   "cell_type": "code",
   "execution_count": 1,
   "id": "dying-suite",
   "metadata": {},
   "outputs": [
    {
     "data": {
      "text/plain": [
       "{'image': None, 'corrs': None, 'queries': None, 'target': None}"
      ]
     },
     "execution_count": 1,
     "metadata": {},
     "output_type": "execute_result"
    }
   ],
   "source": [
    "out ={'image': None,\n",
    "            'corrs': None\n",
    "        }\n",
    "out['queries'] = None\n",
    "out['target'] = None\n",
    "out"
   ]
  },
  {
   "cell_type": "code",
   "execution_count": 8,
   "id": "thousand-printing",
   "metadata": {},
   "outputs": [],
   "source": [
    "out = None"
   ]
  },
  {
   "cell_type": "code",
   "execution_count": 1,
   "id": "short-oriental",
   "metadata": {},
   "outputs": [
    {
     "ename": "NameError",
     "evalue": "name 'out' is not defined",
     "output_type": "error",
     "traceback": [
      "\u001b[0;31m---------------------------------------------------------------------------\u001b[0m",
      "\u001b[0;31mNameError\u001b[0m                                 Traceback (most recent call last)",
      "\u001b[0;32m<ipython-input-1-e7e8631e6102>\u001b[0m in \u001b[0;36m<module>\u001b[0;34m\u001b[0m\n\u001b[1;32m      1\u001b[0m \u001b[0;32mimport\u001b[0m \u001b[0mnumpy\u001b[0m \u001b[0;32mas\u001b[0m \u001b[0mnp\u001b[0m\u001b[0;34m\u001b[0m\u001b[0;34m\u001b[0m\u001b[0m\n\u001b[0;32m----> 2\u001b[0;31m \u001b[0mnp\u001b[0m\u001b[0;34m.\u001b[0m\u001b[0masarray\u001b[0m\u001b[0;34m(\u001b[0m\u001b[0mout\u001b[0m\u001b[0;34m)\u001b[0m\u001b[0;34m.\u001b[0m\u001b[0mshape\u001b[0m\u001b[0;34m\u001b[0m\u001b[0;34m\u001b[0m\u001b[0m\n\u001b[0m",
      "\u001b[0;31mNameError\u001b[0m: name 'out' is not defined"
     ]
    }
   ],
   "source": [
    "import numpy as np\n",
    "np.asarray(out).shape"
   ]
  },
  {
   "cell_type": "code",
   "execution_count": 2,
   "id": "norman-investigation",
   "metadata": {},
   "outputs": [],
   "source": [
    "import cv2\n",
    "import torch\n",
    "import time\n",
    "import numpy as np"
   ]
  },
  {
   "cell_type": "code",
   "execution_count": 5,
   "id": "realistic-strategy",
   "metadata": {},
   "outputs": [
    {
     "name": "stderr",
     "output_type": "stream",
     "text": [
      "Using cache found in /root/.cache/torch/hub/intel-isl_MiDaS_master\n",
      "Downloading: \"https://github.com/intel-isl/DPT/releases/download/1_0/dpt_large-midas-2f21e586.pt\" to /root/.cache/torch/hub/checkpoints/dpt_large-midas-2f21e586.pt\n"
     ]
    },
    {
     "data": {
      "application/vnd.jupyter.widget-view+json": {
       "model_id": "f56f2dadce424938bbe4a5c076944806",
       "version_major": 2,
       "version_minor": 0
      },
      "text/plain": [
       "  0%|          | 0.00/1.28G [00:00<?, ?B/s]"
      ]
     },
     "metadata": {},
     "output_type": "display_data"
    }
   ],
   "source": [
    "# Load a MiDas model for depth estimation\n",
    "model_type = \"DPT_Large\"     # MiDaS v3 - Large     (highest accuracy, slowest inference speed)\n",
    "#model_type = \"DPT_Hybrid\"   # MiDaS v3 - Hybrid    (medium accuracy, medium inference speed)\n",
    "#model_type = \"MiDaS_small\"  # MiDaS v2.1 - Small   (lowest accuracy, highest inference speed)\n",
    "\n",
    "midas = torch.hub.load(\"intel-isl/MiDaS\", model_type)"
   ]
  },
  {
   "cell_type": "code",
<<<<<<< HEAD
   "execution_count": 4,
=======
   "execution_count": 1,
>>>>>>> c830e5e6d913dbf6cd60f57e577dcba9434566cd
   "id": "thick-speed",
   "metadata": {},
   "outputs": [
    {
     "name": "stdout",
     "output_type": "stream",
     "text": [
<<<<<<< HEAD
      "Collecting timm\n",
      "  Downloading timm-0.6.11-py3-none-any.whl (548 kB)\n",
      "\u001b[K     |████████████████████████████████| 548 kB 9.2 MB/s eta 0:00:01\n",
      "\u001b[?25hRequirement already satisfied: pyyaml in /root/venv/lib/python3.8/site-packages (from timm) (5.4.1)\n",
      "Collecting huggingface-hub\n",
      "  Downloading huggingface_hub-0.10.1-py3-none-any.whl (163 kB)\n",
      "\u001b[K     |████████████████████████████████| 163 kB 51.9 MB/s eta 0:00:01\n",
      "\u001b[?25hRequirement already satisfied: torchvision in /root/venv/lib/python3.8/site-packages (from timm) (0.8.2+cu110)\n",
      "Requirement already satisfied: torch>=1.7 in /root/venv/lib/python3.8/site-packages (from timm) (1.7.1+cu110)\n",
      "Requirement already satisfied: typing-extensions in /root/venv/lib/python3.8/site-packages (from torch>=1.7->timm) (3.7.4.3)\n",
      "Requirement already satisfied: numpy in /root/venv/lib/python3.8/site-packages (from torch>=1.7->timm) (1.20.0)\n",
      "Collecting filelock\n",
      "  Downloading filelock-3.8.0-py3-none-any.whl (10 kB)\n",
      "Requirement already satisfied: tqdm in /root/venv/lib/python3.8/site-packages (from huggingface-hub->timm) (4.56.0)\n",
      "Requirement already satisfied: packaging>=20.9 in /root/venv/lib/python3.8/site-packages (from huggingface-hub->timm) (20.9)\n",
      "Requirement already satisfied: requests in /root/venv/lib/python3.8/site-packages (from huggingface-hub->timm) (2.25.1)\n",
      "Requirement already satisfied: pyparsing>=2.0.2 in /root/venv/lib/python3.8/site-packages (from packaging>=20.9->huggingface-hub->timm) (2.4.7)\n",
      "Requirement already satisfied: urllib3<1.27,>=1.21.1 in /root/venv/lib/python3.8/site-packages (from requests->huggingface-hub->timm) (1.26.3)\n",
      "Requirement already satisfied: certifi>=2017.4.17 in /root/venv/lib/python3.8/site-packages (from requests->huggingface-hub->timm) (2020.12.5)\n",
      "Requirement already satisfied: idna<3,>=2.5 in /root/venv/lib/python3.8/site-packages (from requests->huggingface-hub->timm) (2.10)\n",
      "Requirement already satisfied: chardet<5,>=3.0.2 in /root/venv/lib/python3.8/site-packages (from requests->huggingface-hub->timm) (4.0.0)\n",
      "Requirement already satisfied: pillow>=4.1.1 in /root/venv/lib/python3.8/site-packages (from torchvision->timm) (8.3.1)\n",
      "Installing collected packages: filelock, huggingface-hub, timm\n",
      "Successfully installed filelock-3.8.0 huggingface-hub-0.10.1 timm-0.6.11\n",
      "\u001b[33mWARNING: You are using pip version 21.2.4; however, version 22.3 is available.\n",
      "You should consider upgrading via the '/root/venv/bin/python3.8 -m pip install --upgrade pip' command.\u001b[0m\n"
=======
      "Requirement already satisfied: timm in /home/ubuntu/work/autocalib/lib/python3.8/site-packages (0.6.12)\n",
      "Requirement already satisfied: huggingface-hub in /home/ubuntu/work/autocalib/lib/python3.8/site-packages (from timm) (0.11.1)\n",
      "Requirement already satisfied: pyyaml in /home/ubuntu/work/autocalib/lib/python3.8/site-packages (from timm) (5.4.1)\n",
      "Requirement already satisfied: torchvision in /home/ubuntu/work/autocalib/lib/python3.8/site-packages (from timm) (0.14.0)\n",
      "Requirement already satisfied: torch>=1.7 in /home/ubuntu/work/autocalib/lib/python3.8/site-packages (from timm) (1.13.0)\n",
      "Requirement already satisfied: tqdm in /home/ubuntu/work/autocalib/lib/python3.8/site-packages (from huggingface-hub->timm) (4.56.0)\n",
      "Requirement already satisfied: filelock in /home/ubuntu/work/autocalib/lib/python3.8/site-packages (from huggingface-hub->timm) (3.8.0)\n",
      "Requirement already satisfied: packaging>=20.9 in /home/ubuntu/work/autocalib/lib/python3.8/site-packages (from huggingface-hub->timm) (20.9)\n",
      "Requirement already satisfied: typing-extensions>=3.7.4.3 in /home/ubuntu/work/autocalib/lib/python3.8/site-packages (from huggingface-hub->timm) (3.7.4.3)\n",
      "Requirement already satisfied: requests in /home/ubuntu/work/autocalib/lib/python3.8/site-packages (from huggingface-hub->timm) (2.25.1)\n",
      "Requirement already satisfied: numpy in /home/ubuntu/work/autocalib/lib/python3.8/site-packages (from torchvision->timm) (1.20.0)\n",
      "Requirement already satisfied: pillow!=8.3.*,>=5.3.0 in /home/ubuntu/work/autocalib/lib/python3.8/site-packages (from torchvision->timm) (9.3.0)\n",
      "Requirement already satisfied: nvidia-cublas-cu11==11.10.3.66 in /home/ubuntu/work/autocalib/lib/python3.8/site-packages (from torch>=1.7->timm) (11.10.3.66)\n",
      "Requirement already satisfied: nvidia-cuda-runtime-cu11==11.7.99 in /home/ubuntu/work/autocalib/lib/python3.8/site-packages (from torch>=1.7->timm) (11.7.99)\n",
      "Requirement already satisfied: nvidia-cuda-nvrtc-cu11==11.7.99 in /home/ubuntu/work/autocalib/lib/python3.8/site-packages (from torch>=1.7->timm) (11.7.99)\n",
      "Requirement already satisfied: nvidia-cudnn-cu11==8.5.0.96 in /home/ubuntu/work/autocalib/lib/python3.8/site-packages (from torch>=1.7->timm) (8.5.0.96)\n",
      "Requirement already satisfied: pyparsing>=2.0.2 in /home/ubuntu/work/autocalib/lib/python3.8/site-packages (from packaging>=20.9->huggingface-hub->timm) (2.4.7)\n",
      "Requirement already satisfied: urllib3<1.27,>=1.21.1 in /home/ubuntu/work/autocalib/lib/python3.8/site-packages (from requests->huggingface-hub->timm) (1.26.3)\n",
      "Requirement already satisfied: chardet<5,>=3.0.2 in /home/ubuntu/work/autocalib/lib/python3.8/site-packages (from requests->huggingface-hub->timm) (4.0.0)\n",
      "Requirement already satisfied: certifi>=2017.4.17 in /home/ubuntu/work/autocalib/lib/python3.8/site-packages (from requests->huggingface-hub->timm) (2020.12.5)\n",
      "Requirement already satisfied: idna<3,>=2.5 in /home/ubuntu/work/autocalib/lib/python3.8/site-packages (from requests->huggingface-hub->timm) (2.10)\n",
      "Requirement already satisfied: setuptools in /home/ubuntu/work/autocalib/lib/python3.8/site-packages (from nvidia-cublas-cu11==11.10.3.66->torch>=1.7->timm) (44.0.0)\n",
      "Requirement already satisfied: wheel in /home/ubuntu/work/autocalib/lib/python3.8/site-packages (from nvidia-cublas-cu11==11.10.3.66->torch>=1.7->timm) (0.38.4)\n"
>>>>>>> c830e5e6d913dbf6cd60f57e577dcba9434566cd
     ]
    }
   ],
   "source": [
    "!pip install timm"
<<<<<<< HEAD
=======
   ]
  },
  {
   "cell_type": "code",
   "execution_count": 2,
   "id": "4470a5fa",
   "metadata": {},
   "outputs": [],
   "source": [
    "import boto3"
   ]
  },
  {
   "cell_type": "code",
   "execution_count": 13,
   "id": "6856bdbe",
   "metadata": {},
   "outputs": [
    {
     "name": "stdout",
     "output_type": "stream",
     "text": [
      "sub folder :  kitti/kitti_odometry/data_odometry_gray/dataset/\n"
     ]
    }
   ],
   "source": [
    "import boto3\n",
    "bucket = 'sj.moon-rawdata'\n",
    "#Make sure you provide / in the end\n",
    "prefix = 'kitti/kitti_odometry/data_odometry_gray/dataset/'  \n",
    "\n",
    "client = boto3.client('s3')\n",
    "result = client.list_objects(Bucket=bucket, Prefix=prefix, Delimiter='/')\n",
    "for o in result.get('CommonPrefixes'):\n",
    "    print ('sub folder : ', o.get('Prefix'))"
   ]
  },
  {
   "cell_type": "code",
   "execution_count": null,
   "id": "554dfe5a",
   "metadata": {},
   "outputs": [],
   "source": [
    "import torch\n",
    "print(torch.cuda.is_available())"
>>>>>>> c830e5e6d913dbf6cd60f57e577dcba9434566cd
   ]
  }
 ],
 "metadata": {
  "kernelspec": {
   "display_name": "Python 3.8.10 ('autocalib')",
   "language": "python",
   "name": "python3"
  },
  "language_info": {
   "codemirror_mode": {
    "name": "ipython",
    "version": 3
   },
   "file_extension": ".py",
   "mimetype": "text/x-python",
   "name": "python",
   "nbconvert_exporter": "python",
   "pygments_lexer": "ipython3",
   "version": "3.8.10"
  },
  "vscode": {
   "interpreter": {
    "hash": "5c3f4d3df15efa705634943e19c7ad604a0e2bdc615d197bc6b002a81fa36d34"
   }
  }
 },
 "nbformat": 4,
 "nbformat_minor": 5
}
