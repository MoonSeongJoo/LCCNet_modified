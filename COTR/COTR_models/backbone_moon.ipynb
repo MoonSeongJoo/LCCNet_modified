{
 "cells": [
  {
   "cell_type": "code",
   "execution_count": null,
   "id": "numerous-catering",
   "metadata": {},
   "outputs": [],
   "source": [
    "import os,sys\n",
    "sys.path.append(\"/root/work/LCCNet_Moon/COTR\")"
   ]
  },
  {
   "cell_type": "code",
   "execution_count": null,
   "id": "removable-allowance",
   "metadata": {},
   "outputs": [],
   "source": [
    "sys.path.remove(sys.path[-1])"
   ]
  },
  {
   "cell_type": "code",
   "execution_count": null,
   "id": "individual-carnival",
   "metadata": {},
   "outputs": [],
   "source": [
    "sys.path.append(os.path.abspath(\"../utils\"))\n",
    "sys.path"
   ]
  },
  {
   "cell_type": "code",
   "execution_count": 1,
   "id": "hairy-original",
   "metadata": {},
   "outputs": [],
   "source": [
    "from collections import OrderedDict\n",
    "\n",
    "import torch\n",
    "import torch.nn.functional as F\n",
    "import torchvision\n",
    "from torch import nn\n",
    "from torchvision.models._utils import IntermediateLayerGetter\n",
    "from typing import Dict, List\n",
    "\n",
    "from misc import NestedTensor\n",
    "\n",
    "from position_encoding import build_position_encoding\n",
    "from utils import debug_utils, constants"
   ]
  },
  {
   "cell_type": "code",
   "execution_count": 2,
   "id": "mysterious-regard",
   "metadata": {},
   "outputs": [
    {
     "data": {
      "text/plain": [
       "['/root/work/LCCNet_Moon/COTR/COTR_models',\n",
       " '/root/venv/lib/python38.zip',\n",
       " '/root/venv/lib/python3.8',\n",
       " '/root/venv/lib/python3.8/lib-dynload',\n",
       " '/usr/lib/python3.8',\n",
       " '',\n",
       " '/root/venv/lib/python3.8/site-packages',\n",
       " '/root/venv/lib/python3.8/site-packages/IPython/extensions',\n",
       " '/root/.ipython',\n",
       " '/root/work/LCCNet_Moon/COTR']"
      ]
     },
     "execution_count": 2,
     "metadata": {},
     "output_type": "execute_result"
    }
   ],
   "source": [
    "import os,sys\n",
    "sys.path"
   ]
  },
  {
   "cell_type": "code",
   "execution_count": null,
   "id": "aware-candy",
   "metadata": {},
   "outputs": [],
   "source": []
  }
 ],
 "metadata": {
  "kernelspec": {
   "display_name": "Python 3",
   "language": "python",
   "name": "python3"
  },
  "language_info": {
   "codemirror_mode": {
    "name": "ipython",
    "version": 3
   },
   "file_extension": ".py",
   "mimetype": "text/x-python",
   "name": "python",
   "nbconvert_exporter": "python",
   "pygments_lexer": "ipython3",
   "version": "3.8.0"
  }
 },
 "nbformat": 4,
 "nbformat_minor": 5
}
