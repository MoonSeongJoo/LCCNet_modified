{
 "cells": [
  {
   "cell_type": "code",
   "execution_count": null,
   "id": "beneficial-visiting",
   "metadata": {},
   "outputs": [],
   "source": [
    "import os,sys\n",
    "sys.path.append(\"/root/work/LCCNet_Moon/COTR\")"
   ]
  },
  {
   "cell_type": "code",
   "execution_count": null,
   "id": "determined-incident",
   "metadata": {},
   "outputs": [],
   "source": [
    "sys.path.remove(sys.path[-1])"
   ]
  },
  {
   "cell_type": "code",
   "execution_count": null,
   "id": "derived-competition",
   "metadata": {},
   "outputs": [],
   "source": [
    "sys.path.append(os.path.abspath(\"../utils\"))\n",
    "sys.path"
   ]
  },
  {
   "cell_type": "code",
   "execution_count": 1,
   "id": "split-grenada",
   "metadata": {},
   "outputs": [],
   "source": [
    "from collections import OrderedDict\n",
    "\n",
    "import torch\n",
    "import torch.nn.functional as F\n",
    "import torchvision\n",
    "from torch import nn\n",
    "from torchvision.models._utils import IntermediateLayerGetter\n",
    "from typing import Dict, List\n",
    "\n",
    "from misc import NestedTensor\n",
    "\n",
    "from position_encoding import build_position_encoding\n",
    "from utils import debug_utils, constants"
   ]
  },
  {
   "cell_type": "code",
   "execution_count": null,
   "id": "widespread-traveler",
   "metadata": {},
   "outputs": [],
   "source": [
    "import os,sys\n",
    "sys.path"
   ]
  },
  {
   "cell_type": "code",
   "execution_count": null,
   "id": "silent-consolidation",
   "metadata": {},
   "outputs": [],
   "source": []
  }
 ],
 "metadata": {
  "kernelspec": {
   "display_name": "Python 3",
   "language": "python",
   "name": "python3"
  },
  "language_info": {
   "codemirror_mode": {
    "name": "ipython",
    "version": 3
   },
   "file_extension": ".py",
   "mimetype": "text/x-python",
   "name": "python",
   "nbconvert_exporter": "python",
   "pygments_lexer": "ipython3",
   "version": "3.8.0"
  }
 },
 "nbformat": 4,
 "nbformat_minor": 5
}
