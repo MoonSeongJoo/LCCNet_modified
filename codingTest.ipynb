{
 "cells": [
  {
   "cell_type": "code",
   "execution_count": 2,
   "metadata": {},
   "outputs": [],
   "source": [
    "def solution(grid):\n",
    "    R, C = len(grid), len(grid[0])\n",
    "    dxy = [(-1, 0), (0, 1), (1, 0), (0, -1)]  # 상우하좌\n",
    "    grf = [[[0,0,0,0] for _ in range(C)] for _ in range(R)]  # 상우하좌\n",
    "\n",
    "\n",
    "    def solve(x, y, d):\n",
    "        res = 0\n",
    "        while not grf[x][y][d]:\n",
    "            grf[x][y][d] = 1\n",
    "            x, y = (x+dxy[d][0]) % R, (y+dxy[d][1]) % C\n",
    "            if grid[x][y] == 'L': d = (d+1) % 4\n",
    "            elif grid[x][y] == 'R': d = (d-1) % 4\n",
    "            res += 1\n",
    "        return res\n",
    "\n",
    "\n",
    "    ans = []\n",
    "    for i in range(R):\n",
    "        for j in range(C):\n",
    "            for k in range(4):\n",
    "                if grf[i][j][k] == 0:\n",
    "                    ans.append(solve(i, j, k))             \n",
    "    return sorted(ans)"
   ]
  },
  {
   "cell_type": "code",
   "execution_count": 4,
   "metadata": {},
   "outputs": [
    {
     "data": {
      "text/plain": [
       "[1, 1, 1, 1, 2, 2]"
      ]
     },
     "execution_count": 4,
     "metadata": {},
     "output_type": "execute_result"
    }
   ],
   "source": [
    "solution([\"S\",\"S\"])"
   ]
  },
  {
   "attachments": {},
   "cell_type": "markdown",
   "metadata": {},
   "source": [
    "프로그래머스 level2 호텔 객실 문제 "
   ]
  },
  {
   "cell_type": "code",
   "execution_count": 18,
   "metadata": {},
   "outputs": [],
   "source": [
    "str =[[\"15:00\", \"17:00\"], [\"16:40\", \"18:20\"], [\"14:20\", \"15:20\"], [\"14:10\", \"19:20\"], [\"18:20\", \"21:20\"]]\n",
    "\n",
    "from heapq import heappop, heappush\n",
    "\n",
    "def solution(book_time):\n",
    "    answer = 1\n",
    "\n",
    "    # \"HH:MM\" → HH * 60 + MM\n",
    "    book_time_ref = [(int(s[:2]) * 60 + int(s[3:]), int(e[:2]) * 60 + int(e[3:])) for s, e in book_time]\n",
    "    book_time_ref.sort()\n",
    "\n",
    "    heap = []\n",
    "    for s, e in book_time_ref:\n",
    "        if not heap:\n",
    "            heappush(heap,e)\n",
    "            continue\n",
    "        if heap[0] <= s:\n",
    "            heappop(heap)\n",
    "        else:\n",
    "            answer += 1\n",
    "        heappush(heap,e+10)\n",
    "\n",
    "    return answer"
   ]
  },
  {
   "cell_type": "code",
   "execution_count": 19,
   "metadata": {},
   "outputs": [
    {
     "data": {
      "text/plain": [
       "3"
      ]
     },
     "execution_count": 19,
     "metadata": {},
     "output_type": "execute_result"
    }
   ],
   "source": [
    "solution (str)"
   ]
  },
  {
   "attachments": {},
   "cell_type": "markdown",
   "metadata": {},
   "source": [
    "#4 난이도2 덧칠하기"
   ]
  },
  {
   "cell_type": "code",
   "execution_count": 39,
   "metadata": {},
   "outputs": [],
   "source": [
    "def solution(n, m, section):\n",
    "    wall = [1] * n\n",
    "    clean_cnt = 0\n",
    "    for idx,val in enumerate(wall) :\n",
    "        if idx in section:\n",
    "            wall[idx] = 0\n",
    "\n",
    "    for j in range(n):\n",
    "        if wall[j] == 0:\n",
    "            clean_cnt = clean_cnt + 1\n",
    "            wall[j:j+(m-1)] = [1] * (m-1)\n",
    "        \n",
    "    return clean_cnt"
   ]
  },
  {
   "cell_type": "code",
   "execution_count": 48,
   "metadata": {},
   "outputs": [
    {
     "data": {
      "text/plain": [
       "1"
      ]
     },
     "execution_count": 48,
     "metadata": {},
     "output_type": "execute_result"
    }
   ],
   "source": [
    "wall = [1] * 4\n",
    "section = [1,2,3,4]\n",
    "# clean_cnt = 0 \n",
    "# for idx,val in enumerate(wall) :\n",
    "#     if idx in section:\n",
    "#         wall[idx] = 0\n",
    "\n",
    "# for j in range(7):\n",
    "#     if wall[j] == 0:\n",
    "#         clean_cnt += 1\n",
    "#         wall[j:j+3] = [1] * 3\n",
    "\n",
    "from collections import deque\n",
    "q = deque(section)\n",
    "q1 = q and q[0]\n",
    "q[0]"
   ]
  },
  {
   "cell_type": "code",
   "execution_count": 42,
   "metadata": {},
   "outputs": [
    {
     "data": {
      "text/plain": [
       "3"
      ]
     },
     "execution_count": 42,
     "metadata": {},
     "output_type": "execute_result"
    }
   ],
   "source": [
    "solution(8,4,[2,3,6])\n",
    "solution(4,1,[1,2,3,4])"
   ]
  },
  {
   "attachments": {},
   "cell_type": "markdown",
   "metadata": {},
   "source": [
    "#5 난이도2 무인도 여행"
   ]
  },
  {
   "attachments": {},
   "cell_type": "markdown",
   "metadata": {},
   "source": []
  },
  {
   "cell_type": "code",
   "execution_count": 54,
   "metadata": {},
   "outputs": [
    {
     "data": {
      "text/plain": [
       "5"
      ]
     },
     "execution_count": 54,
     "metadata": {},
     "output_type": "execute_result"
    }
   ],
   "source": [
    "maps = [\"X591X\",\"X1X5X\",\"X231X\", \"1XXX1\"]\n",
    "len(maps[0])"
   ]
  },
  {
   "cell_type": "code",
   "execution_count": 57,
   "metadata": {},
   "outputs": [
    {
     "data": {
      "text/plain": [
       "0"
      ]
     },
     "execution_count": 57,
     "metadata": {},
     "output_type": "execute_result"
    }
   ],
   "source": [
    "adj = [[] for _ in range(5+1)] # 리스트 안에다가 빈리스트 []를 6개 만들어라. \n",
    "adj[0]"
   ]
  },
  {
   "attachments": {},
   "cell_type": "markdown",
   "metadata": {},
   "source": [
    "#6 난이도2 점찍기"
   ]
  },
  {
   "cell_type": "code",
   "execution_count": 15,
   "metadata": {},
   "outputs": [],
   "source": [
    "from math import sqrt,pow\n",
    "def solution(k,d):\n",
    "    cnt = 0\n",
    "    dist = 0 \n",
    "    for i in range(1000000):\n",
    "        if k*i < d:\n",
    "            cnt += 1\n",
    "        else :\n",
    "            break\n",
    "    for i in range(1000000):\n",
    "        if k*i < d:\n",
    "            cnt += 1\n",
    "        else :\n",
    "            break\n",
    "    for i in range(1000000):\n",
    "        dist = int(sqrt(pow(k*i,2))) \n",
    "        if dist < d :\n",
    "            cnt += 1\n",
    "        else:\n",
    "            break\n",
    "    return cnt\n",
    "\n",
    "        \n",
    "    "
   ]
  },
  {
   "cell_type": "code",
   "execution_count": 17,
   "metadata": {},
   "outputs": [
    {
     "name": "stdout",
     "output_type": "stream",
     "text": [
      "14\n"
     ]
    }
   ],
   "source": [
    "print (solution(1,5))"
   ]
  },
  {
   "attachments": {},
   "cell_type": "markdown",
   "metadata": {},
   "source": [
    "#8 난이도2 미로 찾기 문제"
   ]
  },
  {
   "cell_type": "code",
   "execution_count": 19,
   "metadata": {},
   "outputs": [
    {
     "data": {
      "text/plain": [
       "[[1, 0, 1, 1, 1],\n",
       " [1, 0, 1, 0, 1],\n",
       " [1, 0, 1, 1, 1],\n",
       " [1, 1, 1, 0, 1],\n",
       " [0, 0, 0, 0, 1]]"
      ]
     },
     "execution_count": 19,
     "metadata": {},
     "output_type": "execute_result"
    }
   ],
   "source": [
    "[[1,0,1,1,1],[1,0,1,0,1],[1,0,1,1,1],[1,1,1,0,1],[0,0,0,0,1]]"
   ]
  },
  {
   "cell_type": "code",
   "execution_count": 20,
   "metadata": {},
   "outputs": [],
   "source": [
    "def solution(v,a,b):\n",
    "    fuela= [a]\n",
    "    fuelb=[b]*(len(v)-1)\n",
    "    fuel = fuela + fuelb\n",
    "\n",
    "    time = 0\n",
    "    \n",
    "    while True:\n",
    "        v.sort(reverse=True)\n",
    "        if v[0] < a or v[-1] <b :\n",
    "            break\n",
    "        v= [v[i]-fuel[i] for i in range(len(v))]\n",
    "        time += 1\n",
    "    return time"
   ]
  },
  {
   "cell_type": "code",
   "execution_count": 22,
   "metadata": {},
   "outputs": [
    {
     "name": "stdout",
     "output_type": "stream",
     "text": [
      "3\n"
     ]
    }
   ],
   "source": [
    "print(solution([4,5,5],2,1))"
   ]
  },
  {
   "cell_type": "code",
   "execution_count": 35,
   "metadata": {},
   "outputs": [
    {
     "name": "stdout",
     "output_type": "stream",
     "text": [
      "[(1, 1), (1, 5), (3, 10), (4, 4), (5, 4), (5, 9), (6, 6), (7, 2), (7, 6), (8, 6)]\n"
     ]
    }
   ],
   "source": [
    "x=[5,5,6,3,4,1,1,8,7,7]\n",
    "y=[9,4,6,10,4,1,5,6,6,2]\n",
    "xy =list(zip(x,y))\n",
    "xy1=sorted(xy)\n",
    "print(xy1)\n"
   ]
  },
  {
   "cell_type": "code",
   "execution_count": 62,
   "metadata": {},
   "outputs": [
    {
     "name": "stdout",
     "output_type": "stream",
     "text": [
      "[(5, 4), (6, 6), (4, 4), (8, 6), (7, 6)]\n",
      "[(4, 4), (5, 4), (6, 6), (7, 6), (8, 6)]\n"
     ]
    }
   ],
   "source": [
    "x=[5,5,6,3,4,1,1,8,7,7]\n",
    "y=[9,4,6,10,4,1,5,6,6,2]\n",
    "\n",
    "duplicates = [(x[i], y[i]) for i in range(len(y)) if y.count(y[i]) > 1]\n",
    "duplicates_y = [ y[i] for i in range(len(y)) if y.count(y[i]) > 1]\n",
    "print(duplicates)\n",
    "print(duplicates_y)\n",
    "# duplicates_x_values = []\n",
    "# duplicates_y_values = []\n",
    "# xy=[]\n",
    "# for index in duplicates:\n",
    "#     duplicates_x_values.append(x[index])\n",
    "#     duplicates_y_values.append(y[index])\n",
    "    \n",
    "# print(duplicates_x_values)\n",
    "# print(duplicates_y_values)\n",
    "# xy = list(zip(duplicates_x_values, duplicates_y_values))\n",
    "# print(xy)\n",
    "# xy1=sorted(xy)\n",
    "# print(xy1)\n"
   ]
  },
  {
   "attachments": {},
   "cell_type": "markdown",
   "metadata": {},
   "source": [
    "코딩테스트 #1 사다리꼴 면적 구하는 문제"
   ]
  },
  {
   "cell_type": "code",
   "execution_count": 2,
   "metadata": {},
   "outputs": [],
   "source": [
    "def solution(x, y):\n",
    "    dup_y_vals = [y[i] for i in range(len(y)) if y.count(y[i]) > 1]\n",
    "    to_set = set(dup_y_vals)  # 집합set으로 변환\n",
    "    dup_y_vals = list(to_set)  # list로 변환\n",
    "\n",
    "    y_with_x_widths = []\n",
    "    max_area = 0\n",
    "    for y_val in dup_y_vals:\n",
    "        idxs = [i for i in range(len(y)) if y[i] == y_val]\n",
    "        x_values = [x[idx] for idx in idxs]\n",
    "        max_width = max(x_values) - min(x_values)\n",
    "        y_with_x_widths.append((y_val, max_width))\n",
    "\n",
    "\n",
    "    for i in range(len(y_with_x_widths)-1):\n",
    "        for j in range(1, len(y_with_x_widths)):\n",
    "            max_area = max(areaValue(y_with_x_widths[i], y_with_x_widths[j]), max_area)\n",
    "    print(max_area)\n",
    "    return \"-\"\n",
    "\n",
    "def areaValue(xy1, xy2): #두 변은 평행하다 가정.\n",
    "    #x1, y1, x2, y2 는 축과 평행한 직선의 좌표\n",
    "    return (xy1[1] + xy2[1]) * abs(xy2[0]-xy1[0])"
   ]
  },
  {
   "cell_type": "code",
   "execution_count": 3,
   "metadata": {},
   "outputs": [
    {
     "name": "stdout",
     "output_type": "stream",
     "text": [
      "66\n"
     ]
    },
    {
     "data": {
      "text/plain": [
       "'-'"
      ]
     },
     "execution_count": 3,
     "metadata": {},
     "output_type": "execute_result"
    }
   ],
   "source": [
    "solution([2,3,4,4,7,6,3,9,9,6,5,8,6,4],[5,9,5,1,3,1,3,3,8,7,10,9,9,8])"
   ]
  },
  {
   "attachments": {},
   "cell_type": "markdown",
   "metadata": {},
   "source": [
    "#2 군집 주행 연료 계산"
   ]
  },
  {
   "cell_type": "code",
   "execution_count": 4,
   "metadata": {},
   "outputs": [],
   "source": [
    "def solution(v,a,b):\n",
    "    fuela= [a]\n",
    "    fuelb=[b]*(len(v)-1)\n",
    "    fuel = fuela + fuelb\n",
    "    print('fuel' , fuel)\n",
    "    time = 0\n",
    "    while True:\n",
    "        v.sort(reverse=True)\n",
    "        if v[0] < a or v[-1] <b :\n",
    "            break\n",
    "        v= [v[i]-fuel[i] for i in range(len(v))]\n",
    "        time += 1\n",
    "    return time"
   ]
  },
  {
   "cell_type": "code",
   "execution_count": 5,
   "metadata": {},
   "outputs": [
    {
     "data": {
      "text/plain": [
       "3"
      ]
     },
     "execution_count": 5,
     "metadata": {},
     "output_type": "execute_result"
    }
   ],
   "source": [
    "solution ([5,4,4],2,1)"
   ]
  },
  {
   "cell_type": "markdown",
   "metadata": {},
   "source": []
  },
  {
   "cell_type": "code",
   "execution_count": 6,
   "metadata": {},
   "outputs": [
    {
     "ename": "RuntimeError",
     "evalue": "expand(torch.FloatTensor{[100, 3]}, size=[3]): the number of sizes provided (1) must be greater or equal to the number of dimensions in the tensor (2)",
     "output_type": "error",
     "traceback": [
      "\u001b[0;31m---------------------------------------------------------------------------\u001b[0m",
      "\u001b[0;31mRuntimeError\u001b[0m                              Traceback (most recent call last)",
      "\u001b[0;32m<ipython-input-6-1c27791d8bc1>\u001b[0m in \u001b[0;36m<module>\u001b[0;34m\u001b[0m\n\u001b[1;32m     17\u001b[0m \u001b[0;34m\u001b[0m\u001b[0m\n\u001b[1;32m     18\u001b[0m \u001b[0;32mfor\u001b[0m \u001b[0mi\u001b[0m \u001b[0;32min\u001b[0m \u001b[0mrange\u001b[0m\u001b[0;34m(\u001b[0m\u001b[0mk\u001b[0m\u001b[0;34m)\u001b[0m\u001b[0;34m:\u001b[0m\u001b[0;34m\u001b[0m\u001b[0;34m\u001b[0m\u001b[0m\n\u001b[0;32m---> 19\u001b[0;31m     \u001b[0mtop_A\u001b[0m\u001b[0;34m[\u001b[0m\u001b[0mi\u001b[0m\u001b[0;34m]\u001b[0m \u001b[0;34m=\u001b[0m \u001b[0mA\u001b[0m\u001b[0;34m[\u001b[0m\u001b[0mtop_indices\u001b[0m\u001b[0;34m[\u001b[0m\u001b[0;34m:\u001b[0m\u001b[0;34m,\u001b[0m \u001b[0mi\u001b[0m\u001b[0;34m]\u001b[0m\u001b[0;34m,\u001b[0m \u001b[0;34m:\u001b[0m\u001b[0;34m]\u001b[0m\u001b[0;34m\u001b[0m\u001b[0;34m\u001b[0m\u001b[0m\n\u001b[0m\u001b[1;32m     20\u001b[0m     \u001b[0mtop_B\u001b[0m\u001b[0;34m[\u001b[0m\u001b[0mi\u001b[0m\u001b[0;34m]\u001b[0m \u001b[0;34m=\u001b[0m \u001b[0mB\u001b[0m\u001b[0;34m[\u001b[0m\u001b[0mtop_indices\u001b[0m\u001b[0;34m[\u001b[0m\u001b[0;34m:\u001b[0m\u001b[0;34m,\u001b[0m \u001b[0mi\u001b[0m\u001b[0;34m]\u001b[0m\u001b[0;34m,\u001b[0m \u001b[0;34m:\u001b[0m\u001b[0;34m]\u001b[0m\u001b[0;34m\u001b[0m\u001b[0;34m\u001b[0m\u001b[0m\n\u001b[1;32m     21\u001b[0m \u001b[0;34m\u001b[0m\u001b[0m\n",
      "\u001b[0;31mRuntimeError\u001b[0m: expand(torch.FloatTensor{[100, 3]}, size=[3]): the number of sizes provided (1) must be greater or equal to the number of dimensions in the tensor (2)"
     ]
    }
   ],
   "source": [
    "import torch\n",
    "\n",
    "# 배열 A와 B 생성\n",
    "A = torch.randn(100, 3)\n",
    "B = torch.randn(100, 3)\n",
    "\n",
    "# pair wise distance 계산\n",
    "distances = torch.cdist(A, B)\n",
    "\n",
    "# 가장 유사한 점 10개를 찾음\n",
    "k = 10\n",
    "top_indices = torch.topk(distances, k=k, dim=1, largest=False).indices\n",
    "\n",
    "# A와 B의 가장 유사한 점 10개 인덱싱\n",
    "top_A = torch.zeros((k, 3))\n",
    "top_B = torch.zeros((k, 3))\n",
    "\n",
    "for i in range(k):\n",
    "    top_A[i] = A[top_indices[:, i], :]\n",
    "    top_B[i] = B[top_indices[:, i], :]\n",
    "\n",
    "# 결과 출력\n",
    "print(\"A의 가장 유사한 점 10개:\")\n",
    "print(top_A)\n",
    "print(\"\\nB의 가장 유사한 점 10개:\")\n",
    "print(top_B)\n"
   ]
  },
  {
   "cell_type": "code",
   "execution_count": 6,
   "metadata": {},
   "outputs": [
    {
     "name": "stdout",
     "output_type": "stream",
     "text": [
      "\n",
      "상위 10개 값의 A 배열 인덱싱 결과:\n",
      "torch.Size([10, 3])\n",
      "\n",
      "상위 10개 값의 B 배열 인덱싱 결과:\n",
      "torch.Size([10, 3])\n"
     ]
    }
   ],
   "source": [
    "import torch\n",
    "import numpy as np\n",
    "\n",
    "# 배열 A와 B 생성\n",
    "A = torch.randn(100, 3)\n",
    "B = torch.randn(100, 3)\n",
    "\n",
    "# pair wise distance 계산\n",
    "distances = torch.cdist(A, B)\n",
    "\n",
    "# 가장 유사한 점 k개를 찾음\n",
    "k = 10\n",
    "top_indices = torch.topk(distances.flatten(), k=k, largest=False)\n",
    "top_indices = top_indices.indices\n",
    "indices = np.unravel_index(top_indices, distances.shape)\n",
    "top_indices = np.asarray(top_indices).T\n",
    "\n",
    "top_A = A[indices[0]]\n",
    "top_B = B[indices[1]]\n",
    "print(\"\\n상위 {}개 값의 A 배열 인덱싱 결과:\".format(k))\n",
    "print(top_A.shape)\n",
    "\n",
    "print(\"\\n상위 {}개 값의 B 배열 인덱싱 결과:\".format(k))\n",
    "print(top_B.shape)"
   ]
  }
 ],
 "metadata": {
  "kernelspec": {
   "display_name": "venv",
   "language": "python",
   "name": "python3"
  },
  "language_info": {
   "codemirror_mode": {
    "name": "ipython",
    "version": 3
   },
   "file_extension": ".py",
   "mimetype": "text/x-python",
   "name": "python",
   "nbconvert_exporter": "python",
   "pygments_lexer": "ipython3",
   "version": "3.8.0"
  },
  "orig_nbformat": 4,
  "vscode": {
   "interpreter": {
    "hash": "4b195c9ba378eb519b14e7f259b82f2dffeee53eaf931c5b8aa204642c58cd1a"
   }
  }
 },
 "nbformat": 4,
 "nbformat_minor": 2
}
