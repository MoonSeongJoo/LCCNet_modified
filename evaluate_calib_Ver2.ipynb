{
 "cells": [
  {
   "cell_type": "code",
   "execution_count": 1,
   "id": "macro-interaction",
   "metadata": {},
   "outputs": [
    {
     "name": "stdout",
     "output_type": "stream",
     "text": [
      "Jupyter environment detected. Enabling Open3D WebVisualizer.\n",
      "[Open3D INFO] WebRTC GUI backend enabled.\n",
      "[Open3D INFO] WebRTCWindowSystem: HTTP handshake server disabled.\n",
      "cannot use vispy, setting triangulate_corr as None\n"
     ]
    }
   ],
   "source": [
    "import csv\n",
    "import random\n",
    "import open3d as o3\n",
    "\n",
    "import cv2\n",
    "import mathutils\n",
    "# import matplotlib\n",
    "# matplotlib.use('Qt5Agg')\n",
    "import os\n",
    "import matplotlib.pyplot as plt\n",
    "import numpy as np\n",
    "import torch\n",
    "import torch.nn.functional as F\n",
    "import torch.nn.parallel\n",
    "import torch.utils.data\n",
    "from torchvision.transforms import functional as tvtf\n",
    "from sacred import Experiment\n",
    "from sacred.utils import apply_backspaces_and_linefeeds\n",
    "from skimage import io\n",
    "from tqdm import tqdm\n",
    "import time\n",
    "\n",
    "#from models.LCCNet import LCCNet\n",
    "\n",
    "from LCCNet_COTR_moon_Ver2 import LCCNet\n",
    "\n",
    "from quaternion_distances import quaternion_distance\n",
    "from utils import (mat2xyzrpy, merge_inputs, overlay_imgs, quat2mat,\n",
    "                   quaternion_from_matrix, rotate_back, rotate_forward,\n",
    "                   tvector2mat)\n",
    "\n",
    "from torch.utils.data import Dataset\n",
    "from pykitti import odometry\n",
    "import pandas as pd\n",
    "from PIL import Image\n",
    "from math import radians\n",
    "from utils import invert_pose\n",
    "from torchvision import transforms\n",
    "#sacred read-only function error correct!!\n",
    "from sacred import SETTINGS \n",
    "SETTINGS.CONFIG.READ_ONLY_CONFIG = False"
   ]
  },
  {
   "cell_type": "code",
   "execution_count": 2,
   "id": "powerful-receptor",
   "metadata": {},
   "outputs": [],
   "source": [
    "class DatasetTest(Dataset):\n",
    "\n",
    "    def __init__(self, dataset_dir, transform=None, augmentation=False, use_reflectance=False,\n",
    "                 max_t=1.5, max_r=20., split='random', device='cpu', test_sequence='00', est='rot'):\n",
    "        super(DatasetTest, self).__init__()\n",
    "        self.use_reflectance = use_reflectance\n",
    "        self.maps_folder = ''\n",
    "        self.device = device\n",
    "        self.max_r = max_r\n",
    "        self.max_t = max_t\n",
    "        self.augmentation = augmentation\n",
    "        self.root_dir = dataset_dir\n",
    "        self.transform = transform\n",
    "        self.split = split\n",
    "        self.GTs_R = {}\n",
    "        self.GTs_T = {}\n",
    "        self.GTs_T_cam02_velo = {}\n",
    "        self.K = {}\n",
    "\n",
    "        self.all_files = []\n",
    "\n",
    "        self.calib_path =\"data_odometry_calib\"\n",
    "        self.image_path =\"data_odometry_color\"\n",
    "        self.velodyne_path = \"data_odometry_velodyne\"\n",
    "        self.imagegray_path = \"data_odometry_gray\"\n",
    "        self.poses_path = \"data_odometry_poses\"\n",
    "        self.val_RT_path = \"data_odometry_valRT\"\n",
    "        self.test_RT_path = \"data_odometry_testRT\"\n",
    "        \n",
    "        self.calib_path_total = os.path.join(dataset_dir,self.calib_path,\"dataset\")\n",
    "        self.image_path_total = os.path.join(dataset_dir,self.image_path,\"dataset\")\n",
    "        self.imagegray_path_total = os.path.join(dataset_dir,self.imagegray_path,\"dataset\")\n",
    "        self.velodyne_path_total = os.path.join(dataset_dir,self.velodyne_path,\"dataset\")\n",
    "        self.poses_path_total = os.path.join(dataset_dir,self.poses_path,\"dataset\",\"poses\")\n",
    "        self.val_RT_path_total = os.path.join(dataset_dir,self.val_RT_path,\"dataset\")\n",
    "        self.test_RT_path_total = os.path.join(dataset_dir,self.test_RT_path,\"dataset\")\n",
    "\n",
    "        seq = test_sequence\n",
    "        odom = odometry(self.calib_path_total, self.poses_path_total, seq)\n",
    "        calib = odom.calib\n",
    "        T_cam02_velo_np = calib.T_cam2_velo #gt pose from cam02 to velo_lidar (T_cam02_velo: 4x4)\n",
    "        self.K[seq] = calib.K_cam2 # 3x3\n",
    "        T_cam02_velo = torch.from_numpy(T_cam02_velo_np)\n",
    "        GT_R = quaternion_from_matrix(T_cam02_velo[:3, :3])\n",
    "        GT_T = T_cam02_velo[3:, :3]\n",
    "        self.GTs_R[seq] = GT_R # GT_R = np.array([row['qw'], row['qx'], row['qy'], row['qz']])\n",
    "        self.GTs_T[seq] = GT_T # GT_T = np.array([row['x'], row['y'], row['z']])\n",
    "        self.GTs_T_cam02_velo[seq] = T_cam02_velo_np #gt pose from cam02 to velo_lidar (T_cam02_velo: 4x4)\n",
    "\n",
    "        image_list = os.listdir(os.path.join(self.image_path_total, 'sequences', seq, 'image_2'))\n",
    "        image_list.sort()\n",
    "\n",
    "        for image_name in image_list:\n",
    "            if not os.path.exists(os.path.join(self.velodyne_path_total, 'sequences', seq, 'velodyne',\n",
    "                                               str(image_name.split('.')[0])+'.bin')):\n",
    "                continue\n",
    "            if not os.path.exists(os.path.join(self.image_path_total, 'sequences', seq, 'image_2',\n",
    "                                               str(image_name.split('.')[0])+'.png')):\n",
    "                continue\n",
    "            self.all_files.append(os.path.join(seq, image_name.split('.')[0]))\n",
    "\n",
    "        self.test_RT = []\n",
    "        if split == 'random':\n",
    "            test_RT_sequences_path = os.path.join(self.test_RT_path_total,\"sequences\")\n",
    "            test_RT_file = os.path.join(self.test_RT_path_total, 'sequences',\n",
    "                                       f'test_RT_seq{test_sequence}_{max_r:.2f}_{max_t:.2f}.csv')\n",
    "            \n",
    "            if not os.path.exists(test_RT_sequences_path):\n",
    "                os.makedirs(test_RT_sequences_path)\n",
    "            if os.path.exists(test_RT_file):\n",
    "                print(f'TEST SET: Using this file: {test_RT_file}')\n",
    "                df_test_RT = pd.read_csv(test_RT_file, sep=',')\n",
    "                for index, row in df_test_RT.iterrows():\n",
    "                    self.test_RT.append(list(row))\n",
    "            else:\n",
    "                print(f'TEST SET - Not found: {test_RT_file}')\n",
    "                print(\"Generating a new one\")\n",
    "                test_RT_file = open(test_RT_file, 'w')\n",
    "                test_RT_file = csv.writer(test_RT_file, delimiter=',')\n",
    "                test_RT_file.writerow(['id', 'tx', 'ty', 'tz', 'rx', 'ry', 'rz'])\n",
    "                for i in range(len(self.all_files)):\n",
    "                    rotz = np.random.uniform(-max_r, max_r) * (3.141592 / 180.0)\n",
    "                    roty = np.random.uniform(-max_r, max_r) * (3.141592 / 180.0)\n",
    "                    rotx = np.random.uniform(-max_r, max_r) * (3.141592 / 180.0)\n",
    "                    transl_x = np.random.uniform(-max_t, max_t)\n",
    "                    transl_y = np.random.uniform(-max_t, max_t)\n",
    "                    # transl_z = np.random.uniform(-max_t, max_t)\n",
    "                    transl_z = np.random.uniform(-max_t, min(max_t, 1.))\n",
    "                    test_RT_file.writerow([i, transl_x, transl_y, transl_z,\n",
    "                                           rotx, roty, rotz])\n",
    "                    self.test_RT.append([float(i), transl_x, transl_y, transl_z,\n",
    "                                         rotx, roty, rotz])\n",
    "\n",
    "            assert len(self.test_RT) == len(self.all_files), \"Something wrong with test RTs\"\n",
    "        elif split == 'constant':\n",
    "            for i in range(len(self.all_files)):\n",
    "                if est == 'rot':\n",
    "                    rotz = np.random.uniform(-max_r, max_r) * (3.141592 / 180.0)\n",
    "                    roty = np.random.uniform(-max_r, max_r) * (3.141592 / 180.0)\n",
    "                    rotx = np.random.uniform(-max_r, max_r) * (3.141592 / 180.0)\n",
    "                    transl_x = max_t\n",
    "                    transl_y = max_t\n",
    "                    transl_z = max_t\n",
    "                elif est == 'tran':\n",
    "                    rotz = max_r * (3.141592 / 180.0)\n",
    "                    roty = max_r * (3.141592 / 180.0)\n",
    "                    rotx = max_r * (3.141592 / 180.0)\n",
    "                    transl_x = np.random.uniform(-max_t, max_t)\n",
    "                    transl_y = np.random.uniform(-max_t, max_t)\n",
    "                    transl_z = np.random.uniform(-max_t, max_t)\n",
    "                # transl_z = np.random.uniform(-max_t, min(max_t, 1.))\n",
    "                self.test_RT.append([i, transl_x, transl_y, transl_z,\n",
    "                                     rotx, roty, rotz])\n",
    "\n",
    "    def get_ground_truth_poses(self, sequence, frame):\n",
    "        return self.GTs_T[sequence][frame], self.GTs_R[sequence][frame]\n",
    "\n",
    "    def custom_transform(self, rgb):\n",
    "        to_tensor = transforms.ToTensor()\n",
    "        normalization = transforms.Normalize(mean=[0.485, 0.456, 0.406],\n",
    "                                             std=[0.229, 0.224, 0.225])\n",
    "\n",
    "        rgb = to_tensor(rgb)\n",
    "        rgb = normalization(rgb)\n",
    "        return rgb\n",
    "\n",
    "    def __len__(self):\n",
    "        return len(self.all_files)\n",
    "\n",
    "    def __getitem__(self, idx):\n",
    "        item = self.all_files[idx]\n",
    "        seq = str(item.split('/')[0])\n",
    "        rgb_name = str(item.split('/')[1])\n",
    "        img_path = os.path.join(self.image_path_total, 'sequences', seq, 'image_2', rgb_name+'.png')\n",
    "        lidar_path = os.path.join(self.velodyne_path_total, 'sequences', seq, 'velodyne', rgb_name+'.bin')\n",
    "        lidar_scan = np.fromfile(lidar_path, dtype=np.float32)\n",
    "        pc = lidar_scan.reshape((-1, 4))\n",
    "        valid_indices = pc[:, 0] < -3.\n",
    "        valid_indices = valid_indices | (pc[:, 0] > 3.)\n",
    "        valid_indices = valid_indices | (pc[:, 1] < -3.)\n",
    "        valid_indices = valid_indices | (pc[:, 1] > 3.)\n",
    "        pc = pc[valid_indices].copy()\n",
    "        if self.use_reflectance:\n",
    "            reflectance = pc[:, 3].copy()\n",
    "            reflectance = torch.from_numpy(reflectance).float()\n",
    "\n",
    "        RT = self.GTs_T_cam02_velo[seq].astype(np.float32)\n",
    "\n",
    "        pc_rot = np.matmul(RT, pc.T)\n",
    "        pc_rot = pc_rot.astype(np.float).T.copy()\n",
    "        pc_in = torch.from_numpy(pc_rot.astype(np.float32))#.float()\n",
    "\n",
    "        if pc_in.shape[1] == 4 or pc_in.shape[1] == 3:\n",
    "            pc_in = pc_in.t()\n",
    "        if pc_in.shape[0] == 3:\n",
    "            homogeneous = torch.ones(pc_in.shape[1]).unsqueeze(0)\n",
    "            pc_in = torch.cat((pc_in, homogeneous), 0)\n",
    "        elif pc_in.shape[0] == 4:\n",
    "            if not torch.all(pc_in[3,:] == 1.):\n",
    "                pc_in[3,:] = 1.\n",
    "        else:\n",
    "            raise TypeError(\"Wrong PointCloud shape\")\n",
    "\n",
    "        img = Image.open(img_path)\n",
    "\n",
    "        try:\n",
    "            img = self.custom_transform(img)\n",
    "        except OSError:\n",
    "            new_idx = np.random.randint(0, self.__len__())\n",
    "            return self.__getitem__(new_idx)\n",
    "\n",
    "\n",
    "        initial_RT = self.test_RT[idx]\n",
    "        rotz = initial_RT[6]\n",
    "        roty = initial_RT[5]\n",
    "        rotx = initial_RT[4]\n",
    "        transl_x = initial_RT[1]\n",
    "        transl_y = initial_RT[2]\n",
    "        transl_z = initial_RT[3]\n",
    "\n",
    "        #R = mathutils.Euler((rotx, roty, rotz), 'XYZ')\n",
    "        R = mathutils.Euler((rotx, roty, rotz))\n",
    "        T = mathutils.Vector((transl_x, transl_y, transl_z))\n",
    "\n",
    "        R, T = invert_pose(R, T)\n",
    "        R, T = torch.tensor(R), torch.tensor(T)\n",
    "        calib = self.K[seq]\n",
    "\n",
    "        sample = {'rgb': img, 'point_cloud': pc_in, 'calib': calib,\n",
    "                  'tr_error': T, 'rot_error': R, 'seq': int(seq), 'img_path': img_path,\n",
    "                  'rgb_name': rgb_name + '.png', 'item': item, 'extrin': RT,\n",
    "                  'initial_RT': initial_RT}\n",
    "\n",
    "        return sample"
   ]
  },
  {
   "cell_type": "code",
   "execution_count": 3,
   "id": "removable-significance",
   "metadata": {},
   "outputs": [],
   "source": [
    "# import matplotlib\n",
    "# matplotlib.rc(\"font\",family='AR PL UMing CN')\n",
    "plt.rcParams['axes.unicode_minus'] = False\n",
    "# plt.rc('font',family='Times New Roman')\n",
    "font_EN = {'family': 'Times New Roman', 'weight': 'normal', 'size': 16}\n",
    "font_CN = {'family': 'AR PL UMing CN', 'weight': 'normal', 'size': 16}\n",
    "plt_size = 10.5\n",
    "\n",
    "ex = Experiment(\"LCCNet-evaluate-iterative\",interactive = True)\n",
    "ex.captured_out_filter = apply_backspaces_and_linefeeds\n",
    "\n",
    "os.environ['CUDA_VISIBLE_DEVICES'] = '0, 1, 2, 3'"
   ]
  },
  {
   "cell_type": "code",
   "execution_count": 4,
   "id": "frank-teach",
   "metadata": {},
   "outputs": [],
   "source": [
    "# noinspection PyUnusedLocal\n",
    "@ex.config\n",
    "def config():\n",
    "    dataset = 'kitti/odom'\n",
    "    data_folder = '/mnt/data/kitti_odometry'\n",
    "    test_sequence = 0\n",
    "    use_prev_output = False\n",
    "    max_t = 1.5\n",
    "    max_r = 20.\n",
    "    occlusion_kernel = 5\n",
    "    occlusion_threshold = 3.0\n",
    "    network = 'Res_f1'\n",
    "    norm = 'bn'\n",
    "    show =  False\n",
    "    use_reflectance = False\n",
    "    weight = None  # List of weights' path, for iterative refinement\n",
    "    #weight =  './pretrained/kitti/kitti_iter1.tar'\n",
    "    save_name = None\n",
    "    # Set to True only if you use two network, the first for rotation and the second for translation\n",
    "    rot_transl_separated = False\n",
    "    random_initial_pose = False\n",
    "    save_log = False\n",
    "    dropout = 0.0\n",
    "    max_depth = 80.\n",
    "    iterative_method = 'single' # ['multi_range', 'single_range', 'single']\n",
    "    output = './output'\n",
    "    save_image = False\n",
    "    outlier_filter = True\n",
    "    outlier_filter_th = 10\n",
    "    out_fig_lg = 'EN' # [EN, CN]\n",
    "\n",
    "weights = [\n",
    "   '/root/work/LCCNet_Moon/checkpoints/kitti/odom/val_seq_00/models/checkpoint_r10.00_t1.00_e0_3.526.tar',\n",
    "   '/root/work/LCCNet_Moon/checkpoints/kitti/odom/val_seq_00/models/checkpoint_r10.00_t1.00_e0_5.349.tar',\n",
    "   '/root/work/LCCNet_Moon/checkpoints/kitti/odom/val_seq_00/models/checkpoint_r10.00_t1.00_e0_5.349.tar',\n",
    "   '/root/work/LCCNet_Moon/checkpoints/kitti/odom/val_seq_00/models/checkpoint_r10.00_t1.00_e0_5.349.tar',\n",
    "   '/root/work/LCCNet_Moon/checkpoints/kitti/odom/val_seq_00/models/checkpoint_r10.00_t1.00_e0_5.349.tar',\n",
    "]\n",
    "\n",
    "\"\"\"\n",
    "weights = [\n",
    "   './pretrained/kitti/kitti_iter1.tar',\n",
    "   './pretrained/kitti/kitti_iter2.tar',\n",
    "   './pretrained/kitti/kitti_iter3.tar',\n",
    "   './pretrained/kitti/kitti_iter4.tar',\n",
    "   './pretrained/kitti/kitti_iter5.tar',\n",
    "]\n",
    "\"\"\"\n",
    "device = torch.device(\"cuda\" if torch.cuda.is_available() else \"cpu\")\n",
    "\n",
    "EPOCH = 1\n",
    "\n",
    "\n",
    "def _init_fn(worker_id, seed):\n",
    "    seed = seed + worker_id + EPOCH * 100\n",
    "    print(f\"Init worker {worker_id} with seed {seed}\")\n",
    "    torch.manual_seed(seed)\n",
    "    np.random.seed(seed)\n",
    "    random.seed(seed)\n",
    "\n",
    "\n",
    "def get_2D_lidar_projection(pcl, cam_intrinsic):\n",
    "    pcl_xyz = cam_intrinsic @ pcl.T\n",
    "    pcl_xyz = pcl_xyz.T\n",
    "    pcl_z = pcl_xyz[:, 2]\n",
    "    pcl_xyz = pcl_xyz / (pcl_xyz[:, 2, None] + 1e-10)\n",
    "    pcl_uv = pcl_xyz[:, :2]\n",
    "\n",
    "    return pcl_uv, pcl_z\n",
    "\n",
    "\n",
    "def lidar_project_depth(pc_rotated, cam_calib, img_shape):\n",
    "    pc_rotated = pc_rotated[:3, :].detach().cpu().numpy()\n",
    "    cam_intrinsic = cam_calib.numpy()\n",
    "    pcl_uv, pcl_z = get_2D_lidar_projection(pc_rotated.T, cam_intrinsic)\n",
    "    mask = (pcl_uv[:, 0] > 0) & (pcl_uv[:, 0] < img_shape[1]) & (pcl_uv[:, 1] > 0) & (\n",
    "            pcl_uv[:, 1] < img_shape[0]) & (pcl_z > 0)\n",
    "    pcl_uv = pcl_uv[mask]\n",
    "    pcl_z = pcl_z[mask]\n",
    "    pcl_uv = pcl_uv.astype(np.uint32)\n",
    "    pcl_z = pcl_z.reshape(-1, 1)\n",
    "    depth_img = np.zeros((img_shape[0], img_shape[1], 1))\n",
    "    depth_img[pcl_uv[:, 1], pcl_uv[:, 0]] = pcl_z\n",
    "    depth_img = torch.from_numpy(depth_img.astype(np.float32))\n",
    "    depth_img = depth_img.cuda()\n",
    "    depth_img = depth_img.permute(2, 0, 1)\n",
    "    pc_valid = pc_rotated.T[mask]\n",
    "\n",
    "    return depth_img, pcl_uv, pc_valid\n",
    "\n",
    "\n",
    "def two_images_side_by_side(img_a, img_b):\n",
    "    assert img_a.shape == img_b.shape, f'{img_a.shape} vs {img_b.shape}'\n",
    "    assert img_a.dtype == img_b.dtype\n",
    "    b, h, w, c = img_a.shape\n",
    "    canvas = np.zeros((b, h, 2 * w, c), dtype=img_a.cpu().numpy().dtype)\n",
    "    canvas[:, :, 0 * w:1 * w, :] = img_a.cpu().numpy()\n",
    "    canvas[:, :, 1 * w:2 * w, :] = img_b.cpu().numpy()\n",
    "    #canvas[:, :, : , 0 * w:1 * w] = img_a.cpu().numpy()\n",
    "    #canvas[:, :, : , 1 * w:2 * w] = img_b.cpu().numpy()\n",
    "    return canvas"
   ]
  },
  {
   "cell_type": "code",
   "execution_count": 5,
   "id": "constitutional-breathing",
   "metadata": {},
   "outputs": [],
   "source": [
    "#@ex.automain\n",
    "@ex.main\n",
    "def main(_config, seed):\n",
    "    global EPOCH, weights\n",
    "    if _config['weight'] is not None:\n",
    "        weights = _config['weight']\n",
    "\n",
    "    if _config['iterative_method'] == 'single':\n",
    "        weights = [weights[0]]\n",
    "\n",
    "    # dataset_class = DatasetLidarCameraKittiOdometry\n",
    "    dataset_class = DatasetTest\n",
    "    img_shape = (384, 1280)\n",
    "    input_size = (256, 512)\n",
    "\n",
    "    # split = 'test'\n",
    "    if _config['random_initial_pose']:\n",
    "        split = 'test_random'\n",
    "\n",
    "    if _config['test_sequence'] is None:\n",
    "        raise TypeError('test_sequences cannot be None')\n",
    "    else:\n",
    "        if isinstance(_config['test_sequence'], int):\n",
    "            _config['test_sequence'] = f\"{_config['test_sequence']:02d}\"\n",
    "        # dataset_val = dataset_class(_config['data_folder'], max_r=_config['max_r'], max_t=_config['max_t'],\n",
    "        #                             split=split, use_reflectance=_config['use_reflectance'],\n",
    "        #                             val_sequence=_config['test_sequence'])\n",
    "        dataset_val = dataset_class(_config['data_folder'], max_r=_config['max_r'], max_t=_config['max_t'],\n",
    "                                    split='random', use_reflectance=_config['use_reflectance'],\n",
    "                                    test_sequence=_config['test_sequence'], est='rot')\n",
    "\n",
    "    np.random.seed(seed)\n",
    "    torch.random.manual_seed(seed)\n",
    "\n",
    "    def init_fn(x):\n",
    "        return _init_fn(x, seed)\n",
    "\n",
    "    num_worker = 6\n",
    "    batch_size = 1\n",
    "\n",
    "    TestImgLoader = torch.utils.data.DataLoader(dataset=dataset_val,\n",
    "                                                shuffle=False,\n",
    "                                                batch_size=batch_size,\n",
    "                                                num_workers=num_worker,\n",
    "                                                worker_init_fn=init_fn,\n",
    "                                                collate_fn=merge_inputs,\n",
    "                                                drop_last=False,\n",
    "                                                pin_memory=False)\n",
    "\n",
    "    print(len(TestImgLoader))\n",
    "\n",
    "    models = [] # iterative model\n",
    "    for i in range(len(weights)):\n",
    "        # network choice and settings\n",
    "        if _config['network'].startswith('Res'):\n",
    "            feat = 1\n",
    "            md = 4\n",
    "            split = _config['network'].split('_')\n",
    "            for item in split[1:]:\n",
    "                if item.startswith('f'):\n",
    "                    feat = int(item[-1])\n",
    "                elif item.startswith('md'):\n",
    "                    md = int(item[2:])\n",
    "            assert 0 < feat < 7, \"Feature Number from PWC have to be between 1 and 6\"\n",
    "            assert 0 < md, \"md must be positive\"\n",
    "            model = LCCNet(input_size, use_feat_from=feat, md=md,\n",
    "                             use_reflectance=_config['use_reflectance'], dropout=_config['dropout'])\n",
    "        else:\n",
    "            raise TypeError(\"Network unknown\")\n",
    "\n",
    "        print (\"weight[i]\", weights[i])\n",
    "        checkpoint = torch.load(weights[i], map_location='cpu')\n",
    "        saved_state_dict = checkpoint['state_dict']\n",
    "        model.load_state_dict(saved_state_dict)\n",
    "        model = model.cuda()\n",
    "        model.eval()\n",
    "        models.append(model)\n",
    "\n",
    "\n",
    "    if _config['save_log']:\n",
    "        log_file = f'./results_for_paper/log_seq{_config[\"test_sequence\"]}.csv'\n",
    "        log_file = open(log_file, 'w')\n",
    "        log_file = csv.writer(log_file)\n",
    "        header = ['frame']\n",
    "        for i in range(len(weights) + 1):\n",
    "            header += [f'iter{i}_error_t', f'iter{i}_error_r', f'iter{i}_error_x', f'iter{i}_error_y',\n",
    "                       f'iter{i}_error_z', f'iter{i}_error_r', f'iter{i}_error_p', f'iter{i}_error_y']\n",
    "        log_file.writerow(header)\n",
    "\n",
    "    show = _config['show']\n",
    "    # save image to the output path\n",
    "    _config['output'] = os.path.join(_config['output'], _config['iterative_method'])\n",
    "    rgb_path = os.path.join(_config['output'], 'rgb')\n",
    "    if not os.path.exists(rgb_path):\n",
    "        os.makedirs(rgb_path)\n",
    "    depth_path = os.path.join(_config['output'], 'depth')\n",
    "    if not os.path.exists(depth_path):\n",
    "        os.makedirs(depth_path)\n",
    "    input_path = os.path.join(_config['output'], 'input')\n",
    "    if not os.path.exists(input_path):\n",
    "        os.makedirs(input_path)\n",
    "    gt_path = os.path.join(_config['output'], 'gt')\n",
    "    if not os.path.exists(gt_path):\n",
    "        os.makedirs(gt_path)\n",
    "    if _config['out_fig_lg'] == 'EN':\n",
    "        results_path = os.path.join(_config['output'], 'results_en')\n",
    "    elif _config['out_fig_lg'] == 'CN':\n",
    "        results_path = os.path.join(_config['output'], 'results_cn')\n",
    "    if not os.path.exists(results_path):\n",
    "        os.makedirs(results_path)\n",
    "    pred_path = os.path.join(_config['output'], 'pred')\n",
    "    for it in range(len(weights)):\n",
    "        if not os.path.exists(os.path.join(pred_path, 'iteration_'+str(it+1))):\n",
    "            os.makedirs(os.path.join(pred_path, 'iteration_'+str(it+1)))\n",
    "\n",
    "    # save pointcloud to the output path\n",
    "    pc_lidar_path = os.path.join(_config['output'], 'pointcloud', 'lidar')\n",
    "    if not os.path.exists(pc_lidar_path):\n",
    "        os.makedirs(pc_lidar_path)\n",
    "    pc_input_path = os.path.join(_config['output'], 'pointcloud', 'input')\n",
    "    if not os.path.exists(pc_input_path):\n",
    "        os.makedirs(pc_input_path)\n",
    "    pc_pred_path = os.path.join(_config['output'], 'pointcloud', 'pred')\n",
    "    if not os.path.exists(pc_pred_path):\n",
    "        os.makedirs(pc_pred_path)\n",
    "\n",
    "\n",
    "    errors_r = []\n",
    "    errors_t = []\n",
    "    errors_t2 = []\n",
    "    errors_xyz = []\n",
    "    errors_rpy = []\n",
    "    all_RTs = []\n",
    "    mis_calib_list = []\n",
    "    total_time = 0\n",
    "\n",
    "    prev_tr_error = None\n",
    "    prev_rot_error = None\n",
    "\n",
    "    for i in range(len(weights) + 1):\n",
    "        errors_r.append([])\n",
    "        errors_t.append([])\n",
    "        errors_t2.append([])\n",
    "        errors_rpy.append([])\n",
    "\n",
    "    for batch_idx, sample in enumerate(tqdm(TestImgLoader)):\n",
    "        N = 100 # 500\n",
    "        # if batch_idx > 200:\n",
    "        #    break\n",
    "\n",
    "        log_string = [str(batch_idx)]\n",
    "\n",
    "        lidar_input = []\n",
    "        rgb_input = []\n",
    "        lidar_gt = []\n",
    "        shape_pad_input = []\n",
    "        real_shape_input = []\n",
    "        pc_rotated_input = []\n",
    "        RTs = []\n",
    "        shape_pad = [0, 0, 0, 0]\n",
    "        outlier_filter = False\n",
    "\n",
    "        if batch_idx == 0 or not _config['use_prev_output']:\n",
    "            # 프레임을 수정하여 GT를 입력 할 수 있습니다.\n",
    "            sample['tr_error'] = sample['tr_error'].cuda()\n",
    "            sample['rot_error'] = sample['rot_error'].cuda()\n",
    "        else:\n",
    "            sample['tr_error'] = prev_tr_error\n",
    "            sample['rot_error'] = prev_rot_error\n",
    "\n",
    "        for idx in range(len(sample['rgb'])):\n",
    "            # ProjectPointCloud in RT-pose\n",
    "            real_shape = [sample['rgb'][idx].shape[1], sample['rgb'][idx].shape[2], sample['rgb'][idx].shape[0]]\n",
    "\n",
    "            sample['point_cloud'][idx] = sample['point_cloud'][idx].cuda()  # 카메라 좌표계로 변환 된 Lidar 포인트 클라우드\n",
    "            pc_lidar = sample['point_cloud'][idx].clone()\n",
    "\n",
    "            if _config['max_depth'] < 80.:\n",
    "                pc_lidar = pc_lidar[:, pc_lidar[0, :] < _config['max_depth']].clone()\n",
    "\n",
    "            depth_gt, uv_gt, pc_gt_valid = lidar_project_depth(pc_lidar, sample['calib'][idx], real_shape)  # image_shape\n",
    "            depth_gt /= _config['max_depth']\n",
    "\n",
    "            if _config['save_image']:\n",
    "                # save the Lidar pointcloud\n",
    "                #pcl_lidar = o3.PointCloud()\n",
    "                pcl_lidar = o3.geometry.PointCloud()\n",
    "                pc_lidar = pc_lidar.detach().cpu().numpy()\n",
    "                #pcl_lidar.points = o3.Vector3dVector(pc_lidar.T[:, :3])\n",
    "                pcl_lidar.points = o3.utility.Vector3dVector(pc_lidar.T[:, :3])\n",
    "\n",
    "                # o3.draw_geometries(downpcd)\n",
    "                o3.io.write_point_cloud(pc_lidar_path + '/{}.pcd'.format(batch_idx), pcl_lidar)\n",
    "\n",
    "\n",
    "            R = quat2mat(sample['rot_error'][idx])\n",
    "            T = tvector2mat(sample['tr_error'][idx])\n",
    "            RT_inv = torch.mm(T, R)\n",
    "            RT = RT_inv.clone().inverse()\n",
    "\n",
    "            pc_rotated = rotate_back(sample['point_cloud'][idx], RT_inv)  # Pc` = RT * Pc\n",
    "\n",
    "            if _config['max_depth'] < 80.:\n",
    "                pc_rotated = pc_rotated[:, pc_rotated[0, :] < _config['max_depth']].clone()\n",
    "\n",
    "            depth_img, uv_input, pc_input_valid = lidar_project_depth(pc_rotated, sample['calib'][idx], real_shape)  # image_shape\n",
    "            depth_img /= _config['max_depth']\n",
    "\n",
    "            if _config['outlier_filter'] and uv_input.shape[0] <= _config['outlier_filter_th']:\n",
    "                outlier_filter = True\n",
    "            else:\n",
    "                outlier_filter = False\n",
    "\n",
    "            if _config['save_image']:\n",
    "                # save the RGB input pointcloud\n",
    "                img = cv2.imread(sample['img_path'][0])\n",
    "                R = img[uv_input[:, 1], uv_input[:, 0], 0] / 255\n",
    "                G = img[uv_input[:, 1], uv_input[:, 0], 1] / 255\n",
    "                B = img[uv_input[:, 1], uv_input[:, 0], 2] / 255\n",
    "                pcl_input = o3.geometry.PointCloud()\n",
    "                pcl_input.points = o3.utility.Vector3dVector(pc_input_valid[:, :3])\n",
    "                pcl_input.colors = o3.utility.Vector3dVector(np.vstack((R, G, B)).T)\n",
    "\n",
    "                # o3.draw_geometries(downpcd)\n",
    "                o3.io.write_point_cloud(pc_input_path + '/{}.pcd'.format(batch_idx), pcl_input)\n",
    "\n",
    "            # PAD ONLY ON RIGHT AND BOTTOM SIDE\n",
    "            rgb = sample['rgb'][idx].cuda()\n",
    "            shape_pad = [0, 0, 0, 0]\n",
    "\n",
    "            shape_pad[3] = (img_shape[0] - rgb.shape[1])  # // 2\n",
    "            shape_pad[1] = (img_shape[1] - rgb.shape[2])  # // 2 + 1\n",
    "\n",
    "            rgb = F.pad(rgb, shape_pad)\n",
    "            depth_img = F.pad(depth_img, shape_pad)\n",
    "            depth_gt = F.pad(depth_gt, shape_pad)\n",
    "            \n",
    "            ######### network input pre-processing start #############\n",
    "            rgb = rgb.permute(1,2,0)\n",
    "            depth_img_np = depth_img.permute(1,2,0)\n",
    "            depth_gt_np = depth_gt.permute(1,2,0)\n",
    "\n",
    "            rgb_np = rgb.cpu().numpy()\n",
    "            depth_img_np = depth_img_np.cpu().numpy()\n",
    "            depth_gt_np = depth_gt_np.cpu().numpy()\n",
    "            \n",
    "            rgb_np_resized = cv2.resize(rgb_np, (640,192), interpolation=cv2.INTER_LINEAR)\n",
    "            depth_img_np_resized = cv2.resize(depth_img_np, (640,192), interpolation=cv2.INTER_LINEAR)\n",
    "            depth_gt_np_resized = cv2.resize(depth_gt_np, (640,192), interpolation=cv2.INTER_LINEAR)\n",
    "            \n",
    "            rgb_np_resized_color = rgb_np_resized\n",
    "            depth_img_np_resized_color = cv2.cvtColor(depth_img_np_resized, cv2.COLOR_GRAY2RGB)\n",
    "            depth_gt_np_resized_color = cv2.cvtColor(depth_gt_np_resized, cv2.COLOR_GRAY2RGB)    \n",
    "\n",
    "            input_rgb_pytorch = transforms.ToTensor()(rgb_np_resized_color)\n",
    "            input_lidar_pytorch = transforms.ToTensor()(depth_img_np_resized_color)\n",
    "            input_lidar_gt_pytorch = transforms.ToTensor()(depth_gt_np_resized_color)\n",
    "            \n",
    "            ########## network input pre-processing end ###############\n",
    "            \n",
    "            rgb_input.append(input_rgb_pytorch)\n",
    "            lidar_input.append(input_lidar_pytorch)\n",
    "            lidar_gt.append(input_lidar_gt_pytorch)\n",
    "            real_shape_input.append(real_shape)\n",
    "            shape_pad_input.append(shape_pad)\n",
    "            pc_rotated_input.append(pc_rotated)\n",
    "            RTs.append(RT)\n",
    "\n",
    "        if outlier_filter:\n",
    "            continue\n",
    "\n",
    "        rgb_input = torch.stack(rgb_input)\n",
    "        lidar_input = torch.stack(lidar_input)\n",
    "        rgb_resize = F.interpolate(rgb_input, size=[192, 640], mode=\"bilinear\")\n",
    "        lidar_resize = F.interpolate(lidar_input, size=[192, 640], mode=\"bilinear\")\n",
    "        \n",
    "#         print ('------lidar_input shape---------', lidar_input.shape)\n",
    "#         print ('------rgb_input shape---------', rgb_input.shape)\n",
    "\n",
    "        if _config['save_image']:\n",
    "            out0 = overlay_imgs(rgb_input[0], lidar_input)\n",
    "            print ('------out0 shape---------', np.array(out0).shape)\n",
    "            out0 = out0[:376, :1241, :]\n",
    "            cv2.imwrite(os.path.join(input_path, sample['rgb_name'][0]), out0[:, :, [2, 1, 0]]*255)\n",
    "            out1 = overlay_imgs(rgb_input[0], lidar_gt[0].unsqueeze(0))\n",
    "            out1 = out1[:376, :1241, :]\n",
    "            cv2.imwrite(os.path.join(gt_path, sample['rgb_name'][0]), out1[:, :, [2, 1, 0]]*255)\n",
    "\n",
    "            depth_img = depth_img.detach().cpu().numpy()\n",
    "            depth_img = (depth_img / np.max(depth_img)) * 255\n",
    "            cv2.imwrite(os.path.join(depth_path, sample['rgb_name'][0]), depth_img[0, :376, :1241])\n",
    "\n",
    "        if show:\n",
    "            out0 = overlay_imgs(rgb_input[0], lidar_input)\n",
    "            out1 = overlay_imgs(rgb_input[0], lidar_gt[0].unsqueeze(0))\n",
    "            cv2.imshow(\"INPUT\", out0[:, :, [2, 1, 0]])\n",
    "            cv2.imshow(\"GT\", out1[:, :, [2, 1, 0]])\n",
    "            cv2.waitKey(1)\n",
    "        \n",
    "        \"\"\" # Ver1.0 input tensor\n",
    "        lidar_input_nested = torch.cat([lidar_resize,lidar_resize,lidar_resize],1)\n",
    "        nested_input = two_images_side_by_side(rgb_resize, lidar_input_nested)\n",
    "        nested_input = torch.from_numpy(nested_input).cuda()\n",
    "        #nested_input = torch.from_numpy(nested_input).to(device)\n",
    "        nested_input = nested_input.permute(0,1,3,2)\n",
    "        nested_input_squeeze = torch.squeeze(nested_input)\n",
    "        nested_input_squeeze = nested_input_squeeze.permute(1,2,0)\n",
    "        sample_ndarray = nested_input_squeeze.cpu().numpy()\n",
    "        sample_ndarray = tvtf.normalize(tvtf.to_tensor(sample_ndarray), (0.485, 0.456, 0.406), (0.229, 0.224, 0.225)).float()[None].cuda()\n",
    "\n",
    "\n",
    "        q_list = []\n",
    "        for i in range(256):\n",
    "            queries = []\n",
    "            for j in range(256 * 2):\n",
    "                queries.append([(j) / (256 * 2), i / 256])\n",
    "            queries = np.array(queries)\n",
    "            q_list.append(queries)\n",
    "        q_list = torch.tensor(q_list).float().cuda()\n",
    "        \"\"\"\n",
    "        \n",
    "        rgb = rgb_input.to(device)\n",
    "        lidar = lidar_input.to(device)\n",
    "        rgb_resize = rgb_resize.to(device)\n",
    "        lidar_resize = lidar_resize.to(device)\n",
    "        \n",
    "        target_transl = sample['tr_error'].cuda()\n",
    "        target_rot = sample['rot_error'].cuda()\n",
    "\n",
    "        # the initial calibration errors before sensor calibration\n",
    "        RT1 = RTs[0]\n",
    "        mis_calib = torch.stack(sample['initial_RT'])[1:]\n",
    "        mis_calib_list.append(mis_calib)\n",
    "\n",
    "        T_composed = RT1[:3, 3]\n",
    "        R_composed = quaternion_from_matrix(RT1)\n",
    "        errors_t[0].append(T_composed.norm().item())\n",
    "        errors_t2[0].append(T_composed)\n",
    "        errors_r[0].append(quaternion_distance(R_composed.unsqueeze(0),\n",
    "                                               torch.tensor([1., 0., 0., 0.], device=R_composed.device).unsqueeze(0),\n",
    "                                               R_composed.device))\n",
    "        # rpy_error = quaternion_to_tait_bryan(R_composed)\n",
    "        rpy_error = mat2xyzrpy(RT1)[3:]\n",
    "\n",
    "        rpy_error *= (180.0 / 3.141592)\n",
    "        errors_rpy[0].append(rpy_error)\n",
    "        log_string += [str(errors_t[0][-1]), str(errors_r[0][-1]), str(errors_t2[0][-1][0].item()),\n",
    "                       str(errors_t2[0][-1][1].item()), str(errors_t2[0][-1][2].item()),\n",
    "                       str(errors_rpy[0][-1][0].item()), str(errors_rpy[0][-1][1].item()),\n",
    "                       str(errors_rpy[0][-1][2].item())]\n",
    "\n",
    "        # if batch_idx == 0.:\n",
    "        #     print(f'Initial T_erorr: {errors_t[0]}')\n",
    "        #     print(f'Initial R_erorr: {errors_r[0]}')\n",
    "        start = 0\n",
    "        # t1 = time.time()\n",
    "\n",
    "        # Run model\n",
    "        with torch.no_grad():\n",
    "            for iteration in range(start, len(weights)):\n",
    "                # Run the i-th network\n",
    "                t1 = time.time()\n",
    "                if _config['iterative_method'] == 'single_range' or _config['iterative_method'] == 'single':\n",
    "                    T_predicted, R_predicted = models[0](rgb_resize, lidar_resize)\n",
    "                elif _config['iterative_method'] == 'multi_range':\n",
    "                    T_predicted, R_predicted = models[iteration](rgb_resize, lidar_resize)\n",
    "                run_time = time.time() - t1\n",
    "\n",
    "                if _config['rot_transl_separated'] and iteration == 0:\n",
    "                    T_predicted = torch.tensor([[0., 0., 0.]], device='cuda')\n",
    "                if _config['rot_transl_separated'] and iteration == 1:\n",
    "                    R_predicted = torch.tensor([[1., 0., 0., 0.]], device='cuda')\n",
    "\n",
    "                # Project the points in the new pose predicted by the i-th network\n",
    "                R_predicted = quat2mat(R_predicted[0])\n",
    "                T_predicted = tvector2mat(T_predicted[0])\n",
    "                RT_predicted = torch.mm(T_predicted, R_predicted)\n",
    "                RTs.append(torch.mm(RTs[iteration], RT_predicted)) # inv(H_gt)*H_pred_1*H_pred_2*.....H_pred_n\n",
    "                if iteration == 0:\n",
    "                    rotated_point_cloud = pc_rotated_input[0]\n",
    "                else:\n",
    "                    rotated_point_cloud = rotated_point_cloud\n",
    "\n",
    "                rotated_point_cloud = rotate_forward(rotated_point_cloud, RT_predicted) # H_pred*X_init\n",
    "\n",
    "                depth_img_pred, uv_pred, pc_pred_valid = lidar_project_depth(rotated_point_cloud, sample['calib'][0], real_shape_input[0]) # image_shape\n",
    "                depth_img_pred /= _config['max_depth']\n",
    "                depth_pred = F.pad(depth_img_pred, shape_pad_input[0])\n",
    "                lidar = depth_pred.unsqueeze(0)\n",
    "                lidar_resize = F.interpolate(lidar, size=[256, 512], mode=\"bilinear\")\n",
    "\n",
    "                if iteration == len(weights)-1 and _config['save_image']:\n",
    "                    # save the RGB pointcloud\n",
    "                    img = cv2.imread(sample['img_path'][0])\n",
    "                    R = img[uv_pred[:, 1], uv_pred[:, 0], 0] / 255\n",
    "                    G = img[uv_pred[:, 1], uv_pred[:, 0], 1] / 255\n",
    "                    B = img[uv_pred[:, 1], uv_pred[:, 0], 2] / 255\n",
    "                    pcl_pred = o3.geometry.PointCloud()\n",
    "                    pcl_pred.points = o3.utility.Vector3dVector(pc_pred_valid[:, :3])\n",
    "                    pcl_pred.colors = o3.utility.Vector3dVector(np.vstack((R, G, B)).T)\n",
    "\n",
    "                    # o3.draw_geometries(downpcd)\n",
    "                    o3.io.write_point_cloud(pc_pred_path + '/{}.pcd'.format(batch_idx), pcl_pred)\n",
    "\n",
    "\n",
    "                if _config['save_image']:\n",
    "                    out2 = overlay_imgs(rgb_input[0], lidar)\n",
    "                    out2 = out2[:376, :1241, :]\n",
    "                    cv2.imwrite(os.path.join(os.path.join(pred_path, 'iteration_'+str(iteration+1)),\n",
    "                                             sample['rgb_name'][0]), out2[:, :, [2, 1, 0]]*255)\n",
    "                if show:\n",
    "                    out2 = overlay_imgs(rgb_input[0], lidar)\n",
    "                    cv2.imshow(f'Pred_Iter_{iteration}', out2[:, :, [2, 1, 0]])\n",
    "                    cv2.waitKey(1)\n",
    "\n",
    "                # inv(H_init)*H_pred\n",
    "                T_composed = RTs[iteration + 1][:3, 3]\n",
    "                R_composed = quaternion_from_matrix(RTs[iteration + 1])\n",
    "                errors_t[iteration + 1].append(T_composed.norm().item())\n",
    "                errors_t2[iteration + 1].append(T_composed)\n",
    "                errors_r[iteration + 1].append(quaternion_distance(R_composed.unsqueeze(0),\n",
    "                                                                   torch.tensor([1., 0., 0., 0.], device=R_composed.device).unsqueeze(0),\n",
    "                                                                   R_composed.device))\n",
    "\n",
    "                # rpy_error = quaternion_to_tait_bryan(R_composed)\n",
    "                rpy_error = mat2xyzrpy(RTs[iteration + 1])[3:]\n",
    "                rpy_error *= (180.0 / 3.141592)\n",
    "                errors_rpy[iteration + 1].append(rpy_error)\n",
    "                log_string += [str(errors_t[iteration + 1][-1]), str(errors_r[iteration + 1][-1]),\n",
    "                               str(errors_t2[iteration + 1][-1][0].item()), str(errors_t2[iteration + 1][-1][1].item()),\n",
    "                               str(errors_t2[iteration + 1][-1][2].item()), str(errors_rpy[iteration + 1][-1][0].item()),\n",
    "                               str(errors_rpy[iteration + 1][-1][1].item()), str(errors_rpy[iteration + 1][-1][2].item())]\n",
    "\n",
    "        # run_time = time.time() - t1\n",
    "        total_time += run_time\n",
    "\n",
    "        # final calibration error\n",
    "        all_RTs.append(RTs[-1])\n",
    "        prev_RT = RTs[-1].inverse()\n",
    "        prev_tr_error = prev_RT[:3, 3].unsqueeze(0)\n",
    "        prev_rot_error = quaternion_from_matrix(prev_RT).unsqueeze(0)\n",
    "\n",
    "        if _config['save_log']:\n",
    "            log_file.writerow(log_string)\n",
    "\n",
    "    # Yaw（偏航）：欧拉角向量的y轴\n",
    "    # Pitch（俯仰）：欧拉角向量的x轴\n",
    "    # Roll（翻滚）： 欧拉角向量的z轴\n",
    "    # mis_calib_input[transl_x, transl_y, transl_z, rotx, roty, rotz] Nx6\n",
    "    mis_calib_input = torch.stack(mis_calib_list)[:, :, 0]\n",
    "\n",
    "    if _config['save_log']:\n",
    "        log_file.close()\n",
    "    print(\"Iterative refinement: \")\n",
    "    for i in range(len(weights) + 1):\n",
    "        errors_r[i] = torch.tensor(errors_r[i]).abs() * (180.0 / 3.141592)\n",
    "        errors_t[i] = torch.tensor(errors_t[i]).abs() * 100\n",
    "\n",
    "        for k in range(len(errors_rpy[i])):\n",
    "            # errors_rpy[i][k] = torch.tensor(errors_rpy[i][k])\n",
    "            # errors_t2[i][k] = torch.tensor(errors_t2[i][k]) * 100\n",
    "            errors_rpy[i][k] = errors_rpy[i][k].clone().detach().abs()\n",
    "            errors_t2[i][k] = errors_t2[i][k].clone().detach().abs() * 100\n",
    "\n",
    "        print(f\"Iteration {i}: \\tMean Translation Error: {errors_t[i].mean():.4f} cm \"\n",
    "              f\"     Mean Rotation Error: {errors_r[i].mean():.4f} °\")\n",
    "        print(f\"Iteration {i}: \\tMedian Translation Error: {errors_t[i].median():.4f} cm \"\n",
    "              f\"     Median Rotation Error: {errors_r[i].median():.4f} °\")\n",
    "        print(f\"Iteration {i}: \\tStd. Translation Error: {errors_t[i].std():.4f} cm \"\n",
    "              f\"     Std. Rotation Error: {errors_r[i].std():.4f} °\\n\")\n",
    "\n",
    "        # translation xyz\n",
    "        print(f\"Iteration {i}: \\tMean Translation X Error: {errors_t2[i][0].mean():.4f} cm \"\n",
    "              f\"     Median Translation X Error: {errors_t2[i][0].median():.4f} cm \"\n",
    "              f\"     Std. Translation X Error: {errors_t2[i][0].std():.4f} cm \")\n",
    "        print(f\"Iteration {i}: \\tMean Translation Y Error: {errors_t2[i][1].mean():.4f} cm \"\n",
    "              f\"     Median Translation Y Error: {errors_t2[i][1].median():.4f} cm \"\n",
    "              f\"     Std. Translation Y Error: {errors_t2[i][1].std():.4f} cm \")\n",
    "        print(f\"Iteration {i}: \\tMean Translation Z Error: {errors_t2[i][2].mean():.4f} cm \"\n",
    "              f\"     Median Translation Z Error: {errors_t2[i][2].median():.4f} cm \"\n",
    "              f\"     Std. Translation Z Error: {errors_t2[i][2].std():.4f} cm \\n\")\n",
    "\n",
    "        # rotation rpy[roll pitch yaw]\n",
    "        print(f\"Iteration {i}: \\tMean Rotation Roll Error: {errors_rpy[i][0].mean(): .4f} °\"\n",
    "              f\"     Median Rotation Roll Error: {errors_rpy[i][0].median():.4f} °\"\n",
    "              f\"     Std. Rotation Roll Error: {errors_rpy[i][0].std():.4f} °\")\n",
    "        print(f\"Iteration {i}: \\tMean Rotation Pitch Error: {errors_rpy[i][1].mean(): .4f} °\"\n",
    "              f\"     Median Rotation Pitch Error: {errors_rpy[i][1].median():.4f} °\"\n",
    "              f\"     Std. Rotation Pitch Error: {errors_rpy[i][1].std():.4f} °\")\n",
    "        print(f\"Iteration {i}: \\tMean Rotation Yaw Error: {errors_rpy[i][2].mean(): .4f} °\"\n",
    "              f\"     Median Rotation Yaw Error: {errors_rpy[i][2].median():.4f} °\"\n",
    "              f\"     Std. Rotation Yaw Error: {errors_rpy[i][2].std():.4f} °\\n\")\n",
    "\n",
    "\n",
    "        with open(os.path.join(_config['output'], 'results.txt'),\n",
    "                  'a', encoding='utf-8') as f:\n",
    "            f.write(f\"Iteration {i}: \\n\")\n",
    "            f.write(\"Translation Error && Rotation Error:\\n\")\n",
    "            f.write(f\"Iteration {i}: \\tMean Translation Error: {errors_t[i].mean():.4f} cm \"\n",
    "                    f\"     Mean Rotation Error: {errors_r[i].mean():.4f} °\\n\")\n",
    "            f.write(f\"Iteration {i}: \\tMedian Translation Error: {errors_t[i].median():.4f} cm \"\n",
    "                    f\"     Median Rotation Error: {errors_r[i].median():.4f} °\\n\")\n",
    "            f.write(f\"Iteration {i}: \\tStd. Translation Error: {errors_t[i].std():.4f} cm \"\n",
    "                    f\"     Std. Rotation Error: {errors_r[i].std():.4f} °\\n\\n\")\n",
    "\n",
    "            # translation xyz\n",
    "            f.write(\"Translation Error XYZ:\\n\")\n",
    "            f.write(f\"Iteration {i}: \\tMean Translation X Error: {errors_t2[i][0].mean():.4f} cm \"\n",
    "                    f\"     Median Translation X Error: {errors_t2[i][0].median():.4f} cm \"\n",
    "                    f\"     Std. Translation X Error: {errors_t2[i][0].std():.4f} cm \\n\")\n",
    "            f.write(f\"Iteration {i}: \\tMean Translation Y Error: {errors_t2[i][1].mean():.4f} cm \"\n",
    "                    f\"     Median Translation Y Error: {errors_t2[i][1].median():.4f} cm \"\n",
    "                    f\"     Std. Translation Y Error: {errors_t2[i][1].std():.4f} cm \\n\")\n",
    "            f.write(f\"Iteration {i}: \\tMean Translation Z Error: {errors_t2[i][2].mean():.4f} cm \"\n",
    "                    f\"     Median Translation Z Error: {errors_t2[i][2].median():.4f} cm \"\n",
    "                    f\"     Std. Translation Z Error: {errors_t2[i][2].std():.4f} cm \\n\\n\")\n",
    "\n",
    "            # rotation rpy[roll pitch yaw]\n",
    "            f.write(\"Rotation Error RPY:\\n\")\n",
    "            f.write(f\"Iteration {i}: \\tMean Rotation Roll Error: {errors_rpy[i][0].mean(): .4f} °\"\n",
    "                    f\"     Median Rotation Roll Error: {errors_rpy[i][0].median():.4f} °\"\n",
    "                    f\"     Std. Rotation Roll Error: {errors_rpy[i][0].std():.4f} °\\n\")\n",
    "            f.write(f\"Iteration {i}: \\tMean Rotation Pitch Error: {errors_rpy[i][1].mean(): .4f} °\"\n",
    "                    f\"     Median Rotation Pitch Error: {errors_rpy[i][1].median():.4f} °\"\n",
    "                    f\"     Std. Rotation Pitch Error: {errors_rpy[i][1].std():.4f} °\\n\")\n",
    "            f.write(f\"Iteration {i}: \\tMean Rotation Yaw Error: {errors_rpy[i][2].mean(): .4f} °\"\n",
    "                    f\"     Median Rotation Yaw Error: {errors_rpy[i][2].median():.4f} °\"\n",
    "                    f\"     Std. Rotation Yaw Error: {errors_rpy[i][2].std():.4f} °\\n\\n\\n\")\n",
    "\n",
    "    for i in range(len(errors_t2)):\n",
    "        errors_t2[i] = torch.stack(errors_t2[i]).abs() / 100\n",
    "        errors_rpy[i] = torch.stack(errors_rpy[i]).abs()\n",
    "\n",
    "    # mis_calib_input\n",
    "    # t_x = mis_calib_input[:, 0]\n",
    "    # t_y = mis_calib_input[:, 1]\n",
    "    # t_z = mis_calib_input[:, 2]\n",
    "    # r_roll = mis_calib_input[:, 5]\n",
    "    # r_pitch = mis_calib_input[:, 3]\n",
    "    # r_yaw = mis_calib_input[:, 4]\n",
    "\n",
    "    # plot_error\n",
    "    # plot_x = errors_t2[:, 0]\n",
    "    # plot_y = errors_t2[:, 1]\n",
    "    # plot_z = errors_t2[:, 2]\n",
    "    # plot_roll = errors_rpy[:, 0]\n",
    "    # plot_pitch = errors_rpy[:, 1]\n",
    "    # plot_yaw = errors_rpy[:, 2]\n",
    "\n",
    "    # translation error\n",
    "    # fig = plt.figure(figsize=(6, 3))  # 设置图大小 figsize=(6,3)\n",
    "    # plt.title('Calibration Translation Error')\n",
    "    plot_x = np.zeros((mis_calib_input.shape[0], 2))\n",
    "    plot_x[:, 0] = mis_calib_input[:, 0].cpu().numpy()\n",
    "    plot_x[:, 1] = errors_t2[-1][:, 0].cpu().numpy()\n",
    "    plot_x = plot_x[np.lexsort(plot_x[:, ::-1].T)]\n",
    "\n",
    "    plot_y = np.zeros((mis_calib_input.shape[0], 2))\n",
    "    plot_y[:, 0] = mis_calib_input[:, 1].cpu().numpy()\n",
    "    plot_y[:, 1] = errors_t2[-1][:, 1].cpu().numpy()\n",
    "    plot_y = plot_y[np.lexsort(plot_y[:, ::-1].T)]\n",
    "\n",
    "    plot_z = np.zeros((mis_calib_input.shape[0], 2))\n",
    "    plot_z[:, 0] = mis_calib_input[:, 2].cpu().numpy()\n",
    "    plot_z[:, 1] = errors_t2[-1][:, 2].cpu().numpy()\n",
    "    plot_z = plot_z[np.lexsort(plot_z[:, ::-1].T)]\n",
    "\n",
    "    N_interval = plot_x.shape[0] // N\n",
    "    plot_x = plot_x[::N_interval]\n",
    "    plot_y = plot_y[::N_interval]\n",
    "    plot_z = plot_z[::N_interval]\n",
    "\n",
    "    plt.plot(plot_x[:, 0], plot_x[:, 1], c='red', label='X')\n",
    "    plt.plot(plot_y[:, 0], plot_y[:, 1], c='blue', label='Y')\n",
    "    plt.plot(plot_z[:, 0], plot_z[:, 1], c='green', label='Z')\n",
    "    # plt.legend(loc='best')\n",
    "\n",
    "    if _config['out_fig_lg'] == 'EN':\n",
    "        plt.xlabel('Miscalibration (m)', font_EN)\n",
    "        plt.ylabel('Absolute Error (m)', font_EN)\n",
    "        plt.legend(loc='best', prop=font_EN)\n",
    "    elif _config['out_fig_lg'] == 'CN':\n",
    "        plt.xlabel('初始标定外参偏差/米', font_CN)\n",
    "        plt.ylabel('绝对误差/米', font_CN)\n",
    "        plt.legend(loc='best', prop=font_CN)\n",
    "\n",
    "    plt.xticks(fontproperties='Times New Roman', size=plt_size)\n",
    "    plt.yticks(fontproperties='Times New Roman', size=plt_size)\n",
    "\n",
    "    plt.savefig(os.path.join(results_path, 'xyz_plot.png'))\n",
    "    plt.close('all')\n",
    "\n",
    "    errors_t = errors_t[-1].numpy()\n",
    "    errors_t = np.sort(errors_t, axis=0)[:-10] # 去掉一些异常值\n",
    "    # plt.title('Calibration Translation Error Distribution')\n",
    "    plt.hist(errors_t / 100, bins=50)\n",
    "    # ax = plt.gca()\n",
    "    # ax.set_xlabel('Absolute Translation Error (m)')\n",
    "    # ax.set_ylabel('Number of instances')\n",
    "    # ax.set_xticks([0.00, 0.25, 0.00, 0.25, 0.50])\n",
    "\n",
    "    if _config['out_fig_lg'] == 'EN':\n",
    "        plt.xlabel('Absolute Translation Error (m)', font_EN)\n",
    "        plt.ylabel('Number of instances', font_EN)\n",
    "    elif _config['out_fig_lg'] == 'CN':\n",
    "        plt.xlabel('绝对平移误差/米', font_CN)\n",
    "        plt.ylabel('实验序列数目/个', font_CN)\n",
    "    plt.xticks(fontproperties='Times New Roman', size=plt_size)\n",
    "    plt.yticks(fontproperties='Times New Roman', size=plt_size)\n",
    "\n",
    "    plt.savefig(os.path.join(results_path, 'translation_error_distribution.png'))\n",
    "    plt.close('all')\n",
    "\n",
    "    # rotation error\n",
    "    # fig = plt.figure(figsize=(6, 3))  # 이미지 크기 설정 figsize=(6,3)\n",
    "    # plt.title('Calibration Rotation Error')\n",
    "    plot_pitch = np.zeros((mis_calib_input.shape[0], 2))\n",
    "    plot_pitch[:, 0] = mis_calib_input[:, 3].cpu().numpy() * (180.0 / 3.141592)\n",
    "    plot_pitch[:, 1] = errors_rpy[-1][:, 1].cpu().numpy()\n",
    "    plot_pitch = plot_pitch[np.lexsort(plot_pitch[:, ::-1].T)]\n",
    "\n",
    "    plot_yaw = np.zeros((mis_calib_input.shape[0], 2))\n",
    "    plot_yaw[:, 0] = mis_calib_input[:, 4].cpu().numpy() * (180.0 / 3.141592)\n",
    "    plot_yaw[:, 1] = errors_rpy[-1][:, 2].cpu().numpy()\n",
    "    plot_yaw = plot_yaw[np.lexsort(plot_yaw[:, ::-1].T)]\n",
    "\n",
    "    plot_roll = np.zeros((mis_calib_input.shape[0], 2))\n",
    "    plot_roll[:, 0] = mis_calib_input[:, 5].cpu().numpy() * (180.0 / 3.141592)\n",
    "    plot_roll[:, 1] = errors_rpy[-1][:, 0].cpu().numpy()\n",
    "    plot_roll = plot_roll[np.lexsort(plot_roll[:, ::-1].T)]\n",
    "\n",
    "    N_interval = plot_roll.shape[0] // N\n",
    "    plot_pitch = plot_pitch[::N_interval]\n",
    "    plot_yaw = plot_yaw[::N_interval]\n",
    "    plot_roll = plot_roll[::N_interval]\n",
    "\n",
    "    # Yaw : 오일러 각도 벡터의 y 축\n",
    "    # Pitch : 오일러 각도 벡터의 x 축\n",
    "    # Roll : 오일러 각도 벡터의 z 축\n",
    "\n",
    "    if _config['out_fig_lg'] == 'EN':\n",
    "        plt.plot(plot_yaw[:, 0], plot_yaw[:, 1], c='red', label='Yaw(Y)')\n",
    "        plt.plot(plot_pitch[:, 0], plot_pitch[:, 1], c='blue', label='Pitch(X)')\n",
    "        plt.plot(plot_roll[:, 0], plot_roll[:, 1], c='green', label='Roll(Z)')\n",
    "        plt.xlabel('Miscalibration (°)', font_EN)\n",
    "        plt.ylabel('Absolute Error (°)', font_EN)\n",
    "        plt.legend(loc='best', prop=font_EN)\n",
    "    elif _config['out_fig_lg'] == 'CN':\n",
    "        plt.plot(plot_yaw[:, 0], plot_yaw[:, 1], c='red', label='偏航角')\n",
    "        plt.plot(plot_pitch[:, 0], plot_pitch[:, 1], c='blue', label='俯仰角')\n",
    "        plt.plot(plot_roll[:, 0], plot_roll[:, 1], c='green', label='翻滚角')\n",
    "        plt.xlabel('初始标定外参偏差/度', font_CN)\n",
    "        plt.ylabel('绝对误差/度', font_CN)\n",
    "        plt.legend(loc='best', prop=font_CN)\n",
    "\n",
    "    plt.xticks(fontproperties='Times New Roman', size=plt_size)\n",
    "    plt.yticks(fontproperties='Times New Roman', size=plt_size)\n",
    "    plt.savefig(os.path.join(results_path, 'rpy_plot.png'))\n",
    "    plt.close('all')\n",
    "\n",
    "    errors_r = errors_r[-1].numpy()\n",
    "    errors_r = np.sort(errors_r, axis=0)[:-10] # 去掉一些异常值\n",
    "    # np.savetxt('rot_error.txt', arr_, fmt='%0.8f')\n",
    "    # print('max rotation_error: {}'.format(max(errors_r)))\n",
    "    # plt.title('Calibration Rotation Error Distribution')\n",
    "    plt.hist(errors_r, bins=50)\n",
    "    #plt.xlim([0, 1.5])  # x轴边界\n",
    "    #plt.xticks([0.0, 0.3, 0.6, 0.9, 1.2, 1.5])  # 设置x刻度\n",
    "    # ax = plt.gca()\n",
    "\n",
    "    if _config['out_fig_lg'] == 'EN':\n",
    "        plt.xlabel('Absolute Rotation Error (°)', font_EN)\n",
    "        plt.ylabel('Number of instances', font_EN)\n",
    "    elif _config['out_fig_lg'] == 'CN':\n",
    "        plt.xlabel('绝对旋转误差/度', font_CN)\n",
    "        plt.ylabel('实验序列数目/个', font_CN)\n",
    "    plt.xticks(fontproperties='Times New Roman', size=plt_size)\n",
    "    plt.yticks(fontproperties='Times New Roman', size=plt_size)\n",
    "    plt.savefig(os.path.join(results_path, 'rotation_error_distribution.png'))\n",
    "    plt.close('all')\n",
    "\n",
    "\n",
    "    if _config[\"save_name\"] is not None:\n",
    "        torch.save(torch.stack(errors_t).cpu().numpy(), f'./results_for_paper/{_config[\"save_name\"]}_errors_t')\n",
    "        torch.save(torch.stack(errors_r).cpu().numpy(), f'./results_for_paper/{_config[\"save_name\"]}_errors_r')\n",
    "        torch.save(torch.stack(errors_t2).cpu().numpy(), f'./results_for_paper/{_config[\"save_name\"]}_errors_t2')\n",
    "        torch.save(torch.stack(errors_rpy).cpu().numpy(), f'./results_for_paper/{_config[\"save_name\"]}_errors_rpy')\n",
    "\n",
    "    avg_time = total_time / len(TestImgLoader)\n",
    "    print(\"average runing time on {} iteration: {} s\".format(len(weights), avg_time))\n",
    "    print(\"End\")"
   ]
  },
  {
   "cell_type": "code",
   "execution_count": 6,
   "id": "macro-dryer",
   "metadata": {},
   "outputs": [
    {
     "name": "stderr",
     "output_type": "stream",
     "text": [
      "WARNING - 2022-02-23 08:45:03,186 - run - No observers have been added to this run\n",
      "INFO - 2022-02-23 08:45:03,191 - run - Running command 'main'\n",
      "INFO - 2022-02-23 08:45:03,192 - run - Started\n"
     ]
    },
    {
     "name": "stdout",
     "output_type": "stream",
     "text": [
      "-pose_path- /mnt/data/kitti_odometry/data_odometry_poses/dataset/poses\n",
      "TEST SET: Using this file: /mnt/data/kitti_odometry/data_odometry_testRT/dataset/sequences/test_RT_seq00_20.00_1.50.csv\n",
      "4541\n",
      "using lin_sine as positional encoding\n",
      "freeze conv1.weight\n",
      "freeze layer1.0.conv1.weight\n",
      "freeze layer1.0.conv2.weight\n",
      "freeze layer1.0.conv3.weight\n",
      "freeze layer1.0.downsample.0.weight\n",
      "freeze layer1.1.conv1.weight\n",
      "freeze layer1.1.conv2.weight\n",
      "freeze layer1.1.conv3.weight\n",
      "freeze layer1.2.conv1.weight\n",
      "freeze layer1.2.conv2.weight\n",
      "freeze layer1.2.conv3.weight\n",
      "freeze layer2.0.conv1.weight\n",
      "freeze layer2.0.conv2.weight\n",
      "freeze layer2.0.conv3.weight\n",
      "freeze layer2.0.downsample.0.weight\n",
      "freeze layer2.1.conv1.weight\n",
      "freeze layer2.1.conv2.weight\n",
      "freeze layer2.1.conv3.weight\n",
      "freeze layer2.2.conv1.weight\n",
      "freeze layer2.2.conv2.weight\n",
      "freeze layer2.2.conv3.weight\n",
      "freeze layer2.3.conv1.weight\n",
      "freeze layer2.3.conv2.weight\n",
      "freeze layer2.3.conv3.weight\n",
      "freeze layer3.0.conv1.weight\n",
      "freeze layer3.0.conv2.weight\n",
      "freeze layer3.0.conv3.weight\n",
      "freeze layer3.0.downsample.0.weight\n",
      "freeze layer3.1.conv1.weight\n",
      "freeze layer3.1.conv2.weight\n",
      "freeze layer3.1.conv3.weight\n",
      "freeze layer3.2.conv1.weight\n",
      "freeze layer3.2.conv2.weight\n",
      "freeze layer3.2.conv3.weight\n",
      "freeze layer3.3.conv1.weight\n",
      "freeze layer3.3.conv2.weight\n",
      "freeze layer3.3.conv3.weight\n",
      "freeze layer3.4.conv1.weight\n",
      "freeze layer3.4.conv2.weight\n",
      "freeze layer3.4.conv3.weight\n",
      "freeze layer3.5.conv1.weight\n",
      "freeze layer3.5.conv2.weight\n",
      "freeze layer3.5.conv3.weight\n",
      "freeze layer4.0.conv1.weight\n",
      "freeze layer4.0.conv2.weight\n",
      "freeze layer4.0.conv3.weight\n",
      "freeze layer4.0.downsample.0.weight\n",
      "freeze layer4.1.conv1.weight\n",
      "freeze layer4.1.conv2.weight\n",
      "freeze layer4.1.conv3.weight\n",
      "freeze layer4.2.conv1.weight\n",
      "freeze layer4.2.conv2.weight\n",
      "freeze layer4.2.conv3.weight\n",
      "freeze fc.weight\n",
      "freeze fc.bias\n",
      "using lin_sine as positional encoding\n",
      "Loading weights from ./COTR/out/default/checkpoint.pth.tar\n",
      "weights safely loaded\n",
      "COTR pre-trained weights freeze\n",
      "weight[i] /root/work/LCCNet_Moon/checkpoints/kitti/odom/val_seq_00/models/checkpoint_r10.00_t1.00_e0_3.526.tar\n"
     ]
    },
    {
     "name": "stderr",
     "output_type": "stream",
     "text": [
      "  0%|          | 0/4541 [00:00<?, ?it/s]"
     ]
    },
    {
     "name": "stdout",
     "output_type": "stream",
     "text": [
      "Init worker 0 with seed 476897110\n",
      "Init worker 1 with seed 476897111\n",
      "Init worker 2 with seed 476897112\n",
      "Init worker 3 with seed 476897113\n",
      "Init worker 4 with seed 476897114\n",
      "Init worker 5 with seed 476897115\n"
     ]
    },
    {
     "name": "stderr",
     "output_type": "stream",
     "text": [
      "<ipython-input-2-a13eb94c4563>:150: DeprecationWarning: `np.float` is a deprecated alias for the builtin `float`. To silence this warning, use `float` by itself. Doing this will not modify any behavior and is safe. If you specifically wanted the numpy scalar type, use `np.float64` here.\n",
      "Deprecated in NumPy 1.20; for more details and guidance: https://numpy.org/devdocs/release/1.20.0-notes.html#deprecations\n",
      "  pc_rot = pc_rot.astype(np.float).T.copy()\n",
      "<ipython-input-2-a13eb94c4563>:150: DeprecationWarning: `np.float` is a deprecated alias for the builtin `float`. To silence this warning, use `float` by itself. Doing this will not modify any behavior and is safe. If you specifically wanted the numpy scalar type, use `np.float64` here.\n",
      "Deprecated in NumPy 1.20; for more details and guidance: https://numpy.org/devdocs/release/1.20.0-notes.html#deprecations\n",
      "  pc_rot = pc_rot.astype(np.float).T.copy()\n",
      "<ipython-input-2-a13eb94c4563>:150: DeprecationWarning: `np.float` is a deprecated alias for the builtin `float`. To silence this warning, use `float` by itself. Doing this will not modify any behavior and is safe. If you specifically wanted the numpy scalar type, use `np.float64` here.\n",
      "Deprecated in NumPy 1.20; for more details and guidance: https://numpy.org/devdocs/release/1.20.0-notes.html#deprecations\n",
      "  pc_rot = pc_rot.astype(np.float).T.copy()\n",
      "<ipython-input-2-a13eb94c4563>:150: DeprecationWarning: `np.float` is a deprecated alias for the builtin `float`. To silence this warning, use `float` by itself. Doing this will not modify any behavior and is safe. If you specifically wanted the numpy scalar type, use `np.float64` here.\n",
      "Deprecated in NumPy 1.20; for more details and guidance: https://numpy.org/devdocs/release/1.20.0-notes.html#deprecations\n",
      "  pc_rot = pc_rot.astype(np.float).T.copy()\n",
      "<ipython-input-2-a13eb94c4563>:150: DeprecationWarning: `np.float` is a deprecated alias for the builtin `float`. To silence this warning, use `float` by itself. Doing this will not modify any behavior and is safe. If you specifically wanted the numpy scalar type, use `np.float64` here.\n",
      "Deprecated in NumPy 1.20; for more details and guidance: https://numpy.org/devdocs/release/1.20.0-notes.html#deprecations\n",
      "  pc_rot = pc_rot.astype(np.float).T.copy()\n",
      "<ipython-input-2-a13eb94c4563>:150: DeprecationWarning: `np.float` is a deprecated alias for the builtin `float`. To silence this warning, use `float` by itself. Doing this will not modify any behavior and is safe. If you specifically wanted the numpy scalar type, use `np.float64` here.\n",
      "Deprecated in NumPy 1.20; for more details and guidance: https://numpy.org/devdocs/release/1.20.0-notes.html#deprecations\n",
      "  pc_rot = pc_rot.astype(np.float).T.copy()\n",
      "/root/venv/lib/python3.8/site-packages/torch/nn/functional.py:3060: UserWarning: Default upsampling behavior when mode=bilinear is changed to align_corners=False since 0.4.0. Please specify align_corners=True if the old behavior is desired. See the documentation of nn.Upsample for details.\n",
      "  warnings.warn(\"Default upsampling behavior when mode={} is changed \"\n",
      "/root/work/LCCNet_Moon/COTR/inference/inference_helper.py:53: UserWarning: Spatial smoothness in dense optical flow is lost, but sparse matching and triangulation should be fine\n",
      "  warnings.warn('Spatial smoothness in dense optical flow is lost, but sparse matching and triangulation should be fine')\n",
      "/root/venv/lib/python3.8/site-packages/torch/nn/functional.py:3385: UserWarning: Default grid_sample and affine_grid behavior has changed to align_corners=False since 1.3.0. Please specify align_corners=True if the old behavior is desired. See the documentation of grid_sample for details.\n",
      "  warnings.warn(\"Default grid_sample and affine_grid behavior has changed \"\n",
      "/root/work/LCCNet_Moon/COTR/inference/refinement_task.py:29: RuntimeWarning: divide by zero encountered in double_scalars\n",
      "  self.s_to = BASE_ZOOM * np.sqrt(self.area_to / self.area_from)\n",
      "  0%|          | 1/4541 [00:32<40:27:27, 32.08s/it]"
     ]
    },
    {
     "name": "stdout",
     "output_type": "stream",
     "text": [
      "------ out shape----------- (100, 4)\n"
     ]
    },
    {
     "name": "stderr",
     "output_type": "stream",
     "text": [
      "  0%|          | 2/4541 [01:03<39:46:13, 31.54s/it]"
     ]
    },
    {
     "name": "stdout",
     "output_type": "stream",
     "text": [
      "------ out shape----------- (100, 4)\n"
     ]
    },
    {
     "name": "stderr",
     "output_type": "stream",
     "text": [
      "  0%|          | 3/4541 [01:34<39:33:49, 31.39s/it]"
     ]
    },
    {
     "name": "stdout",
     "output_type": "stream",
     "text": [
      "------ out shape----------- (100, 4)\n"
     ]
    },
    {
     "name": "stderr",
     "output_type": "stream",
     "text": [
      "  0%|          | 4/4541 [02:05<39:26:37, 31.30s/it]"
     ]
    },
    {
     "name": "stdout",
     "output_type": "stream",
     "text": [
      "------ out shape----------- (100, 4)\n"
     ]
    },
    {
     "name": "stderr",
     "output_type": "stream",
     "text": [
      "  0%|          | 5/4541 [02:36<39:14:05, 31.14s/it]"
     ]
    },
    {
     "name": "stdout",
     "output_type": "stream",
     "text": [
      "------ out shape----------- (100, 4)\n"
     ]
    },
    {
     "name": "stderr",
     "output_type": "stream",
     "text": [
      "  0%|          | 6/4541 [03:06<38:49:16, 30.82s/it]"
     ]
    },
    {
     "name": "stdout",
     "output_type": "stream",
     "text": [
      "------ out shape----------- (100, 4)\n"
     ]
    },
    {
     "name": "stderr",
     "output_type": "stream",
     "text": [
      "  0%|          | 7/4541 [03:39<39:27:33, 31.33s/it]"
     ]
    },
    {
     "name": "stdout",
     "output_type": "stream",
     "text": [
      "------ out shape----------- (100, 4)\n"
     ]
    },
    {
     "name": "stderr",
     "output_type": "stream",
     "text": [
      "  0%|          | 8/4541 [04:09<39:17:22, 31.20s/it]"
     ]
    },
    {
     "name": "stdout",
     "output_type": "stream",
     "text": [
      "------ out shape----------- (100, 4)\n"
     ]
    },
    {
     "name": "stderr",
     "output_type": "stream",
     "text": [
      "  0%|          | 9/4541 [04:41<39:17:54, 31.22s/it]"
     ]
    },
    {
     "name": "stdout",
     "output_type": "stream",
     "text": [
      "------ out shape----------- (100, 4)\n"
     ]
    },
    {
     "name": "stderr",
     "output_type": "stream",
     "text": [
      "  0%|          | 10/4541 [05:10<38:30:38, 30.60s/it]"
     ]
    },
    {
     "name": "stdout",
     "output_type": "stream",
     "text": [
      "------ out shape----------- (100, 4)\n"
     ]
    },
    {
     "name": "stderr",
     "output_type": "stream",
     "text": [
      "  0%|          | 11/4541 [05:41<38:36:55, 30.69s/it]"
     ]
    },
    {
     "name": "stdout",
     "output_type": "stream",
     "text": [
      "------ out shape----------- (100, 4)\n"
     ]
    },
    {
     "name": "stderr",
     "output_type": "stream",
     "text": [
      "  0%|          | 12/4541 [06:13<39:12:24, 31.16s/it]"
     ]
    },
    {
     "name": "stdout",
     "output_type": "stream",
     "text": [
      "------ out shape----------- (100, 4)\n"
     ]
    },
    {
     "name": "stderr",
     "output_type": "stream",
     "text": [
      "  0%|          | 13/4541 [06:44<39:10:56, 31.15s/it]"
     ]
    },
    {
     "name": "stdout",
     "output_type": "stream",
     "text": [
      "------ out shape----------- (100, 4)\n"
     ]
    },
    {
     "name": "stderr",
     "output_type": "stream",
     "text": [
      "  0%|          | 14/4541 [07:16<39:16:51, 31.24s/it]"
     ]
    },
    {
     "name": "stdout",
     "output_type": "stream",
     "text": [
      "------ out shape----------- (100, 4)\n"
     ]
    },
    {
     "name": "stderr",
     "output_type": "stream",
     "text": [
      "  0%|          | 15/4541 [07:47<39:17:16, 31.25s/it]"
     ]
    },
    {
     "name": "stdout",
     "output_type": "stream",
     "text": [
      "------ out shape----------- (100, 4)\n"
     ]
    },
    {
     "name": "stderr",
     "output_type": "stream",
     "text": [
      "  0%|          | 16/4541 [08:17<38:52:01, 30.92s/it]"
     ]
    },
    {
     "name": "stdout",
     "output_type": "stream",
     "text": [
      "------ out shape----------- (100, 4)\n"
     ]
    },
    {
     "name": "stderr",
     "output_type": "stream",
     "text": [
      "  0%|          | 17/4541 [08:42<36:41:24, 29.20s/it]"
     ]
    },
    {
     "name": "stdout",
     "output_type": "stream",
     "text": [
      "------ out shape----------- (40, 4)\n"
     ]
    },
    {
     "name": "stderr",
     "output_type": "stream",
     "text": [
      "  0%|          | 18/4541 [09:13<37:19:36, 29.71s/it]"
     ]
    },
    {
     "name": "stdout",
     "output_type": "stream",
     "text": [
      "------ out shape----------- (100, 4)\n"
     ]
    },
    {
     "name": "stderr",
     "output_type": "stream",
     "text": [
      "  0%|          | 19/4541 [09:45<38:09:14, 30.37s/it]"
     ]
    },
    {
     "name": "stdout",
     "output_type": "stream",
     "text": [
      "------ out shape----------- (100, 4)\n"
     ]
    },
    {
     "name": "stderr",
     "output_type": "stream",
     "text": [
      "  0%|          | 20/4541 [10:16<38:25:03, 30.59s/it]"
     ]
    },
    {
     "name": "stdout",
     "output_type": "stream",
     "text": [
      "------ out shape----------- (100, 4)\n"
     ]
    },
    {
     "name": "stderr",
     "output_type": "stream",
     "text": [
      "  0%|          | 21/4541 [10:47<38:29:53, 30.66s/it]"
     ]
    },
    {
     "name": "stdout",
     "output_type": "stream",
     "text": [
      "------ out shape----------- (100, 4)\n"
     ]
    },
    {
     "name": "stderr",
     "output_type": "stream",
     "text": [
      "  0%|          | 22/4541 [11:20<39:15:26, 31.27s/it]"
     ]
    },
    {
     "name": "stdout",
     "output_type": "stream",
     "text": [
      "------ out shape----------- (100, 4)\n"
     ]
    },
    {
     "name": "stderr",
     "output_type": "stream",
     "text": [
      "  1%|          | 23/4541 [11:51<39:18:54, 31.33s/it]"
     ]
    },
    {
     "name": "stdout",
     "output_type": "stream",
     "text": [
      "------ out shape----------- (100, 4)\n"
     ]
    },
    {
     "name": "stderr",
     "output_type": "stream",
     "text": [
      "  1%|          | 24/4541 [12:24<39:50:42, 31.76s/it]"
     ]
    },
    {
     "name": "stdout",
     "output_type": "stream",
     "text": [
      "------ out shape----------- (100, 4)\n"
     ]
    },
    {
     "name": "stderr",
     "output_type": "stream",
     "text": [
      "  1%|          | 25/4541 [12:48<36:54:38, 29.42s/it]"
     ]
    },
    {
     "name": "stdout",
     "output_type": "stream",
     "text": [
      "------ out shape----------- (13, 4)\n"
     ]
    },
    {
     "name": "stderr",
     "output_type": "stream",
     "text": [
      "  1%|          | 26/4541 [13:20<37:45:09, 30.10s/it]"
     ]
    },
    {
     "name": "stdout",
     "output_type": "stream",
     "text": [
      "------ out shape----------- (100, 4)\n"
     ]
    },
    {
     "name": "stderr",
     "output_type": "stream",
     "text": [
      "  1%|          | 27/4541 [13:51<38:15:51, 30.52s/it]"
     ]
    },
    {
     "name": "stdout",
     "output_type": "stream",
     "text": [
      "------ out shape----------- (100, 4)\n"
     ]
    },
    {
     "name": "stderr",
     "output_type": "stream",
     "text": [
      "  1%|          | 28/4541 [14:23<38:40:04, 30.85s/it]"
     ]
    },
    {
     "name": "stdout",
     "output_type": "stream",
     "text": [
      "------ out shape----------- (100, 4)\n"
     ]
    },
    {
     "name": "stderr",
     "output_type": "stream",
     "text": [
      "  1%|          | 29/4541 [14:54<38:41:35, 30.87s/it]"
     ]
    },
    {
     "name": "stdout",
     "output_type": "stream",
     "text": [
      "------ out shape----------- (100, 4)\n"
     ]
    },
    {
     "name": "stderr",
     "output_type": "stream",
     "text": [
      "  1%|          | 30/4541 [15:21<37:21:31, 29.81s/it]"
     ]
    },
    {
     "name": "stdout",
     "output_type": "stream",
     "text": [
      "------ out shape----------- (68, 4)\n"
     ]
    },
    {
     "name": "stderr",
     "output_type": "stream",
     "text": [
      "  1%|          | 31/4541 [15:50<37:10:41, 29.68s/it]"
     ]
    },
    {
     "name": "stdout",
     "output_type": "stream",
     "text": [
      "------ out shape----------- (100, 4)\n"
     ]
    },
    {
     "name": "stderr",
     "output_type": "stream",
     "text": [
      "  1%|          | 32/4541 [16:23<38:10:07, 30.47s/it]"
     ]
    },
    {
     "name": "stdout",
     "output_type": "stream",
     "text": [
      "------ out shape----------- (100, 4)\n"
     ]
    },
    {
     "name": "stderr",
     "output_type": "stream",
     "text": [
      "  1%|          | 33/4541 [16:54<38:36:40, 30.83s/it]"
     ]
    },
    {
     "name": "stdout",
     "output_type": "stream",
     "text": [
      "------ out shape----------- (100, 4)\n"
     ]
    },
    {
     "name": "stderr",
     "output_type": "stream",
     "text": [
      "  1%|          | 34/4541 [17:26<39:01:55, 31.18s/it]"
     ]
    },
    {
     "name": "stdout",
     "output_type": "stream",
     "text": [
      "------ out shape----------- (100, 4)\n"
     ]
    },
    {
     "name": "stderr",
     "output_type": "stream",
     "text": [
      "  1%|          | 35/4541 [17:59<39:36:07, 31.64s/it]"
     ]
    },
    {
     "name": "stdout",
     "output_type": "stream",
     "text": [
      "------ out shape----------- (100, 4)\n"
     ]
    },
    {
     "name": "stderr",
     "output_type": "stream",
     "text": [
      "  1%|          | 36/4541 [18:31<39:51:44, 31.85s/it]"
     ]
    },
    {
     "name": "stdout",
     "output_type": "stream",
     "text": [
      "------ out shape----------- (100, 4)\n"
     ]
    },
    {
     "name": "stderr",
     "output_type": "stream",
     "text": [
      "  1%|          | 37/4541 [19:06<40:54:01, 32.69s/it]"
     ]
    },
    {
     "name": "stdout",
     "output_type": "stream",
     "text": [
      "------ out shape----------- (100, 4)\n"
     ]
    },
    {
     "name": "stderr",
     "output_type": "stream",
     "text": [
      "  1%|          | 38/4541 [19:38<40:36:01, 32.46s/it]"
     ]
    },
    {
     "name": "stdout",
     "output_type": "stream",
     "text": [
      "------ out shape----------- (100, 4)\n"
     ]
    },
    {
     "name": "stderr",
     "output_type": "stream",
     "text": [
      "  1%|          | 39/4541 [20:09<39:56:55, 31.94s/it]"
     ]
    },
    {
     "name": "stdout",
     "output_type": "stream",
     "text": [
      "------ out shape----------- (100, 4)\n"
     ]
    },
    {
     "name": "stderr",
     "output_type": "stream",
     "text": [
      "  1%|          | 40/4541 [20:41<39:55:03, 31.93s/it]"
     ]
    },
    {
     "name": "stdout",
     "output_type": "stream",
     "text": [
      "------ out shape----------- (100, 4)\n"
     ]
    },
    {
     "name": "stderr",
     "output_type": "stream",
     "text": [
      "  1%|          | 41/4541 [21:11<39:26:12, 31.55s/it]"
     ]
    },
    {
     "name": "stdout",
     "output_type": "stream",
     "text": [
      "------ out shape----------- (100, 4)\n"
     ]
    },
    {
     "name": "stderr",
     "output_type": "stream",
     "text": [
      "  1%|          | 42/4541 [21:43<39:34:47, 31.67s/it]"
     ]
    },
    {
     "name": "stdout",
     "output_type": "stream",
     "text": [
      "------ out shape----------- (100, 4)\n"
     ]
    },
    {
     "name": "stderr",
     "output_type": "stream",
     "text": [
      "  1%|          | 43/4541 [22:14<39:24:40, 31.54s/it]"
     ]
    },
    {
     "name": "stdout",
     "output_type": "stream",
     "text": [
      "------ out shape----------- (100, 4)\n"
     ]
    },
    {
     "name": "stderr",
     "output_type": "stream",
     "text": [
      "  1%|          | 44/4541 [22:40<37:02:47, 29.66s/it]"
     ]
    },
    {
     "name": "stdout",
     "output_type": "stream",
     "text": [
      "------ out shape----------- (28, 4)\n"
     ]
    },
    {
     "name": "stderr",
     "output_type": "stream",
     "text": [
      "  1%|          | 45/4541 [23:12<38:09:00, 30.55s/it]"
     ]
    },
    {
     "name": "stdout",
     "output_type": "stream",
     "text": [
      "------ out shape----------- (100, 4)\n"
     ]
    },
    {
     "name": "stderr",
     "output_type": "stream",
     "text": [
      "  1%|          | 46/4541 [23:43<38:16:35, 30.66s/it]"
     ]
    },
    {
     "name": "stdout",
     "output_type": "stream",
     "text": [
      "------ out shape----------- (100, 4)\n"
     ]
    },
    {
     "name": "stderr",
     "output_type": "stream",
     "text": [
      "  1%|          | 47/4541 [24:14<38:29:26, 30.83s/it]"
     ]
    },
    {
     "name": "stdout",
     "output_type": "stream",
     "text": [
      "------ out shape----------- (100, 4)\n"
     ]
    },
    {
     "name": "stderr",
     "output_type": "stream",
     "text": [
      "  1%|          | 48/4541 [24:46<38:53:09, 31.16s/it]"
     ]
    },
    {
     "name": "stdout",
     "output_type": "stream",
     "text": [
      "------ out shape----------- (100, 4)\n"
     ]
    },
    {
     "name": "stderr",
     "output_type": "stream",
     "text": [
      "  1%|          | 49/4541 [25:18<38:51:46, 31.15s/it]"
     ]
    },
    {
     "name": "stdout",
     "output_type": "stream",
     "text": [
      "------ out shape----------- (100, 4)\n"
     ]
    },
    {
     "name": "stderr",
     "output_type": "stream",
     "text": [
      "  1%|          | 50/4541 [25:49<38:53:14, 31.17s/it]"
     ]
    },
    {
     "name": "stdout",
     "output_type": "stream",
     "text": [
      "------ out shape----------- (100, 4)\n"
     ]
    },
    {
     "name": "stderr",
     "output_type": "stream",
     "text": [
      "  1%|          | 51/4541 [26:18<38:18:52, 30.72s/it]"
     ]
    },
    {
     "name": "stdout",
     "output_type": "stream",
     "text": [
      "------ out shape----------- (100, 4)\n"
     ]
    },
    {
     "name": "stderr",
     "output_type": "stream",
     "text": [
      "  1%|          | 52/4541 [26:52<39:19:29, 31.54s/it]"
     ]
    },
    {
     "name": "stdout",
     "output_type": "stream",
     "text": [
      "------ out shape----------- (100, 4)\n"
     ]
    },
    {
     "name": "stderr",
     "output_type": "stream",
     "text": [
      "  1%|          | 53/4541 [27:23<39:08:01, 31.39s/it]"
     ]
    },
    {
     "name": "stdout",
     "output_type": "stream",
     "text": [
      "------ out shape----------- (100, 4)\n"
     ]
    },
    {
     "name": "stderr",
     "output_type": "stream",
     "text": [
      "  1%|          | 54/4541 [27:54<38:54:33, 31.22s/it]"
     ]
    },
    {
     "name": "stdout",
     "output_type": "stream",
     "text": [
      "------ out shape----------- (100, 4)\n"
     ]
    },
    {
     "name": "stderr",
     "output_type": "stream",
     "text": [
      "  1%|          | 55/4541 [28:26<39:18:08, 31.54s/it]"
     ]
    },
    {
     "name": "stdout",
     "output_type": "stream",
     "text": [
      "------ out shape----------- (100, 4)\n"
     ]
    },
    {
     "name": "stderr",
     "output_type": "stream",
     "text": [
      "  1%|          | 56/4541 [28:58<39:26:21, 31.66s/it]"
     ]
    },
    {
     "name": "stdout",
     "output_type": "stream",
     "text": [
      "------ out shape----------- (100, 4)\n"
     ]
    },
    {
     "name": "stderr",
     "output_type": "stream",
     "text": [
      "  1%|▏         | 57/4541 [29:30<39:30:14, 31.72s/it]"
     ]
    },
    {
     "name": "stdout",
     "output_type": "stream",
     "text": [
      "------ out shape----------- (100, 4)\n"
     ]
    },
    {
     "name": "stderr",
     "output_type": "stream",
     "text": [
      "  1%|▏         | 58/4541 [30:00<38:52:54, 31.22s/it]"
     ]
    },
    {
     "name": "stdout",
     "output_type": "stream",
     "text": [
      "------ out shape----------- (100, 4)\n"
     ]
    },
    {
     "name": "stderr",
     "output_type": "stream",
     "text": [
      "  1%|▏         | 59/4541 [30:32<39:04:26, 31.38s/it]"
     ]
    },
    {
     "name": "stdout",
     "output_type": "stream",
     "text": [
      "------ out shape----------- (100, 4)\n"
     ]
    },
    {
     "name": "stderr",
     "output_type": "stream",
     "text": [
      "  1%|▏         | 60/4541 [31:04<39:33:13, 31.78s/it]"
     ]
    },
    {
     "name": "stdout",
     "output_type": "stream",
     "text": [
      "------ out shape----------- (100, 4)\n"
     ]
    },
    {
     "name": "stderr",
     "output_type": "stream",
     "text": [
      "  1%|▏         | 61/4541 [31:33<38:31:59, 30.96s/it]"
     ]
    },
    {
     "name": "stdout",
     "output_type": "stream",
     "text": [
      "------ out shape----------- (100, 4)\n"
     ]
    },
    {
     "name": "stderr",
     "output_type": "stream",
     "text": [
      "  1%|▏         | 62/4541 [32:06<39:13:04, 31.52s/it]"
     ]
    },
    {
     "name": "stdout",
     "output_type": "stream",
     "text": [
      "------ out shape----------- (100, 4)\n"
     ]
    },
    {
     "name": "stderr",
     "output_type": "stream",
     "text": [
      "  1%|▏         | 63/4541 [32:39<39:29:48, 31.75s/it]"
     ]
    },
    {
     "name": "stdout",
     "output_type": "stream",
     "text": [
      "------ out shape----------- (100, 4)\n"
     ]
    },
    {
     "name": "stderr",
     "output_type": "stream",
     "text": [
      "  1%|▏         | 64/4541 [33:10<39:24:34, 31.69s/it]"
     ]
    },
    {
     "name": "stdout",
     "output_type": "stream",
     "text": [
      "------ out shape----------- (100, 4)\n"
     ]
    },
    {
     "name": "stderr",
     "output_type": "stream",
     "text": [
      "  1%|▏         | 65/4541 [33:39<38:14:21, 30.76s/it]"
     ]
    },
    {
     "name": "stdout",
     "output_type": "stream",
     "text": [
      "------ out shape----------- (100, 4)\n"
     ]
    },
    {
     "name": "stderr",
     "output_type": "stream",
     "text": [
      "  1%|▏         | 66/4541 [34:11<38:49:05, 31.23s/it]"
     ]
    },
    {
     "name": "stdout",
     "output_type": "stream",
     "text": [
      "------ out shape----------- (100, 4)\n"
     ]
    },
    {
     "name": "stderr",
     "output_type": "stream",
     "text": [
      "  1%|▏         | 67/4541 [34:42<38:51:48, 31.27s/it]"
     ]
    },
    {
     "name": "stdout",
     "output_type": "stream",
     "text": [
      "------ out shape----------- (100, 4)\n"
     ]
    },
    {
     "name": "stderr",
     "output_type": "stream",
     "text": [
      "  1%|▏         | 68/4541 [35:13<38:47:45, 31.22s/it]"
     ]
    },
    {
     "name": "stdout",
     "output_type": "stream",
     "text": [
      "------ out shape----------- (100, 4)\n"
     ]
    },
    {
     "name": "stderr",
     "output_type": "stream",
     "text": [
      "  2%|▏         | 69/4541 [35:45<38:52:59, 31.30s/it]"
     ]
    },
    {
     "name": "stdout",
     "output_type": "stream",
     "text": [
      "------ out shape----------- (100, 4)\n"
     ]
    },
    {
     "name": "stderr",
     "output_type": "stream",
     "text": [
      "  2%|▏         | 70/4541 [36:17<39:06:47, 31.49s/it]"
     ]
    },
    {
     "name": "stdout",
     "output_type": "stream",
     "text": [
      "------ out shape----------- (100, 4)\n"
     ]
    },
    {
     "name": "stderr",
     "output_type": "stream",
     "text": [
      "  2%|▏         | 71/4541 [36:49<39:19:10, 31.67s/it]"
     ]
    },
    {
     "name": "stdout",
     "output_type": "stream",
     "text": [
      "------ out shape----------- (100, 4)\n"
     ]
    },
    {
     "name": "stderr",
     "output_type": "stream",
     "text": [
      "  2%|▏         | 72/4541 [37:21<39:26:55, 31.78s/it]"
     ]
    },
    {
     "name": "stdout",
     "output_type": "stream",
     "text": [
      "------ out shape----------- (100, 4)\n"
     ]
    },
    {
     "name": "stderr",
     "output_type": "stream",
     "text": [
      "  2%|▏         | 73/4541 [37:53<39:36:44, 31.92s/it]"
     ]
    },
    {
     "name": "stdout",
     "output_type": "stream",
     "text": [
      "------ out shape----------- (100, 4)\n"
     ]
    },
    {
     "name": "stderr",
     "output_type": "stream",
     "text": [
      "  2%|▏         | 74/4541 [38:26<39:49:32, 32.10s/it]"
     ]
    },
    {
     "name": "stdout",
     "output_type": "stream",
     "text": [
      "------ out shape----------- (100, 4)\n"
     ]
    },
    {
     "name": "stderr",
     "output_type": "stream",
     "text": [
      "  2%|▏         | 75/4541 [38:58<39:42:04, 32.00s/it]"
     ]
    },
    {
     "name": "stdout",
     "output_type": "stream",
     "text": [
      "------ out shape----------- (100, 4)\n"
     ]
    },
    {
     "name": "stderr",
     "output_type": "stream",
     "text": [
      "  2%|▏         | 76/4541 [39:28<39:07:03, 31.54s/it]"
     ]
    },
    {
     "name": "stdout",
     "output_type": "stream",
     "text": [
      "------ out shape----------- (100, 4)\n"
     ]
    },
    {
     "name": "stderr",
     "output_type": "stream",
     "text": [
      "  2%|▏         | 77/4541 [40:00<39:14:58, 31.65s/it]"
     ]
    },
    {
     "name": "stdout",
     "output_type": "stream",
     "text": [
      "------ out shape----------- (100, 4)\n"
     ]
    },
    {
     "name": "stderr",
     "output_type": "stream",
     "text": [
      "  2%|▏         | 78/4541 [40:32<39:29:18, 31.85s/it]"
     ]
    },
    {
     "name": "stdout",
     "output_type": "stream",
     "text": [
      "------ out shape----------- (100, 4)\n"
     ]
    },
    {
     "name": "stderr",
     "output_type": "stream",
     "text": [
      "  2%|▏         | 79/4541 [41:04<39:20:38, 31.74s/it]"
     ]
    },
    {
     "name": "stdout",
     "output_type": "stream",
     "text": [
      "------ out shape----------- (100, 4)\n"
     ]
    },
    {
     "name": "stderr",
     "output_type": "stream",
     "text": [
      "  2%|▏         | 80/4541 [41:35<39:18:38, 31.72s/it]"
     ]
    },
    {
     "name": "stdout",
     "output_type": "stream",
     "text": [
      "------ out shape----------- (100, 4)\n"
     ]
    },
    {
     "name": "stderr",
     "output_type": "stream",
     "text": [
      "  2%|▏         | 81/4541 [42:06<38:56:24, 31.43s/it]"
     ]
    },
    {
     "name": "stdout",
     "output_type": "stream",
     "text": [
      "------ out shape----------- (100, 4)\n"
     ]
    },
    {
     "name": "stderr",
     "output_type": "stream",
     "text": [
      "  2%|▏         | 82/4541 [42:38<38:56:49, 31.44s/it]"
     ]
    },
    {
     "name": "stdout",
     "output_type": "stream",
     "text": [
      "------ out shape----------- (100, 4)\n"
     ]
    },
    {
     "name": "stderr",
     "output_type": "stream",
     "text": [
      "  2%|▏         | 83/4541 [43:09<38:53:14, 31.40s/it]"
     ]
    },
    {
     "name": "stdout",
     "output_type": "stream",
     "text": [
      "------ out shape----------- (100, 4)\n"
     ]
    },
    {
     "name": "stderr",
     "output_type": "stream",
     "text": [
      "  2%|▏         | 84/4541 [43:40<38:57:06, 31.46s/it]"
     ]
    },
    {
     "name": "stdout",
     "output_type": "stream",
     "text": [
      "------ out shape----------- (100, 4)\n"
     ]
    },
    {
     "name": "stderr",
     "output_type": "stream",
     "text": [
      "  2%|▏         | 85/4541 [44:14<39:33:19, 31.96s/it]"
     ]
    },
    {
     "name": "stdout",
     "output_type": "stream",
     "text": [
      "------ out shape----------- (100, 4)\n"
     ]
    },
    {
     "name": "stderr",
     "output_type": "stream",
     "text": [
      "  2%|▏         | 86/4541 [44:44<39:02:45, 31.55s/it]"
     ]
    },
    {
     "name": "stdout",
     "output_type": "stream",
     "text": [
      "------ out shape----------- (100, 4)\n"
     ]
    },
    {
     "name": "stderr",
     "output_type": "stream",
     "text": [
      "  2%|▏         | 87/4541 [45:14<38:27:25, 31.08s/it]"
     ]
    },
    {
     "name": "stdout",
     "output_type": "stream",
     "text": [
      "------ out shape----------- (100, 4)\n"
     ]
    },
    {
     "name": "stderr",
     "output_type": "stream",
     "text": [
      "  2%|▏         | 88/4541 [45:47<38:59:33, 31.52s/it]"
     ]
    },
    {
     "name": "stdout",
     "output_type": "stream",
     "text": [
      "------ out shape----------- (100, 4)\n"
     ]
    },
    {
     "name": "stderr",
     "output_type": "stream",
     "text": [
      "  2%|▏         | 89/4541 [46:18<38:47:56, 31.37s/it]"
     ]
    },
    {
     "name": "stdout",
     "output_type": "stream",
     "text": [
      "------ out shape----------- (100, 4)\n"
     ]
    },
    {
     "name": "stderr",
     "output_type": "stream",
     "text": [
      "  2%|▏         | 90/4541 [46:48<38:16:01, 30.95s/it]"
     ]
    },
    {
     "name": "stdout",
     "output_type": "stream",
     "text": [
      "------ out shape----------- (100, 4)\n"
     ]
    },
    {
     "name": "stderr",
     "output_type": "stream",
     "text": [
      "  2%|▏         | 91/4541 [47:19<38:21:43, 31.03s/it]"
     ]
    },
    {
     "name": "stdout",
     "output_type": "stream",
     "text": [
      "------ out shape----------- (100, 4)\n"
     ]
    },
    {
     "name": "stderr",
     "output_type": "stream",
     "text": [
      "  2%|▏         | 92/4541 [47:50<38:16:18, 30.97s/it]"
     ]
    },
    {
     "name": "stdout",
     "output_type": "stream",
     "text": [
      "------ out shape----------- (100, 4)\n"
     ]
    },
    {
     "name": "stderr",
     "output_type": "stream",
     "text": [
      "  2%|▏         | 93/4541 [48:21<38:24:24, 31.08s/it]"
     ]
    },
    {
     "name": "stdout",
     "output_type": "stream",
     "text": [
      "------ out shape----------- (100, 4)\n"
     ]
    },
    {
     "name": "stderr",
     "output_type": "stream",
     "text": [
      "  2%|▏         | 94/4541 [48:51<38:06:39, 30.85s/it]"
     ]
    },
    {
     "name": "stdout",
     "output_type": "stream",
     "text": [
      "------ out shape----------- (100, 4)\n"
     ]
    },
    {
     "name": "stderr",
     "output_type": "stream",
     "text": [
      "  2%|▏         | 95/4541 [49:23<38:22:11, 31.07s/it]"
     ]
    },
    {
     "name": "stdout",
     "output_type": "stream",
     "text": [
      "------ out shape----------- (100, 4)\n"
     ]
    },
    {
     "name": "stderr",
     "output_type": "stream",
     "text": [
      "  2%|▏         | 96/4541 [49:56<39:06:13, 31.67s/it]"
     ]
    },
    {
     "name": "stdout",
     "output_type": "stream",
     "text": [
      "------ out shape----------- (100, 4)\n"
     ]
    },
    {
     "name": "stderr",
     "output_type": "stream",
     "text": [
      "  2%|▏         | 97/4541 [50:28<39:08:08, 31.70s/it]"
     ]
    },
    {
     "name": "stdout",
     "output_type": "stream",
     "text": [
      "------ out shape----------- (100, 4)\n"
     ]
    },
    {
     "name": "stderr",
     "output_type": "stream",
     "text": [
      "  2%|▏         | 98/4541 [51:00<39:12:10, 31.76s/it]"
     ]
    },
    {
     "name": "stdout",
     "output_type": "stream",
     "text": [
      "------ out shape----------- (100, 4)\n"
     ]
    },
    {
     "name": "stderr",
     "output_type": "stream",
     "text": [
      "  2%|▏         | 99/4541 [51:31<39:01:36, 31.63s/it]"
     ]
    },
    {
     "name": "stdout",
     "output_type": "stream",
     "text": [
      "------ out shape----------- (100, 4)\n"
     ]
    },
    {
     "name": "stderr",
     "output_type": "stream",
     "text": [
      "  2%|▏         | 100/4541 [52:01<38:29:04, 31.20s/it]"
     ]
    },
    {
     "name": "stdout",
     "output_type": "stream",
     "text": [
      "------ out shape----------- (100, 4)\n"
     ]
    },
    {
     "name": "stderr",
     "output_type": "stream",
     "text": [
      "  2%|▏         | 101/4541 [52:31<38:06:07, 30.89s/it]"
     ]
    },
    {
     "name": "stdout",
     "output_type": "stream",
     "text": [
      "------ out shape----------- (100, 4)\n"
     ]
    },
    {
     "name": "stderr",
     "output_type": "stream",
     "text": [
      "  2%|▏         | 102/4541 [53:02<38:05:11, 30.89s/it]"
     ]
    },
    {
     "name": "stdout",
     "output_type": "stream",
     "text": [
      "------ out shape----------- (100, 4)\n"
     ]
    },
    {
     "name": "stderr",
     "output_type": "stream",
     "text": [
      "  2%|▏         | 103/4541 [53:34<38:25:42, 31.17s/it]"
     ]
    },
    {
     "name": "stdout",
     "output_type": "stream",
     "text": [
      "------ out shape----------- (100, 4)\n"
     ]
    },
    {
     "name": "stderr",
     "output_type": "stream",
     "text": [
      "  2%|▏         | 104/4541 [54:06<38:46:57, 31.47s/it]"
     ]
    },
    {
     "name": "stdout",
     "output_type": "stream",
     "text": [
      "------ out shape----------- (100, 4)\n"
     ]
    },
    {
     "name": "stderr",
     "output_type": "stream",
     "text": [
      "  2%|▏         | 105/4541 [54:37<38:22:44, 31.15s/it]"
     ]
    },
    {
     "name": "stdout",
     "output_type": "stream",
     "text": [
      "------ out shape----------- (100, 4)\n"
     ]
    },
    {
     "name": "stderr",
     "output_type": "stream",
     "text": [
      "  2%|▏         | 106/4541 [55:08<38:23:47, 31.17s/it]"
     ]
    },
    {
     "name": "stdout",
     "output_type": "stream",
     "text": [
      "------ out shape----------- (100, 4)\n"
     ]
    },
    {
     "name": "stderr",
     "output_type": "stream",
     "text": [
      "  2%|▏         | 107/4541 [55:46<40:55:56, 33.23s/it]"
     ]
    },
    {
     "name": "stdout",
     "output_type": "stream",
     "text": [
      "------ out shape----------- (100, 4)\n"
     ]
    },
    {
     "name": "stderr",
     "output_type": "stream",
     "text": [
      "  2%|▏         | 108/4541 [56:18<40:32:16, 32.92s/it]"
     ]
    },
    {
     "name": "stdout",
     "output_type": "stream",
     "text": [
      "------ out shape----------- (100, 4)\n"
     ]
    },
    {
     "name": "stderr",
     "output_type": "stream",
     "text": [
      "  2%|▏         | 109/4541 [56:48<39:26:41, 32.04s/it]"
     ]
    },
    {
     "name": "stdout",
     "output_type": "stream",
     "text": [
      "------ out shape----------- (100, 4)\n"
     ]
    },
    {
     "name": "stderr",
     "output_type": "stream",
     "text": [
      "  2%|▏         | 110/4541 [57:19<39:00:36, 31.69s/it]"
     ]
    },
    {
     "name": "stdout",
     "output_type": "stream",
     "text": [
      "------ out shape----------- (100, 4)\n"
     ]
    },
    {
     "name": "stderr",
     "output_type": "stream",
     "text": [
      "  2%|▏         | 111/4541 [57:51<39:11:45, 31.85s/it]"
     ]
    },
    {
     "name": "stdout",
     "output_type": "stream",
     "text": [
      "------ out shape----------- (100, 4)\n"
     ]
    },
    {
     "name": "stderr",
     "output_type": "stream",
     "text": [
      "  2%|▏         | 112/4541 [58:23<39:08:12, 31.81s/it]"
     ]
    },
    {
     "name": "stdout",
     "output_type": "stream",
     "text": [
      "------ out shape----------- (100, 4)\n"
     ]
    },
    {
     "name": "stderr",
     "output_type": "stream",
     "text": [
      "  2%|▏         | 113/4541 [58:53<38:27:56, 31.27s/it]"
     ]
    },
    {
     "name": "stdout",
     "output_type": "stream",
     "text": [
      "------ out shape----------- (100, 4)\n"
     ]
    },
    {
     "name": "stderr",
     "output_type": "stream",
     "text": [
      "  3%|▎         | 114/4541 [59:24<38:29:05, 31.30s/it]"
     ]
    },
    {
     "name": "stdout",
     "output_type": "stream",
     "text": [
      "------ out shape----------- (100, 4)\n"
     ]
    },
    {
     "name": "stderr",
     "output_type": "stream",
     "text": [
      "  3%|▎         | 115/4541 [59:55<38:17:27, 31.14s/it]"
     ]
    },
    {
     "name": "stdout",
     "output_type": "stream",
     "text": [
      "------ out shape----------- (100, 4)\n"
     ]
    },
    {
     "name": "stderr",
     "output_type": "stream",
     "text": [
      "  3%|▎         | 116/4541 [1:00:27<38:25:19, 31.26s/it]"
     ]
    },
    {
     "name": "stdout",
     "output_type": "stream",
     "text": [
      "------ out shape----------- (100, 4)\n"
     ]
    },
    {
     "name": "stderr",
     "output_type": "stream",
     "text": [
      "  3%|▎         | 117/4541 [1:00:59<38:41:29, 31.48s/it]"
     ]
    },
    {
     "name": "stdout",
     "output_type": "stream",
     "text": [
      "------ out shape----------- (100, 4)\n"
     ]
    },
    {
     "name": "stderr",
     "output_type": "stream",
     "text": [
      "  3%|▎         | 118/4541 [1:01:30<38:28:31, 31.32s/it]"
     ]
    },
    {
     "name": "stdout",
     "output_type": "stream",
     "text": [
      "------ out shape----------- (100, 4)\n"
     ]
    },
    {
     "name": "stderr",
     "output_type": "stream",
     "text": [
      "  3%|▎         | 119/4541 [1:02:01<38:35:02, 31.41s/it]"
     ]
    },
    {
     "name": "stdout",
     "output_type": "stream",
     "text": [
      "------ out shape----------- (100, 4)\n"
     ]
    },
    {
     "name": "stderr",
     "output_type": "stream",
     "text": [
      "  3%|▎         | 120/4541 [1:02:33<38:49:04, 31.61s/it]"
     ]
    },
    {
     "name": "stdout",
     "output_type": "stream",
     "text": [
      "------ out shape----------- (100, 4)\n"
     ]
    },
    {
     "name": "stderr",
     "output_type": "stream",
     "text": [
      "  3%|▎         | 121/4541 [1:03:04<38:32:52, 31.40s/it]"
     ]
    },
    {
     "name": "stdout",
     "output_type": "stream",
     "text": [
      "------ out shape----------- (100, 4)\n"
     ]
    },
    {
     "name": "stderr",
     "output_type": "stream",
     "text": [
      "  3%|▎         | 122/4541 [1:03:36<38:29:52, 31.36s/it]"
     ]
    },
    {
     "name": "stdout",
     "output_type": "stream",
     "text": [
      "------ out shape----------- (100, 4)\n"
     ]
    },
    {
     "name": "stderr",
     "output_type": "stream",
     "text": [
      "  3%|▎         | 123/4541 [1:04:07<38:37:22, 31.47s/it]"
     ]
    },
    {
     "name": "stdout",
     "output_type": "stream",
     "text": [
      "------ out shape----------- (100, 4)\n"
     ]
    },
    {
     "name": "stderr",
     "output_type": "stream",
     "text": [
      "  3%|▎         | 124/4541 [1:04:38<38:29:55, 31.38s/it]"
     ]
    },
    {
     "name": "stdout",
     "output_type": "stream",
     "text": [
      "------ out shape----------- (100, 4)\n"
     ]
    },
    {
     "name": "stderr",
     "output_type": "stream",
     "text": [
      "  3%|▎         | 125/4541 [1:05:11<38:50:39, 31.67s/it]"
     ]
    },
    {
     "name": "stdout",
     "output_type": "stream",
     "text": [
      "------ out shape----------- (100, 4)\n"
     ]
    },
    {
     "name": "stderr",
     "output_type": "stream",
     "text": [
      "  3%|▎         | 126/4541 [1:05:44<39:19:42, 32.07s/it]"
     ]
    },
    {
     "name": "stdout",
     "output_type": "stream",
     "text": [
      "------ out shape----------- (100, 4)\n"
     ]
    },
    {
     "name": "stderr",
     "output_type": "stream",
     "text": [
      "  3%|▎         | 127/4541 [1:06:15<39:09:31, 31.94s/it]"
     ]
    },
    {
     "name": "stdout",
     "output_type": "stream",
     "text": [
      "------ out shape----------- (100, 4)\n"
     ]
    },
    {
     "name": "stderr",
     "output_type": "stream",
     "text": [
      "  3%|▎         | 128/4541 [1:06:47<38:52:59, 31.72s/it]"
     ]
    },
    {
     "name": "stdout",
     "output_type": "stream",
     "text": [
      "------ out shape----------- (100, 4)\n"
     ]
    },
    {
     "name": "stderr",
     "output_type": "stream",
     "text": [
      "  3%|▎         | 129/4541 [1:07:19<39:06:14, 31.91s/it]"
     ]
    },
    {
     "name": "stdout",
     "output_type": "stream",
     "text": [
      "------ out shape----------- (100, 4)\n"
     ]
    },
    {
     "name": "stderr",
     "output_type": "stream",
     "text": [
      "  3%|▎         | 130/4541 [1:07:50<38:50:28, 31.70s/it]"
     ]
    },
    {
     "name": "stdout",
     "output_type": "stream",
     "text": [
      "------ out shape----------- (100, 4)\n"
     ]
    },
    {
     "name": "stderr",
     "output_type": "stream",
     "text": [
      "  3%|▎         | 131/4541 [1:08:21<38:39:55, 31.56s/it]"
     ]
    },
    {
     "name": "stdout",
     "output_type": "stream",
     "text": [
      "------ out shape----------- (100, 4)\n"
     ]
    },
    {
     "name": "stderr",
     "output_type": "stream",
     "text": [
      "  3%|▎         | 132/4541 [1:08:53<38:39:06, 31.56s/it]"
     ]
    },
    {
     "name": "stdout",
     "output_type": "stream",
     "text": [
      "------ out shape----------- (100, 4)\n"
     ]
    },
    {
     "name": "stderr",
     "output_type": "stream",
     "text": [
      "  3%|▎         | 133/4541 [1:09:23<38:04:32, 31.10s/it]"
     ]
    },
    {
     "name": "stdout",
     "output_type": "stream",
     "text": [
      "------ out shape----------- (100, 4)\n"
     ]
    },
    {
     "name": "stderr",
     "output_type": "stream",
     "text": [
      "  3%|▎         | 134/4541 [1:09:56<38:38:56, 31.57s/it]"
     ]
    },
    {
     "name": "stdout",
     "output_type": "stream",
     "text": [
      "------ out shape----------- (100, 4)\n"
     ]
    },
    {
     "name": "stderr",
     "output_type": "stream",
     "text": [
      "  3%|▎         | 135/4541 [1:10:27<38:44:19, 31.65s/it]"
     ]
    },
    {
     "name": "stdout",
     "output_type": "stream",
     "text": [
      "------ out shape----------- (100, 4)\n"
     ]
    },
    {
     "name": "stderr",
     "output_type": "stream",
     "text": [
      "  3%|▎         | 136/4541 [1:10:59<38:47:26, 31.70s/it]"
     ]
    },
    {
     "name": "stdout",
     "output_type": "stream",
     "text": [
      "------ out shape----------- (100, 4)\n"
     ]
    },
    {
     "name": "stderr",
     "output_type": "stream",
     "text": [
      "  3%|▎         | 137/4541 [1:11:30<38:34:42, 31.54s/it]"
     ]
    },
    {
     "name": "stdout",
     "output_type": "stream",
     "text": [
      "------ out shape----------- (100, 4)\n"
     ]
    },
    {
     "name": "stderr",
     "output_type": "stream",
     "text": [
      "  3%|▎         | 138/4541 [1:12:03<39:04:18, 31.95s/it]"
     ]
    },
    {
     "name": "stdout",
     "output_type": "stream",
     "text": [
      "------ out shape----------- (100, 4)\n"
     ]
    },
    {
     "name": "stderr",
     "output_type": "stream",
     "text": [
      "  3%|▎         | 139/4541 [1:12:35<38:46:11, 31.71s/it]"
     ]
    },
    {
     "name": "stdout",
     "output_type": "stream",
     "text": [
      "------ out shape----------- (100, 4)\n"
     ]
    },
    {
     "name": "stderr",
     "output_type": "stream",
     "text": [
      "  3%|▎         | 140/4541 [1:13:05<38:27:03, 31.45s/it]"
     ]
    },
    {
     "name": "stdout",
     "output_type": "stream",
     "text": [
      "------ out shape----------- (100, 4)\n"
     ]
    },
    {
     "name": "stderr",
     "output_type": "stream",
     "text": [
      "  3%|▎         | 141/4541 [1:13:38<38:56:55, 31.87s/it]"
     ]
    },
    {
     "name": "stdout",
     "output_type": "stream",
     "text": [
      "------ out shape----------- (100, 4)\n"
     ]
    },
    {
     "name": "stderr",
     "output_type": "stream",
     "text": [
      "  3%|▎         | 142/4541 [1:14:10<39:03:50, 31.97s/it]"
     ]
    },
    {
     "name": "stdout",
     "output_type": "stream",
     "text": [
      "------ out shape----------- (100, 4)\n"
     ]
    },
    {
     "name": "stderr",
     "output_type": "stream",
     "text": [
      "  3%|▎         | 143/4541 [1:14:41<38:31:36, 31.54s/it]"
     ]
    },
    {
     "name": "stdout",
     "output_type": "stream",
     "text": [
      "------ out shape----------- (100, 4)\n"
     ]
    },
    {
     "name": "stderr",
     "output_type": "stream",
     "text": [
      "  3%|▎         | 144/4541 [1:15:13<38:41:50, 31.68s/it]"
     ]
    },
    {
     "name": "stdout",
     "output_type": "stream",
     "text": [
      "------ out shape----------- (100, 4)\n"
     ]
    },
    {
     "name": "stderr",
     "output_type": "stream",
     "text": [
      "  3%|▎         | 145/4541 [1:15:46<39:03:54, 31.99s/it]"
     ]
    },
    {
     "name": "stdout",
     "output_type": "stream",
     "text": [
      "------ out shape----------- (100, 4)\n"
     ]
    },
    {
     "name": "stderr",
     "output_type": "stream",
     "text": [
      "  3%|▎         | 146/4541 [1:16:15<38:06:49, 31.22s/it]"
     ]
    },
    {
     "name": "stdout",
     "output_type": "stream",
     "text": [
      "------ out shape----------- (100, 4)\n"
     ]
    },
    {
     "name": "stderr",
     "output_type": "stream",
     "text": [
      "  3%|▎         | 147/4541 [1:16:27<30:58:33, 25.38s/it]"
     ]
    },
    {
     "name": "stdout",
     "output_type": "stream",
     "text": [
      "------ out shape----------- (22, 4)\n"
     ]
    },
    {
     "name": "stderr",
     "output_type": "stream",
     "text": [
      "  3%|▎         | 148/4541 [1:16:58<33:07:04, 27.14s/it]"
     ]
    },
    {
     "name": "stdout",
     "output_type": "stream",
     "text": [
      "------ out shape----------- (100, 4)\n"
     ]
    },
    {
     "name": "stderr",
     "output_type": "stream",
     "text": [
      "  3%|▎         | 149/4541 [1:17:29<34:29:57, 28.28s/it]"
     ]
    },
    {
     "name": "stdout",
     "output_type": "stream",
     "text": [
      "------ out shape----------- (100, 4)\n"
     ]
    },
    {
     "name": "stderr",
     "output_type": "stream",
     "text": [
      "  3%|▎         | 150/4541 [1:18:01<35:50:36, 29.39s/it]"
     ]
    },
    {
     "name": "stdout",
     "output_type": "stream",
     "text": [
      "------ out shape----------- (100, 4)\n"
     ]
    },
    {
     "name": "stderr",
     "output_type": "stream",
     "text": [
      "  3%|▎         | 151/4541 [1:18:32<36:25:19, 29.87s/it]"
     ]
    },
    {
     "name": "stdout",
     "output_type": "stream",
     "text": [
      "------ out shape----------- (100, 4)\n"
     ]
    },
    {
     "name": "stderr",
     "output_type": "stream",
     "text": [
      "  3%|▎         | 152/4541 [1:19:01<36:02:30, 29.56s/it]"
     ]
    },
    {
     "name": "stdout",
     "output_type": "stream",
     "text": [
      "------ out shape----------- (100, 4)\n"
     ]
    },
    {
     "name": "stderr",
     "output_type": "stream",
     "text": [
      "  3%|▎         | 153/4541 [1:19:33<36:48:39, 30.20s/it]"
     ]
    },
    {
     "name": "stdout",
     "output_type": "stream",
     "text": [
      "------ out shape----------- (100, 4)\n"
     ]
    },
    {
     "name": "stderr",
     "output_type": "stream",
     "text": [
      "  3%|▎         | 154/4541 [1:20:04<37:10:02, 30.50s/it]"
     ]
    },
    {
     "name": "stdout",
     "output_type": "stream",
     "text": [
      "------ out shape----------- (100, 4)\n"
     ]
    },
    {
     "name": "stderr",
     "output_type": "stream",
     "text": [
      "  3%|▎         | 155/4541 [1:20:35<37:32:55, 30.82s/it]"
     ]
    },
    {
     "name": "stdout",
     "output_type": "stream",
     "text": [
      "------ out shape----------- (100, 4)\n"
     ]
    },
    {
     "name": "stderr",
     "output_type": "stream",
     "text": [
      "  3%|▎         | 156/4541 [1:21:13<39:56:21, 32.79s/it]"
     ]
    },
    {
     "name": "stdout",
     "output_type": "stream",
     "text": [
      "------ out shape----------- (100, 4)\n"
     ]
    },
    {
     "name": "stderr",
     "output_type": "stream",
     "text": [
      "  3%|▎         | 157/4541 [1:21:44<39:25:19, 32.37s/it]"
     ]
    },
    {
     "name": "stdout",
     "output_type": "stream",
     "text": [
      "------ out shape----------- (100, 4)\n"
     ]
    },
    {
     "name": "stderr",
     "output_type": "stream",
     "text": [
      "  3%|▎         | 158/4541 [1:22:14<38:40:01, 31.76s/it]"
     ]
    },
    {
     "name": "stdout",
     "output_type": "stream",
     "text": [
      "------ out shape----------- (100, 4)\n"
     ]
    },
    {
     "name": "stderr",
     "output_type": "stream",
     "text": [
      "  4%|▎         | 159/4541 [1:22:51<40:15:33, 33.07s/it]"
     ]
    },
    {
     "name": "stdout",
     "output_type": "stream",
     "text": [
      "------ out shape----------- (100, 4)\n"
     ]
    },
    {
     "name": "stderr",
     "output_type": "stream",
     "text": [
      "  4%|▎         | 160/4541 [1:23:22<39:44:13, 32.65s/it]"
     ]
    },
    {
     "name": "stdout",
     "output_type": "stream",
     "text": [
      "------ out shape----------- (100, 4)\n"
     ]
    },
    {
     "name": "stderr",
     "output_type": "stream",
     "text": [
      "  4%|▎         | 161/4541 [1:23:54<39:15:19, 32.26s/it]"
     ]
    },
    {
     "name": "stdout",
     "output_type": "stream",
     "text": [
      "------ out shape----------- (100, 4)\n"
     ]
    },
    {
     "name": "stderr",
     "output_type": "stream",
     "text": [
      "  4%|▎         | 162/4541 [1:24:24<38:45:13, 31.86s/it]"
     ]
    },
    {
     "name": "stdout",
     "output_type": "stream",
     "text": [
      "------ out shape----------- (100, 4)\n"
     ]
    },
    {
     "name": "stderr",
     "output_type": "stream",
     "text": [
      "  4%|▎         | 163/4541 [1:24:56<38:41:28, 31.82s/it]"
     ]
    },
    {
     "name": "stdout",
     "output_type": "stream",
     "text": [
      "------ out shape----------- (100, 4)\n"
     ]
    },
    {
     "name": "stderr",
     "output_type": "stream",
     "text": [
      "  4%|▎         | 164/4541 [1:25:29<38:58:31, 32.06s/it]"
     ]
    },
    {
     "name": "stdout",
     "output_type": "stream",
     "text": [
      "------ out shape----------- (100, 4)\n"
     ]
    },
    {
     "name": "stderr",
     "output_type": "stream",
     "text": [
      "  4%|▎         | 165/4541 [1:26:00<38:27:58, 31.65s/it]"
     ]
    },
    {
     "name": "stdout",
     "output_type": "stream",
     "text": [
      "------ out shape----------- (100, 4)\n"
     ]
    },
    {
     "name": "stderr",
     "output_type": "stream",
     "text": [
      "  4%|▎         | 166/4541 [1:26:31<38:25:18, 31.62s/it]"
     ]
    },
    {
     "name": "stdout",
     "output_type": "stream",
     "text": [
      "------ out shape----------- (100, 4)\n"
     ]
    },
    {
     "name": "stderr",
     "output_type": "stream",
     "text": [
      "  4%|▎         | 167/4541 [1:27:02<38:12:07, 31.44s/it]"
     ]
    },
    {
     "name": "stdout",
     "output_type": "stream",
     "text": [
      "------ out shape----------- (100, 4)\n"
     ]
    },
    {
     "name": "stderr",
     "output_type": "stream",
     "text": [
      "  4%|▎         | 168/4541 [1:27:33<37:59:35, 31.28s/it]"
     ]
    },
    {
     "name": "stdout",
     "output_type": "stream",
     "text": [
      "------ out shape----------- (100, 4)\n"
     ]
    },
    {
     "name": "stderr",
     "output_type": "stream",
     "text": [
      "  4%|▎         | 169/4541 [1:28:05<38:23:00, 31.61s/it]"
     ]
    },
    {
     "name": "stdout",
     "output_type": "stream",
     "text": [
      "------ out shape----------- (100, 4)\n"
     ]
    },
    {
     "name": "stderr",
     "output_type": "stream",
     "text": [
      "  4%|▎         | 170/4541 [1:28:38<38:54:01, 32.04s/it]"
     ]
    },
    {
     "name": "stdout",
     "output_type": "stream",
     "text": [
      "------ out shape----------- (100, 4)\n"
     ]
    },
    {
     "name": "stderr",
     "output_type": "stream",
     "text": [
      "  4%|▍         | 171/4541 [1:29:04<36:38:07, 30.18s/it]"
     ]
    },
    {
     "name": "stdout",
     "output_type": "stream",
     "text": [
      "------ out shape----------- (46, 4)\n"
     ]
    },
    {
     "name": "stderr",
     "output_type": "stream",
     "text": [
      "  4%|▍         | 172/4541 [1:29:36<37:09:51, 30.62s/it]"
     ]
    },
    {
     "name": "stdout",
     "output_type": "stream",
     "text": [
      "------ out shape----------- (100, 4)\n"
     ]
    },
    {
     "name": "stderr",
     "output_type": "stream",
     "text": [
      "  4%|▍         | 173/4541 [1:30:06<36:54:54, 30.42s/it]"
     ]
    },
    {
     "name": "stdout",
     "output_type": "stream",
     "text": [
      "------ out shape----------- (100, 4)\n"
     ]
    },
    {
     "name": "stderr",
     "output_type": "stream",
     "text": [
      "  4%|▍         | 174/4541 [1:30:37<37:04:40, 30.57s/it]"
     ]
    },
    {
     "name": "stdout",
     "output_type": "stream",
     "text": [
      "------ out shape----------- (100, 4)\n"
     ]
    },
    {
     "name": "stderr",
     "output_type": "stream",
     "text": [
      "  4%|▍         | 175/4541 [1:31:08<37:13:44, 30.70s/it]"
     ]
    },
    {
     "name": "stdout",
     "output_type": "stream",
     "text": [
      "------ out shape----------- (100, 4)\n"
     ]
    },
    {
     "name": "stderr",
     "output_type": "stream",
     "text": [
      "  4%|▍         | 176/4541 [1:31:35<35:57:09, 29.65s/it]"
     ]
    },
    {
     "name": "stdout",
     "output_type": "stream",
     "text": [
      "------ out shape----------- (81, 4)\n"
     ]
    },
    {
     "name": "stderr",
     "output_type": "stream",
     "text": [
      "  4%|▍         | 177/4541 [1:32:07<36:53:58, 30.44s/it]"
     ]
    },
    {
     "name": "stdout",
     "output_type": "stream",
     "text": [
      "------ out shape----------- (100, 4)\n"
     ]
    },
    {
     "name": "stderr",
     "output_type": "stream",
     "text": [
      "  4%|▍         | 178/4541 [1:32:39<37:21:45, 30.83s/it]"
     ]
    },
    {
     "name": "stdout",
     "output_type": "stream",
     "text": [
      "------ out shape----------- (100, 4)\n"
     ]
    },
    {
     "name": "stderr",
     "output_type": "stream",
     "text": [
      "  4%|▍         | 179/4541 [1:33:05<35:27:33, 29.26s/it]"
     ]
    },
    {
     "name": "stdout",
     "output_type": "stream",
     "text": [
      "------ out shape----------- (48, 4)\n"
     ]
    },
    {
     "name": "stderr",
     "output_type": "stream",
     "text": [
      "  4%|▍         | 180/4541 [1:33:34<35:28:25, 29.28s/it]"
     ]
    },
    {
     "name": "stdout",
     "output_type": "stream",
     "text": [
      "------ out shape----------- (100, 4)\n"
     ]
    },
    {
     "name": "stderr",
     "output_type": "stream",
     "text": [
      "  4%|▍         | 181/4541 [1:34:06<36:37:59, 30.25s/it]"
     ]
    },
    {
     "name": "stdout",
     "output_type": "stream",
     "text": [
      "------ out shape----------- (100, 4)\n"
     ]
    },
    {
     "name": "stderr",
     "output_type": "stream",
     "text": [
      "  4%|▍         | 182/4541 [1:34:34<35:32:05, 29.35s/it]"
     ]
    },
    {
     "name": "stdout",
     "output_type": "stream",
     "text": [
      "------ out shape----------- (86, 4)\n"
     ]
    },
    {
     "name": "stderr",
     "output_type": "stream",
     "text": [
      "  4%|▍         | 183/4541 [1:35:05<36:09:49, 29.87s/it]"
     ]
    },
    {
     "name": "stdout",
     "output_type": "stream",
     "text": [
      "------ out shape----------- (100, 4)\n"
     ]
    },
    {
     "name": "stderr",
     "output_type": "stream",
     "text": [
      "  4%|▍         | 184/4541 [1:35:38<37:22:21, 30.88s/it]"
     ]
    },
    {
     "name": "stdout",
     "output_type": "stream",
     "text": [
      "------ out shape----------- (100, 4)\n"
     ]
    },
    {
     "name": "stderr",
     "output_type": "stream",
     "text": [
      "  4%|▍         | 185/4541 [1:36:09<37:34:31, 31.05s/it]"
     ]
    },
    {
     "name": "stdout",
     "output_type": "stream",
     "text": [
      "------ out shape----------- (100, 4)\n"
     ]
    },
    {
     "name": "stderr",
     "output_type": "stream",
     "text": [
      "  4%|▍         | 186/4541 [1:36:43<38:31:21, 31.84s/it]"
     ]
    },
    {
     "name": "stdout",
     "output_type": "stream",
     "text": [
      "------ out shape----------- (100, 4)\n"
     ]
    },
    {
     "name": "stderr",
     "output_type": "stream",
     "text": [
      "  4%|▍         | 187/4541 [1:37:11<37:00:55, 30.61s/it]"
     ]
    },
    {
     "name": "stdout",
     "output_type": "stream",
     "text": [
      "------ out shape----------- (100, 4)\n"
     ]
    },
    {
     "name": "stderr",
     "output_type": "stream",
     "text": [
      "  4%|▍         | 188/4541 [1:37:44<37:49:43, 31.29s/it]"
     ]
    },
    {
     "name": "stdout",
     "output_type": "stream",
     "text": [
      "------ out shape----------- (100, 4)\n"
     ]
    },
    {
     "name": "stderr",
     "output_type": "stream",
     "text": [
      "  4%|▍         | 189/4541 [1:38:14<37:19:06, 30.87s/it]"
     ]
    },
    {
     "name": "stdout",
     "output_type": "stream",
     "text": [
      "------ out shape----------- (100, 4)\n"
     ]
    },
    {
     "name": "stderr",
     "output_type": "stream",
     "text": [
      "  4%|▍         | 190/4541 [1:38:45<37:33:34, 31.08s/it]"
     ]
    },
    {
     "name": "stdout",
     "output_type": "stream",
     "text": [
      "------ out shape----------- (100, 4)\n"
     ]
    },
    {
     "name": "stderr",
     "output_type": "stream",
     "text": [
      "  4%|▍         | 191/4541 [1:39:16<37:27:00, 30.99s/it]"
     ]
    },
    {
     "name": "stdout",
     "output_type": "stream",
     "text": [
      "------ out shape----------- (100, 4)\n"
     ]
    },
    {
     "name": "stderr",
     "output_type": "stream",
     "text": [
      "  4%|▍         | 192/4541 [1:39:46<37:10:38, 30.77s/it]"
     ]
    },
    {
     "name": "stdout",
     "output_type": "stream",
     "text": [
      "------ out shape----------- (100, 4)\n"
     ]
    },
    {
     "name": "stderr",
     "output_type": "stream",
     "text": [
      "  4%|▍         | 193/4541 [1:40:19<37:58:50, 31.45s/it]"
     ]
    },
    {
     "name": "stdout",
     "output_type": "stream",
     "text": [
      "------ out shape----------- (100, 4)\n"
     ]
    },
    {
     "name": "stderr",
     "output_type": "stream",
     "text": [
      "  4%|▍         | 194/4541 [1:40:52<38:24:10, 31.80s/it]"
     ]
    },
    {
     "name": "stdout",
     "output_type": "stream",
     "text": [
      "------ out shape----------- (100, 4)\n"
     ]
    },
    {
     "name": "stderr",
     "output_type": "stream",
     "text": [
      "  4%|▍         | 195/4541 [1:41:24<38:23:37, 31.80s/it]"
     ]
    },
    {
     "name": "stdout",
     "output_type": "stream",
     "text": [
      "------ out shape----------- (100, 4)\n"
     ]
    },
    {
     "name": "stderr",
     "output_type": "stream",
     "text": [
      "  4%|▍         | 196/4541 [1:41:56<38:38:37, 32.02s/it]"
     ]
    },
    {
     "name": "stdout",
     "output_type": "stream",
     "text": [
      "------ out shape----------- (100, 4)\n"
     ]
    },
    {
     "name": "stderr",
     "output_type": "stream",
     "text": [
      "  4%|▍         | 197/4541 [1:42:19<35:27:14, 29.38s/it]"
     ]
    },
    {
     "name": "stdout",
     "output_type": "stream",
     "text": [
      "------ out shape----------- (21, 4)\n"
     ]
    },
    {
     "name": "stderr",
     "output_type": "stream",
     "text": [
      "  4%|▍         | 198/4541 [1:42:48<35:11:26, 29.17s/it]"
     ]
    },
    {
     "name": "stdout",
     "output_type": "stream",
     "text": [
      "------ out shape----------- (100, 4)\n"
     ]
    },
    {
     "name": "stderr",
     "output_type": "stream",
     "text": [
      "  4%|▍         | 199/4541 [1:46:12<98:16:03, 81.47s/it]"
     ]
    },
    {
     "name": "stdout",
     "output_type": "stream",
     "text": [
      "------ out shape----------- (100, 4)\n"
     ]
    },
    {
     "name": "stderr",
     "output_type": "stream",
     "text": [
      "  4%|▍         | 200/4541 [1:46:42<79:40:42, 66.08s/it]"
     ]
    },
    {
     "name": "stdout",
     "output_type": "stream",
     "text": [
      "------ out shape----------- (100, 4)\n"
     ]
    },
    {
     "name": "stderr",
     "output_type": "stream",
     "text": [
      "  4%|▍         | 201/4541 [1:47:12<66:35:17, 55.23s/it]"
     ]
    },
    {
     "name": "stdout",
     "output_type": "stream",
     "text": [
      "------ out shape----------- (100, 4)\n"
     ]
    },
    {
     "name": "stderr",
     "output_type": "stream",
     "text": [
      "  4%|▍         | 202/4541 [1:47:44<58:12:01, 48.29s/it]"
     ]
    },
    {
     "name": "stdout",
     "output_type": "stream",
     "text": [
      "------ out shape----------- (100, 4)\n"
     ]
    },
    {
     "name": "stderr",
     "output_type": "stream",
     "text": [
      "  4%|▍         | 203/4541 [1:48:21<54:04:37, 44.88s/it]"
     ]
    },
    {
     "name": "stdout",
     "output_type": "stream",
     "text": [
      "------ out shape----------- (100, 4)\n"
     ]
    },
    {
     "name": "stderr",
     "output_type": "stream",
     "text": [
      "  4%|▍         | 204/4541 [1:48:52<48:57:49, 40.64s/it]"
     ]
    },
    {
     "name": "stdout",
     "output_type": "stream",
     "text": [
      "------ out shape----------- (100, 4)\n"
     ]
    },
    {
     "name": "stderr",
     "output_type": "stream",
     "text": [
      "  5%|▍         | 205/4541 [1:49:30<48:16:34, 40.08s/it]"
     ]
    },
    {
     "name": "stdout",
     "output_type": "stream",
     "text": [
      "------ out shape----------- (100, 4)\n"
     ]
    },
    {
     "name": "stderr",
     "output_type": "stream",
     "text": [
      "  5%|▍         | 206/4541 [1:50:03<45:39:28, 37.92s/it]"
     ]
    },
    {
     "name": "stdout",
     "output_type": "stream",
     "text": [
      "------ out shape----------- (100, 4)\n"
     ]
    },
    {
     "name": "stderr",
     "output_type": "stream",
     "text": [
      "  5%|▍         | 207/4541 [1:50:34<43:16:12, 35.94s/it]"
     ]
    },
    {
     "name": "stdout",
     "output_type": "stream",
     "text": [
      "------ out shape----------- (100, 4)\n"
     ]
    },
    {
     "name": "stderr",
     "output_type": "stream",
     "text": [
      "  5%|▍         | 208/4541 [1:53:57<103:34:04, 86.05s/it]"
     ]
    },
    {
     "name": "stdout",
     "output_type": "stream",
     "text": [
      "------ out shape----------- (100, 4)\n"
     ]
    },
    {
     "name": "stderr",
     "output_type": "stream",
     "text": [
      "  5%|▍         | 209/4541 [1:54:30<84:09:57, 69.94s/it] "
     ]
    },
    {
     "name": "stdout",
     "output_type": "stream",
     "text": [
      "------ out shape----------- (100, 4)\n"
     ]
    },
    {
     "name": "stderr",
     "output_type": "stream",
     "text": [
      "  5%|▍         | 210/4541 [1:55:02<70:37:33, 58.71s/it]"
     ]
    },
    {
     "name": "stdout",
     "output_type": "stream",
     "text": [
      "------ out shape----------- (100, 4)\n"
     ]
    },
    {
     "name": "stderr",
     "output_type": "stream",
     "text": [
      "  5%|▍         | 211/4541 [1:55:34<60:42:52, 50.48s/it]"
     ]
    },
    {
     "name": "stdout",
     "output_type": "stream",
     "text": [
      "------ out shape----------- (100, 4)\n"
     ]
    },
    {
     "name": "stderr",
     "output_type": "stream",
     "text": [
      "  5%|▍         | 212/4541 [1:56:06<54:00:45, 44.92s/it]"
     ]
    },
    {
     "name": "stdout",
     "output_type": "stream",
     "text": [
      "------ out shape----------- (100, 4)\n"
     ]
    },
    {
     "name": "stderr",
     "output_type": "stream",
     "text": [
      "  5%|▍         | 213/4541 [1:56:38<49:29:24, 41.17s/it]"
     ]
    },
    {
     "name": "stdout",
     "output_type": "stream",
     "text": [
      "------ out shape----------- (100, 4)\n"
     ]
    },
    {
     "name": "stderr",
     "output_type": "stream",
     "text": [
      "  5%|▍         | 214/4541 [2:00:06<109:47:07, 91.34s/it]"
     ]
    },
    {
     "name": "stdout",
     "output_type": "stream",
     "text": [
      "------ out shape----------- (100, 4)\n"
     ]
    },
    {
     "name": "stderr",
     "output_type": "stream",
     "text": [
      "  5%|▍         | 215/4541 [2:00:37<87:43:29, 73.00s/it] "
     ]
    },
    {
     "name": "stdout",
     "output_type": "stream",
     "text": [
      "------ out shape----------- (100, 4)\n"
     ]
    },
    {
     "name": "stderr",
     "output_type": "stream",
     "text": [
      "  5%|▍         | 216/4541 [2:01:09<72:55:42, 60.70s/it]"
     ]
    },
    {
     "name": "stdout",
     "output_type": "stream",
     "text": [
      "------ out shape----------- (100, 4)\n"
     ]
    },
    {
     "name": "stderr",
     "output_type": "stream",
     "text": [
      "  5%|▍         | 217/4541 [2:01:39<62:04:51, 51.69s/it]"
     ]
    },
    {
     "name": "stdout",
     "output_type": "stream",
     "text": [
      "------ out shape----------- (100, 4)\n"
     ]
    },
    {
     "name": "stderr",
     "output_type": "stream",
     "text": [
      "  5%|▍         | 218/4541 [2:02:10<54:30:33, 45.39s/it]"
     ]
    },
    {
     "name": "stdout",
     "output_type": "stream",
     "text": [
      "------ out shape----------- (100, 4)\n"
     ]
    },
    {
     "name": "stderr",
     "output_type": "stream",
     "text": [
      "  5%|▍         | 219/4541 [2:02:42<49:50:38, 41.52s/it]"
     ]
    },
    {
     "name": "stdout",
     "output_type": "stream",
     "text": [
      "------ out shape----------- (100, 4)\n"
     ]
    },
    {
     "name": "stderr",
     "output_type": "stream",
     "text": [
      "  5%|▍         | 220/4541 [2:03:13<45:56:54, 38.28s/it]"
     ]
    },
    {
     "name": "stdout",
     "output_type": "stream",
     "text": [
      "------ out shape----------- (100, 4)\n"
     ]
    },
    {
     "name": "stderr",
     "output_type": "stream",
     "text": [
      "  5%|▍         | 221/4541 [2:03:43<43:01:05, 35.85s/it]"
     ]
    },
    {
     "name": "stdout",
     "output_type": "stream",
     "text": [
      "------ out shape----------- (100, 4)\n"
     ]
    },
    {
     "name": "stderr",
     "output_type": "stream",
     "text": [
      "  5%|▍         | 222/4541 [2:04:15<41:35:53, 34.67s/it]"
     ]
    },
    {
     "name": "stdout",
     "output_type": "stream",
     "text": [
      "------ out shape----------- (100, 4)\n"
     ]
    },
    {
     "name": "stderr",
     "output_type": "stream",
     "text": [
      "  5%|▍         | 223/4541 [2:04:53<42:41:35, 35.59s/it]"
     ]
    },
    {
     "name": "stdout",
     "output_type": "stream",
     "text": [
      "------ out shape----------- (100, 4)\n"
     ]
    },
    {
     "name": "stderr",
     "output_type": "stream",
     "text": [
      "  5%|▍         | 224/4541 [2:05:26<41:44:16, 34.81s/it]"
     ]
    },
    {
     "name": "stdout",
     "output_type": "stream",
     "text": [
      "------ out shape----------- (100, 4)\n"
     ]
    },
    {
     "name": "stderr",
     "output_type": "stream",
     "text": [
      "  5%|▍         | 225/4541 [2:05:57<40:30:18, 33.79s/it]"
     ]
    },
    {
     "name": "stdout",
     "output_type": "stream",
     "text": [
      "------ out shape----------- (100, 4)\n"
     ]
    },
    {
     "name": "stderr",
     "output_type": "stream",
     "text": [
      "  5%|▍         | 226/4541 [2:06:30<40:05:47, 33.45s/it]"
     ]
    },
    {
     "name": "stdout",
     "output_type": "stream",
     "text": [
      "------ out shape----------- (100, 4)\n"
     ]
    },
    {
     "name": "stderr",
     "output_type": "stream",
     "text": [
      "  5%|▌         | 228/4541 [2:07:01<27:21:41, 22.84s/it]"
     ]
    },
    {
     "name": "stdout",
     "output_type": "stream",
     "text": [
      "------ out shape----------- (100, 4)\n"
     ]
    },
    {
     "name": "stderr",
     "output_type": "stream",
     "text": [
      "  5%|▌         | 229/4541 [2:07:34<30:57:50, 25.85s/it]"
     ]
    },
    {
     "name": "stdout",
     "output_type": "stream",
     "text": [
      "------ out shape----------- (100, 4)\n"
     ]
    },
    {
     "name": "stderr",
     "output_type": "stream",
     "text": [
      "  5%|▌         | 230/4541 [2:08:05<32:50:35, 27.43s/it]"
     ]
    },
    {
     "name": "stdout",
     "output_type": "stream",
     "text": [
      "------ out shape----------- (100, 4)\n"
     ]
    },
    {
     "name": "stderr",
     "output_type": "stream",
     "text": [
      "  5%|▌         | 231/4541 [2:08:37<34:28:39, 28.80s/it]"
     ]
    },
    {
     "name": "stdout",
     "output_type": "stream",
     "text": [
      "------ out shape----------- (100, 4)\n"
     ]
    },
    {
     "name": "stderr",
     "output_type": "stream",
     "text": [
      "  5%|▌         | 232/4541 [2:09:09<35:40:00, 29.80s/it]"
     ]
    },
    {
     "name": "stdout",
     "output_type": "stream",
     "text": [
      "------ out shape----------- (100, 4)\n"
     ]
    },
    {
     "name": "stderr",
     "output_type": "stream",
     "text": [
      "  5%|▌         | 233/4541 [2:09:39<35:57:11, 30.04s/it]"
     ]
    },
    {
     "name": "stdout",
     "output_type": "stream",
     "text": [
      "------ out shape----------- (100, 4)\n"
     ]
    },
    {
     "name": "stderr",
     "output_type": "stream",
     "text": [
      "  5%|▌         | 234/4541 [2:10:11<36:30:53, 30.52s/it]"
     ]
    },
    {
     "name": "stdout",
     "output_type": "stream",
     "text": [
      "------ out shape----------- (100, 4)\n"
     ]
    },
    {
     "name": "stderr",
     "output_type": "stream",
     "text": [
      "  5%|▌         | 235/4541 [2:10:43<36:57:50, 30.90s/it]"
     ]
    },
    {
     "name": "stdout",
     "output_type": "stream",
     "text": [
      "------ out shape----------- (100, 4)\n"
     ]
    },
    {
     "name": "stderr",
     "output_type": "stream",
     "text": [
      "  5%|▌         | 236/4541 [2:11:14<37:12:00, 31.11s/it]"
     ]
    },
    {
     "name": "stdout",
     "output_type": "stream",
     "text": [
      "------ out shape----------- (100, 4)\n"
     ]
    },
    {
     "name": "stderr",
     "output_type": "stream",
     "text": [
      "  5%|▌         | 237/4541 [2:11:47<37:39:17, 31.50s/it]"
     ]
    },
    {
     "name": "stdout",
     "output_type": "stream",
     "text": [
      "------ out shape----------- (100, 4)\n"
     ]
    },
    {
     "name": "stderr",
     "output_type": "stream",
     "text": [
      "  5%|▌         | 238/4541 [2:12:21<38:27:11, 32.17s/it]"
     ]
    },
    {
     "name": "stdout",
     "output_type": "stream",
     "text": [
      "------ out shape----------- (100, 4)\n"
     ]
    },
    {
     "name": "stderr",
     "output_type": "stream",
     "text": [
      "  5%|▌         | 239/4541 [2:12:53<38:23:55, 32.13s/it]"
     ]
    },
    {
     "name": "stdout",
     "output_type": "stream",
     "text": [
      "------ out shape----------- (100, 4)\n"
     ]
    },
    {
     "name": "stderr",
     "output_type": "stream",
     "text": [
      "  5%|▌         | 240/4541 [2:13:16<35:07:02, 29.39s/it]"
     ]
    },
    {
     "name": "stdout",
     "output_type": "stream",
     "text": [
      "------ out shape----------- (2, 4)\n"
     ]
    },
    {
     "name": "stderr",
     "output_type": "stream",
     "text": [
      "  5%|▌         | 241/4541 [2:13:48<36:13:11, 30.32s/it]"
     ]
    },
    {
     "name": "stdout",
     "output_type": "stream",
     "text": [
      "------ out shape----------- (100, 4)\n"
     ]
    },
    {
     "name": "stderr",
     "output_type": "stream",
     "text": [
      "  5%|▌         | 242/4541 [2:14:19<36:30:17, 30.57s/it]"
     ]
    },
    {
     "name": "stdout",
     "output_type": "stream",
     "text": [
      "------ out shape----------- (100, 4)\n"
     ]
    },
    {
     "name": "stderr",
     "output_type": "stream",
     "text": [
      "  5%|▌         | 243/4541 [2:16:54<81:05:32, 67.92s/it]"
     ]
    },
    {
     "name": "stdout",
     "output_type": "stream",
     "text": [
      "------ out shape----------- (100, 4)\n"
     ]
    },
    {
     "name": "stderr",
     "output_type": "stream",
     "text": [
      "  5%|▌         | 244/4541 [2:17:25<67:37:33, 56.66s/it]"
     ]
    },
    {
     "name": "stdout",
     "output_type": "stream",
     "text": [
      "------ out shape----------- (100, 4)\n"
     ]
    },
    {
     "name": "stderr",
     "output_type": "stream",
     "text": [
      "  5%|▌         | 245/4541 [2:17:56<58:43:11, 49.21s/it]"
     ]
    },
    {
     "name": "stdout",
     "output_type": "stream",
     "text": [
      "------ out shape----------- (100, 4)\n"
     ]
    },
    {
     "name": "stderr",
     "output_type": "stream",
     "text": [
      "  5%|▌         | 246/4541 [2:18:28<52:29:37, 44.00s/it]"
     ]
    },
    {
     "name": "stdout",
     "output_type": "stream",
     "text": [
      "------ out shape----------- (100, 4)\n"
     ]
    },
    {
     "name": "stderr",
     "output_type": "stream",
     "text": [
      "  5%|▌         | 247/4541 [2:18:58<47:26:48, 39.78s/it]"
     ]
    },
    {
     "name": "stdout",
     "output_type": "stream",
     "text": [
      "------ out shape----------- (100, 4)\n"
     ]
    },
    {
     "name": "stderr",
     "output_type": "stream",
     "text": [
      "  5%|▌         | 248/4541 [2:19:29<44:20:46, 37.19s/it]"
     ]
    },
    {
     "name": "stdout",
     "output_type": "stream",
     "text": [
      "------ out shape----------- (100, 4)\n"
     ]
    },
    {
     "name": "stderr",
     "output_type": "stream",
     "text": [
      "  5%|▌         | 249/4541 [2:20:02<42:35:27, 35.72s/it]"
     ]
    },
    {
     "name": "stdout",
     "output_type": "stream",
     "text": [
      "------ out shape----------- (100, 4)\n"
     ]
    },
    {
     "name": "stderr",
     "output_type": "stream",
     "text": [
      "  6%|▌         | 250/4541 [2:20:33<41:07:37, 34.50s/it]"
     ]
    },
    {
     "name": "stdout",
     "output_type": "stream",
     "text": [
      "------ out shape----------- (100, 4)\n"
     ]
    },
    {
     "name": "stderr",
     "output_type": "stream",
     "text": [
      "  6%|▌         | 251/4541 [2:21:01<38:29:56, 32.31s/it]"
     ]
    },
    {
     "name": "stdout",
     "output_type": "stream",
     "text": [
      "------ out shape----------- (85, 4)\n"
     ]
    },
    {
     "name": "stderr",
     "output_type": "stream",
     "text": [
      "  6%|▌         | 252/4541 [2:23:53<88:31:29, 74.30s/it]"
     ]
    },
    {
     "name": "stdout",
     "output_type": "stream",
     "text": [
      "------ out shape----------- (100, 4)\n"
     ]
    },
    {
     "name": "stderr",
     "output_type": "stream",
     "text": [
      "  6%|▌         | 253/4541 [2:24:24<73:12:17, 61.46s/it]"
     ]
    },
    {
     "name": "stdout",
     "output_type": "stream",
     "text": [
      "------ out shape----------- (100, 4)\n"
     ]
    },
    {
     "name": "stderr",
     "output_type": "stream",
     "text": [
      "  6%|▌         | 254/4541 [2:24:55<62:17:04, 52.30s/it]"
     ]
    },
    {
     "name": "stdout",
     "output_type": "stream",
     "text": [
      "------ out shape----------- (100, 4)\n"
     ]
    },
    {
     "name": "stderr",
     "output_type": "stream",
     "text": [
      "  6%|▌         | 255/4541 [2:25:28<55:14:09, 46.40s/it]"
     ]
    },
    {
     "name": "stdout",
     "output_type": "stream",
     "text": [
      "------ out shape----------- (100, 4)\n"
     ]
    },
    {
     "name": "stderr",
     "output_type": "stream",
     "text": [
      "  6%|▌         | 256/4541 [2:25:52<47:10:57, 39.64s/it]"
     ]
    },
    {
     "name": "stdout",
     "output_type": "stream",
     "text": [
      "------ out shape----------- (27, 4)\n"
     ]
    },
    {
     "name": "stderr",
     "output_type": "stream",
     "text": [
      "  6%|▌         | 257/4541 [2:26:23<44:18:15, 37.23s/it]"
     ]
    },
    {
     "name": "stdout",
     "output_type": "stream",
     "text": [
      "------ out shape----------- (100, 4)\n"
     ]
    },
    {
     "name": "stderr",
     "output_type": "stream",
     "text": [
      "  6%|▌         | 258/4541 [2:26:54<42:06:09, 35.39s/it]"
     ]
    },
    {
     "name": "stdout",
     "output_type": "stream",
     "text": [
      "------ out shape----------- (100, 4)\n"
     ]
    },
    {
     "name": "stderr",
     "output_type": "stream",
     "text": [
      "  6%|▌         | 259/4541 [2:27:25<40:12:08, 33.80s/it]"
     ]
    },
    {
     "name": "stdout",
     "output_type": "stream",
     "text": [
      "------ out shape----------- (100, 4)\n"
     ]
    },
    {
     "name": "stderr",
     "output_type": "stream",
     "text": [
      "  6%|▌         | 260/4541 [2:29:50<79:53:33, 67.18s/it]"
     ]
    },
    {
     "name": "stdout",
     "output_type": "stream",
     "text": [
      "------ out shape----------- (100, 4)\n"
     ]
    },
    {
     "name": "stderr",
     "output_type": "stream",
     "text": [
      "  6%|▌         | 261/4541 [2:30:41<74:20:53, 62.54s/it]"
     ]
    },
    {
     "name": "stdout",
     "output_type": "stream",
     "text": [
      "------ out shape----------- (100, 4)\n"
     ]
    },
    {
     "name": "stderr",
     "output_type": "stream",
     "text": [
      "  6%|▌         | 262/4541 [2:31:13<63:27:06, 53.38s/it]"
     ]
    },
    {
     "name": "stdout",
     "output_type": "stream",
     "text": [
      "------ out shape----------- (100, 4)\n"
     ]
    },
    {
     "name": "stderr",
     "output_type": "stream",
     "text": [
      "  6%|▌         | 263/4541 [2:31:45<55:50:36, 46.99s/it]"
     ]
    },
    {
     "name": "stdout",
     "output_type": "stream",
     "text": [
      "------ out shape----------- (100, 4)\n"
     ]
    },
    {
     "name": "stderr",
     "output_type": "stream",
     "text": [
      "  6%|▌         | 264/4541 [2:32:17<50:24:56, 42.44s/it]"
     ]
    },
    {
     "name": "stdout",
     "output_type": "stream",
     "text": [
      "------ out shape----------- (100, 4)\n"
     ]
    },
    {
     "name": "stderr",
     "output_type": "stream",
     "text": [
      "  6%|▌         | 265/4541 [2:32:48<46:22:23, 39.04s/it]"
     ]
    },
    {
     "name": "stdout",
     "output_type": "stream",
     "text": [
      "------ out shape----------- (100, 4)\n"
     ]
    },
    {
     "name": "stderr",
     "output_type": "stream",
     "text": [
      "  6%|▌         | 266/4541 [2:33:19<43:16:02, 36.44s/it]"
     ]
    },
    {
     "name": "stdout",
     "output_type": "stream",
     "text": [
      "------ out shape----------- (100, 4)\n"
     ]
    },
    {
     "name": "stderr",
     "output_type": "stream",
     "text": [
      "  6%|▌         | 267/4541 [2:36:11<91:37:29, 77.18s/it]"
     ]
    },
    {
     "name": "stdout",
     "output_type": "stream",
     "text": [
      "------ out shape----------- (100, 4)\n"
     ]
    },
    {
     "name": "stderr",
     "output_type": "stream",
     "text": [
      "  6%|▌         | 268/4541 [2:36:43<75:21:26, 63.49s/it]"
     ]
    },
    {
     "name": "stdout",
     "output_type": "stream",
     "text": [
      "------ out shape----------- (100, 4)\n"
     ]
    },
    {
     "name": "stderr",
     "output_type": "stream",
     "text": [
      "  6%|▌         | 269/4541 [2:37:14<64:07:25, 54.04s/it]"
     ]
    },
    {
     "name": "stdout",
     "output_type": "stream",
     "text": [
      "------ out shape----------- (100, 4)\n"
     ]
    },
    {
     "name": "stderr",
     "output_type": "stream",
     "text": [
      "  6%|▌         | 270/4541 [2:37:45<55:53:36, 47.11s/it]"
     ]
    },
    {
     "name": "stdout",
     "output_type": "stream",
     "text": [
      "------ out shape----------- (100, 4)\n"
     ]
    },
    {
     "name": "stderr",
     "output_type": "stream",
     "text": [
      "  6%|▌         | 271/4541 [2:38:17<50:24:28, 42.50s/it]"
     ]
    },
    {
     "name": "stdout",
     "output_type": "stream",
     "text": [
      "------ out shape----------- (100, 4)\n"
     ]
    },
    {
     "name": "stderr",
     "output_type": "stream",
     "text": [
      "  6%|▌         | 272/4541 [2:38:49<46:33:43, 39.27s/it]"
     ]
    },
    {
     "name": "stdout",
     "output_type": "stream",
     "text": [
      "------ out shape----------- (100, 4)\n"
     ]
    },
    {
     "name": "stderr",
     "output_type": "stream",
     "text": [
      "  6%|▌         | 273/4541 [2:39:20<43:40:08, 36.83s/it]"
     ]
    },
    {
     "name": "stdout",
     "output_type": "stream",
     "text": [
      "------ out shape----------- (100, 4)\n"
     ]
    },
    {
     "name": "stderr",
     "output_type": "stream",
     "text": [
      "  6%|▌         | 274/4541 [2:39:44<39:04:39, 32.97s/it]"
     ]
    },
    {
     "name": "stdout",
     "output_type": "stream",
     "text": [
      "------ out shape----------- (18, 4)\n"
     ]
    },
    {
     "name": "stderr",
     "output_type": "stream",
     "text": [
      "  6%|▌         | 275/4541 [2:40:15<38:20:33, 32.36s/it]"
     ]
    },
    {
     "name": "stdout",
     "output_type": "stream",
     "text": [
      "------ out shape----------- (100, 4)\n"
     ]
    },
    {
     "name": "stderr",
     "output_type": "stream",
     "text": [
      "  6%|▌         | 276/4541 [2:40:47<38:22:16, 32.39s/it]"
     ]
    },
    {
     "name": "stdout",
     "output_type": "stream",
     "text": [
      "------ out shape----------- (100, 4)\n",
      "------ out shape----------- (100, 4)\n"
     ]
    },
    {
     "name": "stderr",
     "output_type": "stream",
     "text": [
      "  6%|▌         | 278/4541 [2:44:02<81:53:46, 69.16s/it]"
     ]
    },
    {
     "name": "stdout",
     "output_type": "stream",
     "text": [
      "------ out shape----------- (100, 4)\n"
     ]
    },
    {
     "name": "stderr",
     "output_type": "stream",
     "text": [
      "  6%|▌         | 279/4541 [2:44:34<68:30:57, 57.87s/it]"
     ]
    },
    {
     "name": "stdout",
     "output_type": "stream",
     "text": [
      "------ out shape----------- (100, 4)\n"
     ]
    },
    {
     "name": "stderr",
     "output_type": "stream",
     "text": [
      "  6%|▌         | 280/4541 [2:45:06<59:23:18, 50.18s/it]"
     ]
    },
    {
     "name": "stdout",
     "output_type": "stream",
     "text": [
      "------ out shape----------- (100, 4)\n"
     ]
    },
    {
     "name": "stderr",
     "output_type": "stream",
     "text": [
      "  6%|▌         | 281/4541 [2:45:38<52:46:35, 44.60s/it]"
     ]
    },
    {
     "name": "stdout",
     "output_type": "stream",
     "text": [
      "------ out shape----------- (100, 4)\n"
     ]
    },
    {
     "name": "stderr",
     "output_type": "stream",
     "text": [
      "  6%|▌         | 282/4541 [2:46:10<48:24:52, 40.92s/it]"
     ]
    },
    {
     "name": "stdout",
     "output_type": "stream",
     "text": [
      "------ out shape----------- (100, 4)\n"
     ]
    },
    {
     "name": "stderr",
     "output_type": "stream",
     "text": [
      "  6%|▌         | 283/4541 [2:46:43<45:32:48, 38.51s/it]"
     ]
    },
    {
     "name": "stdout",
     "output_type": "stream",
     "text": [
      "------ out shape----------- (100, 4)\n"
     ]
    },
    {
     "name": "stderr",
     "output_type": "stream",
     "text": [
      "  6%|▋         | 284/4541 [2:47:11<41:47:09, 35.34s/it]"
     ]
    },
    {
     "name": "stdout",
     "output_type": "stream",
     "text": [
      "------ out shape----------- (100, 4)\n"
     ]
    },
    {
     "name": "stderr",
     "output_type": "stream",
     "text": [
      "  6%|▋         | 285/4541 [2:47:43<40:36:53, 34.35s/it]"
     ]
    },
    {
     "name": "stdout",
     "output_type": "stream",
     "text": [
      "------ out shape----------- (100, 4)\n"
     ]
    },
    {
     "name": "stderr",
     "output_type": "stream",
     "text": [
      "  6%|▋         | 286/4541 [2:48:15<39:42:56, 33.60s/it]"
     ]
    },
    {
     "name": "stdout",
     "output_type": "stream",
     "text": [
      "------ out shape----------- (100, 4)\n"
     ]
    },
    {
     "name": "stderr",
     "output_type": "stream",
     "text": [
      "  6%|▋         | 287/4541 [2:48:46<38:59:51, 33.00s/it]"
     ]
    },
    {
     "name": "stdout",
     "output_type": "stream",
     "text": [
      "------ out shape----------- (100, 4)\n"
     ]
    },
    {
     "name": "stderr",
     "output_type": "stream",
     "text": [
      "  6%|▋         | 288/4541 [2:49:18<38:28:57, 32.57s/it]"
     ]
    },
    {
     "name": "stdout",
     "output_type": "stream",
     "text": [
      "------ out shape----------- (100, 4)\n"
     ]
    },
    {
     "name": "stderr",
     "output_type": "stream",
     "text": [
      "  6%|▋         | 289/4541 [2:49:50<38:16:51, 32.41s/it]"
     ]
    },
    {
     "name": "stdout",
     "output_type": "stream",
     "text": [
      "------ out shape----------- (100, 4)\n"
     ]
    },
    {
     "name": "stderr",
     "output_type": "stream",
     "text": [
      "  6%|▋         | 290/4541 [2:50:22<38:05:34, 32.26s/it]"
     ]
    },
    {
     "name": "stdout",
     "output_type": "stream",
     "text": [
      "------ out shape----------- (100, 4)\n"
     ]
    },
    {
     "name": "stderr",
     "output_type": "stream",
     "text": [
      "  6%|▋         | 291/4541 [2:50:54<38:06:11, 32.28s/it]"
     ]
    },
    {
     "name": "stdout",
     "output_type": "stream",
     "text": [
      "------ out shape----------- (100, 4)\n"
     ]
    },
    {
     "name": "stderr",
     "output_type": "stream",
     "text": [
      "  6%|▋         | 292/4541 [2:51:25<37:24:30, 31.69s/it]"
     ]
    },
    {
     "name": "stdout",
     "output_type": "stream",
     "text": [
      "------ out shape----------- (100, 4)\n"
     ]
    },
    {
     "name": "stderr",
     "output_type": "stream",
     "text": [
      "  6%|▋         | 293/4541 [2:51:56<37:26:16, 31.73s/it]"
     ]
    },
    {
     "name": "stdout",
     "output_type": "stream",
     "text": [
      "------ out shape----------- (100, 4)\n"
     ]
    },
    {
     "name": "stderr",
     "output_type": "stream",
     "text": [
      "  6%|▋         | 294/4541 [2:52:28<37:19:46, 31.64s/it]"
     ]
    },
    {
     "name": "stdout",
     "output_type": "stream",
     "text": [
      "------ out shape----------- (100, 4)\n"
     ]
    },
    {
     "name": "stderr",
     "output_type": "stream",
     "text": [
      "  6%|▋         | 295/4541 [2:55:17<86:05:01, 72.99s/it]"
     ]
    },
    {
     "name": "stdout",
     "output_type": "stream",
     "text": [
      "------ out shape----------- (100, 4)\n"
     ]
    },
    {
     "name": "stderr",
     "output_type": "stream",
     "text": [
      "  7%|▋         | 296/4541 [2:55:41<68:48:20, 58.35s/it]"
     ]
    },
    {
     "name": "stdout",
     "output_type": "stream",
     "text": [
      "------ out shape----------- (7, 4)\n"
     ]
    },
    {
     "name": "stderr",
     "output_type": "stream",
     "text": [
      "  7%|▋         | 297/4541 [2:56:18<61:03:42, 51.80s/it]"
     ]
    },
    {
     "name": "stdout",
     "output_type": "stream",
     "text": [
      "------ out shape----------- (100, 4)\n"
     ]
    },
    {
     "name": "stderr",
     "output_type": "stream",
     "text": [
      "  7%|▋         | 298/4541 [2:56:50<53:54:55, 45.74s/it]"
     ]
    },
    {
     "name": "stdout",
     "output_type": "stream",
     "text": [
      "------ out shape----------- (100, 4)\n"
     ]
    },
    {
     "name": "stderr",
     "output_type": "stream",
     "text": [
      "  7%|▋         | 299/4541 [2:57:21<48:44:01, 41.36s/it]"
     ]
    },
    {
     "name": "stdout",
     "output_type": "stream",
     "text": [
      "------ out shape----------- (100, 4)\n"
     ]
    },
    {
     "name": "stderr",
     "output_type": "stream",
     "text": [
      "  7%|▋         | 300/4541 [2:57:51<44:57:49, 38.17s/it]"
     ]
    },
    {
     "name": "stdout",
     "output_type": "stream",
     "text": [
      "------ out shape----------- (100, 4)\n"
     ]
    },
    {
     "name": "stderr",
     "output_type": "stream",
     "text": [
      "  7%|▋         | 301/4541 [2:58:22<42:11:26, 35.82s/it]"
     ]
    },
    {
     "name": "stdout",
     "output_type": "stream",
     "text": [
      "------ out shape----------- (100, 4)\n"
     ]
    },
    {
     "name": "stderr",
     "output_type": "stream",
     "text": [
      "  7%|▋         | 302/4541 [2:58:53<40:31:48, 34.42s/it]"
     ]
    },
    {
     "name": "stdout",
     "output_type": "stream",
     "text": [
      "------ out shape----------- (100, 4)\n"
     ]
    },
    {
     "name": "stderr",
     "output_type": "stream",
     "text": [
      "  7%|▋         | 303/4541 [2:59:24<39:24:14, 33.47s/it]"
     ]
    },
    {
     "name": "stdout",
     "output_type": "stream",
     "text": [
      "------ out shape----------- (100, 4)\n"
     ]
    },
    {
     "name": "stderr",
     "output_type": "stream",
     "text": [
      "  7%|▋         | 304/4541 [2:59:56<38:49:40, 32.99s/it]"
     ]
    },
    {
     "name": "stdout",
     "output_type": "stream",
     "text": [
      "------ out shape----------- (100, 4)\n"
     ]
    },
    {
     "name": "stderr",
     "output_type": "stream",
     "text": [
      "  7%|▋         | 305/4541 [3:00:29<38:42:45, 32.90s/it]"
     ]
    },
    {
     "name": "stdout",
     "output_type": "stream",
     "text": [
      "------ out shape----------- (100, 4)\n"
     ]
    },
    {
     "name": "stderr",
     "output_type": "stream",
     "text": [
      "  7%|▋         | 306/4541 [3:01:01<38:24:19, 32.65s/it]"
     ]
    },
    {
     "name": "stdout",
     "output_type": "stream",
     "text": [
      "------ out shape----------- (100, 4)\n"
     ]
    },
    {
     "name": "stderr",
     "output_type": "stream",
     "text": [
      "  7%|▋         | 307/4541 [3:01:33<38:10:49, 32.46s/it]"
     ]
    },
    {
     "name": "stdout",
     "output_type": "stream",
     "text": [
      "------ out shape----------- (100, 4)\n"
     ]
    },
    {
     "name": "stderr",
     "output_type": "stream",
     "text": [
      "  7%|▋         | 308/4541 [3:02:02<37:09:29, 31.60s/it]"
     ]
    },
    {
     "name": "stdout",
     "output_type": "stream",
     "text": [
      "------ out shape----------- (100, 4)\n"
     ]
    },
    {
     "name": "stderr",
     "output_type": "stream",
     "text": [
      "  7%|▋         | 309/4541 [3:02:34<37:11:48, 31.64s/it]"
     ]
    },
    {
     "name": "stdout",
     "output_type": "stream",
     "text": [
      "------ out shape----------- (100, 4)\n"
     ]
    },
    {
     "name": "stderr",
     "output_type": "stream",
     "text": [
      "  7%|▋         | 310/4541 [3:03:06<37:07:54, 31.59s/it]"
     ]
    },
    {
     "name": "stdout",
     "output_type": "stream",
     "text": [
      "------ out shape----------- (100, 4)\n"
     ]
    },
    {
     "name": "stderr",
     "output_type": "stream",
     "text": [
      "  7%|▋         | 311/4541 [3:03:37<37:07:20, 31.59s/it]"
     ]
    },
    {
     "name": "stdout",
     "output_type": "stream",
     "text": [
      "------ out shape----------- (100, 4)\n"
     ]
    },
    {
     "name": "stderr",
     "output_type": "stream",
     "text": [
      "  7%|▋         | 312/4541 [3:04:09<37:02:04, 31.53s/it]"
     ]
    },
    {
     "name": "stdout",
     "output_type": "stream",
     "text": [
      "------ out shape----------- (100, 4)\n"
     ]
    },
    {
     "name": "stderr",
     "output_type": "stream",
     "text": [
      "  7%|▋         | 313/4541 [3:04:39<36:30:20, 31.08s/it]"
     ]
    },
    {
     "name": "stdout",
     "output_type": "stream",
     "text": [
      "------ out shape----------- (100, 4)\n"
     ]
    },
    {
     "name": "stderr",
     "output_type": "stream",
     "text": [
      "  7%|▋         | 314/4541 [3:05:11<36:48:59, 31.36s/it]"
     ]
    },
    {
     "name": "stdout",
     "output_type": "stream",
     "text": [
      "------ out shape----------- (100, 4)\n"
     ]
    },
    {
     "name": "stderr",
     "output_type": "stream",
     "text": [
      "  7%|▋         | 315/4541 [3:05:43<37:08:31, 31.64s/it]"
     ]
    },
    {
     "name": "stdout",
     "output_type": "stream",
     "text": [
      "------ out shape----------- (100, 4)\n"
     ]
    },
    {
     "name": "stderr",
     "output_type": "stream",
     "text": [
      "  7%|▋         | 316/4541 [3:06:13<36:26:11, 31.05s/it]"
     ]
    },
    {
     "name": "stdout",
     "output_type": "stream",
     "text": [
      "------ out shape----------- (100, 4)\n"
     ]
    },
    {
     "name": "stderr",
     "output_type": "stream",
     "text": [
      "  7%|▋         | 317/4541 [3:06:44<36:23:08, 31.01s/it]"
     ]
    },
    {
     "name": "stdout",
     "output_type": "stream",
     "text": [
      "------ out shape----------- (100, 4)\n"
     ]
    },
    {
     "name": "stderr",
     "output_type": "stream",
     "text": [
      "  7%|▋         | 318/4541 [3:07:15<36:35:25, 31.19s/it]"
     ]
    },
    {
     "name": "stdout",
     "output_type": "stream",
     "text": [
      "------ out shape----------- (100, 4)\n"
     ]
    },
    {
     "name": "stderr",
     "output_type": "stream",
     "text": [
      "  7%|▋         | 319/4541 [3:07:47<36:55:55, 31.49s/it]"
     ]
    },
    {
     "name": "stdout",
     "output_type": "stream",
     "text": [
      "------ out shape----------- (100, 4)\n"
     ]
    },
    {
     "name": "stderr",
     "output_type": "stream",
     "text": [
      "  7%|▋         | 320/4541 [3:08:18<36:36:58, 31.23s/it]"
     ]
    },
    {
     "name": "stdout",
     "output_type": "stream",
     "text": [
      "------ out shape----------- (100, 4)\n"
     ]
    },
    {
     "name": "stderr",
     "output_type": "stream",
     "text": [
      "  7%|▋         | 321/4541 [3:08:50<37:00:36, 31.57s/it]"
     ]
    },
    {
     "name": "stdout",
     "output_type": "stream",
     "text": [
      "------ out shape----------- (100, 4)\n"
     ]
    },
    {
     "name": "stderr",
     "output_type": "stream",
     "text": [
      "  7%|▋         | 322/4541 [3:09:22<37:03:00, 31.61s/it]"
     ]
    },
    {
     "name": "stdout",
     "output_type": "stream",
     "text": [
      "------ out shape----------- (100, 4)\n"
     ]
    },
    {
     "name": "stderr",
     "output_type": "stream",
     "text": [
      "  7%|▋         | 323/4541 [3:09:46<34:18:20, 29.28s/it]"
     ]
    },
    {
     "name": "stdout",
     "output_type": "stream",
     "text": [
      "------ out shape----------- (13, 4)\n"
     ]
    },
    {
     "name": "stderr",
     "output_type": "stream",
     "text": [
      "  7%|▋         | 324/4541 [3:10:19<35:29:49, 30.30s/it]"
     ]
    },
    {
     "name": "stdout",
     "output_type": "stream",
     "text": [
      "------ out shape----------- (100, 4)\n"
     ]
    },
    {
     "name": "stderr",
     "output_type": "stream",
     "text": [
      "  7%|▋         | 325/4541 [3:10:49<35:24:23, 30.23s/it]"
     ]
    },
    {
     "name": "stdout",
     "output_type": "stream",
     "text": [
      "------ out shape----------- (100, 4)\n"
     ]
    },
    {
     "name": "stderr",
     "output_type": "stream",
     "text": [
      "  7%|▋         | 326/4541 [3:11:21<36:07:08, 30.85s/it]"
     ]
    },
    {
     "name": "stdout",
     "output_type": "stream",
     "text": [
      "------ out shape----------- (100, 4)\n"
     ]
    },
    {
     "name": "stderr",
     "output_type": "stream",
     "text": [
      "  7%|▋         | 327/4541 [3:12:01<39:12:05, 33.49s/it]"
     ]
    },
    {
     "name": "stdout",
     "output_type": "stream",
     "text": [
      "------ out shape----------- (100, 4)\n"
     ]
    },
    {
     "name": "stderr",
     "output_type": "stream",
     "text": [
      "  7%|▋         | 328/4541 [3:12:32<38:36:06, 32.99s/it]"
     ]
    },
    {
     "name": "stdout",
     "output_type": "stream",
     "text": [
      "------ out shape----------- (100, 4)\n",
      "------ out shape----------- (100, 4)\n"
     ]
    },
    {
     "name": "stderr",
     "output_type": "stream",
     "text": [
      "  7%|▋         | 330/4541 [3:15:51<82:03:53, 70.16s/it]"
     ]
    },
    {
     "name": "stdout",
     "output_type": "stream",
     "text": [
      "------ out shape----------- (100, 4)\n"
     ]
    },
    {
     "name": "stderr",
     "output_type": "stream",
     "text": [
      "  7%|▋         | 331/4541 [3:16:24<68:57:38, 58.97s/it]"
     ]
    },
    {
     "name": "stdout",
     "output_type": "stream",
     "text": [
      "------ out shape----------- (100, 4)\n"
     ]
    },
    {
     "name": "stderr",
     "output_type": "stream",
     "text": [
      "  7%|▋         | 332/4541 [3:16:56<59:24:42, 50.82s/it]"
     ]
    },
    {
     "name": "stdout",
     "output_type": "stream",
     "text": [
      "------ out shape----------- (100, 4)\n"
     ]
    },
    {
     "name": "stderr",
     "output_type": "stream",
     "text": [
      "  7%|▋         | 333/4541 [3:17:28<52:43:36, 45.11s/it]"
     ]
    },
    {
     "name": "stdout",
     "output_type": "stream",
     "text": [
      "------ out shape----------- (100, 4)\n"
     ]
    },
    {
     "name": "stderr",
     "output_type": "stream",
     "text": [
      "  7%|▋         | 334/4541 [3:17:53<45:49:39, 39.22s/it]"
     ]
    },
    {
     "name": "stdout",
     "output_type": "stream",
     "text": [
      "------ out shape----------- (51, 4)\n"
     ]
    },
    {
     "name": "stderr",
     "output_type": "stream",
     "text": [
      "  7%|▋         | 335/4541 [3:18:24<42:59:26, 36.80s/it]"
     ]
    },
    {
     "name": "stdout",
     "output_type": "stream",
     "text": [
      "------ out shape----------- (100, 4)\n"
     ]
    },
    {
     "name": "stderr",
     "output_type": "stream",
     "text": [
      "  7%|▋         | 336/4541 [3:18:57<41:25:21, 35.46s/it]"
     ]
    },
    {
     "name": "stdout",
     "output_type": "stream",
     "text": [
      "------ out shape----------- (100, 4)\n"
     ]
    },
    {
     "name": "stderr",
     "output_type": "stream",
     "text": [
      "  7%|▋         | 337/4541 [3:19:28<40:10:14, 34.40s/it]"
     ]
    },
    {
     "name": "stdout",
     "output_type": "stream",
     "text": [
      "------ out shape----------- (100, 4)\n"
     ]
    },
    {
     "name": "stderr",
     "output_type": "stream",
     "text": [
      "  7%|▋         | 338/4541 [3:20:00<39:07:25, 33.51s/it]"
     ]
    },
    {
     "name": "stdout",
     "output_type": "stream",
     "text": [
      "------ out shape----------- (100, 4)\n"
     ]
    },
    {
     "name": "stderr",
     "output_type": "stream",
     "text": [
      "  7%|▋         | 339/4541 [3:20:32<38:44:15, 33.19s/it]"
     ]
    },
    {
     "name": "stdout",
     "output_type": "stream",
     "text": [
      "------ out shape----------- (100, 4)\n"
     ]
    },
    {
     "name": "stderr",
     "output_type": "stream",
     "text": [
      "  7%|▋         | 340/4541 [3:21:03<37:48:34, 32.40s/it]"
     ]
    },
    {
     "name": "stdout",
     "output_type": "stream",
     "text": [
      "------ out shape----------- (100, 4)\n"
     ]
    },
    {
     "name": "stderr",
     "output_type": "stream",
     "text": [
      "  8%|▊         | 341/4541 [3:21:33<37:09:21, 31.85s/it]"
     ]
    },
    {
     "name": "stdout",
     "output_type": "stream",
     "text": [
      "------ out shape----------- (100, 4)\n"
     ]
    },
    {
     "name": "stderr",
     "output_type": "stream",
     "text": [
      "  8%|▊         | 342/4541 [3:22:06<37:22:49, 32.05s/it]"
     ]
    },
    {
     "name": "stdout",
     "output_type": "stream",
     "text": [
      "------ out shape----------- (100, 4)\n"
     ]
    },
    {
     "name": "stderr",
     "output_type": "stream",
     "text": [
      "  8%|▊         | 343/4541 [3:22:37<37:09:11, 31.86s/it]"
     ]
    },
    {
     "name": "stdout",
     "output_type": "stream",
     "text": [
      "------ out shape----------- (100, 4)\n"
     ]
    },
    {
     "name": "stderr",
     "output_type": "stream",
     "text": [
      "  8%|▊         | 344/4541 [3:23:04<35:25:31, 30.39s/it]"
     ]
    },
    {
     "name": "stdout",
     "output_type": "stream",
     "text": [
      "------ out shape----------- (54, 4)\n"
     ]
    },
    {
     "name": "stderr",
     "output_type": "stream",
     "text": [
      "  8%|▊         | 345/4541 [3:23:36<35:55:09, 30.82s/it]"
     ]
    },
    {
     "name": "stdout",
     "output_type": "stream",
     "text": [
      "------ out shape----------- (100, 4)\n"
     ]
    },
    {
     "name": "stderr",
     "output_type": "stream",
     "text": [
      "  8%|▊         | 346/4541 [3:24:08<36:24:34, 31.25s/it]"
     ]
    },
    {
     "name": "stdout",
     "output_type": "stream",
     "text": [
      "------ out shape----------- (100, 4)\n"
     ]
    },
    {
     "name": "stderr",
     "output_type": "stream",
     "text": [
      "  8%|▊         | 347/4541 [3:24:39<36:10:02, 31.04s/it]"
     ]
    },
    {
     "name": "stdout",
     "output_type": "stream",
     "text": [
      "------ out shape----------- (100, 4)\n"
     ]
    },
    {
     "name": "stderr",
     "output_type": "stream",
     "text": [
      "  8%|▊         | 348/4541 [3:25:11<36:35:09, 31.41s/it]"
     ]
    },
    {
     "name": "stdout",
     "output_type": "stream",
     "text": [
      "------ out shape----------- (100, 4)\n"
     ]
    },
    {
     "name": "stderr",
     "output_type": "stream",
     "text": [
      "  8%|▊         | 349/4541 [3:25:43<36:38:09, 31.46s/it]"
     ]
    },
    {
     "name": "stdout",
     "output_type": "stream",
     "text": [
      "------ out shape----------- (100, 4)\n"
     ]
    },
    {
     "name": "stderr",
     "output_type": "stream",
     "text": [
      "  8%|▊         | 350/4541 [3:26:12<35:40:21, 30.64s/it]"
     ]
    },
    {
     "name": "stdout",
     "output_type": "stream",
     "text": [
      "------ out shape----------- (100, 4)\n"
     ]
    },
    {
     "name": "stderr",
     "output_type": "stream",
     "text": [
      "  8%|▊         | 351/4541 [3:26:50<38:15:07, 32.87s/it]"
     ]
    },
    {
     "name": "stdout",
     "output_type": "stream",
     "text": [
      "------ out shape----------- (100, 4)\n"
     ]
    },
    {
     "name": "stderr",
     "output_type": "stream",
     "text": [
      "  8%|▊         | 352/4541 [3:27:22<38:08:42, 32.78s/it]"
     ]
    },
    {
     "name": "stdout",
     "output_type": "stream",
     "text": [
      "------ out shape----------- (100, 4)\n"
     ]
    },
    {
     "name": "stderr",
     "output_type": "stream",
     "text": [
      "  8%|▊         | 353/4541 [3:27:53<37:20:09, 32.09s/it]"
     ]
    },
    {
     "name": "stdout",
     "output_type": "stream",
     "text": [
      "------ out shape----------- (100, 4)\n"
     ]
    },
    {
     "name": "stderr",
     "output_type": "stream",
     "text": [
      "  8%|▊         | 354/4541 [3:28:19<35:23:46, 30.43s/it]"
     ]
    },
    {
     "name": "stdout",
     "output_type": "stream",
     "text": [
      "------ out shape----------- (74, 4)\n"
     ]
    },
    {
     "name": "stderr",
     "output_type": "stream",
     "text": [
      "  8%|▊         | 355/4541 [3:28:51<35:59:40, 30.96s/it]"
     ]
    },
    {
     "name": "stdout",
     "output_type": "stream",
     "text": [
      "------ out shape----------- (100, 4)\n"
     ]
    },
    {
     "name": "stderr",
     "output_type": "stream",
     "text": [
      "  8%|▊         | 356/4541 [3:29:24<36:25:18, 31.33s/it]"
     ]
    },
    {
     "name": "stdout",
     "output_type": "stream",
     "text": [
      "------ out shape----------- (100, 4)\n"
     ]
    },
    {
     "name": "stderr",
     "output_type": "stream",
     "text": [
      "  8%|▊         | 357/4541 [3:29:55<36:29:34, 31.40s/it]"
     ]
    },
    {
     "name": "stdout",
     "output_type": "stream",
     "text": [
      "------ out shape----------- (100, 4)\n"
     ]
    },
    {
     "name": "stderr",
     "output_type": "stream",
     "text": [
      "  8%|▊         | 358/4541 [3:30:25<36:00:55, 31.00s/it]"
     ]
    },
    {
     "name": "stdout",
     "output_type": "stream",
     "text": [
      "------ out shape----------- (100, 4)\n"
     ]
    },
    {
     "name": "stderr",
     "output_type": "stream",
     "text": [
      "  8%|▊         | 359/4541 [3:30:56<35:47:09, 30.81s/it]"
     ]
    },
    {
     "name": "stdout",
     "output_type": "stream",
     "text": [
      "------ out shape----------- (100, 4)\n"
     ]
    },
    {
     "name": "stderr",
     "output_type": "stream",
     "text": [
      "  8%|▊         | 360/4541 [3:31:28<36:12:16, 31.17s/it]"
     ]
    },
    {
     "name": "stdout",
     "output_type": "stream",
     "text": [
      "------ out shape----------- (100, 4)\n"
     ]
    },
    {
     "name": "stderr",
     "output_type": "stream",
     "text": [
      "  8%|▊         | 361/4541 [3:31:59<36:14:52, 31.22s/it]"
     ]
    },
    {
     "name": "stdout",
     "output_type": "stream",
     "text": [
      "------ out shape----------- (100, 4)\n"
     ]
    },
    {
     "name": "stderr",
     "output_type": "stream",
     "text": [
      "  8%|▊         | 362/4541 [3:32:32<36:46:22, 31.68s/it]"
     ]
    },
    {
     "name": "stdout",
     "output_type": "stream",
     "text": [
      "------ out shape----------- (100, 4)\n"
     ]
    },
    {
     "name": "stderr",
     "output_type": "stream",
     "text": [
      "  8%|▊         | 363/4541 [3:33:03<36:32:16, 31.48s/it]"
     ]
    },
    {
     "name": "stdout",
     "output_type": "stream",
     "text": [
      "------ out shape----------- (100, 4)\n"
     ]
    },
    {
     "name": "stderr",
     "output_type": "stream",
     "text": [
      "  8%|▊         | 364/4541 [3:33:33<35:58:27, 31.00s/it]"
     ]
    },
    {
     "name": "stdout",
     "output_type": "stream",
     "text": [
      "------ out shape----------- (100, 4)\n"
     ]
    },
    {
     "name": "stderr",
     "output_type": "stream",
     "text": [
      "  8%|▊         | 365/4541 [3:34:03<35:49:07, 30.88s/it]"
     ]
    },
    {
     "name": "stdout",
     "output_type": "stream",
     "text": [
      "------ out shape----------- (100, 4)\n"
     ]
    },
    {
     "name": "stderr",
     "output_type": "stream",
     "text": [
      "  8%|▊         | 366/4541 [3:34:35<36:03:32, 31.09s/it]"
     ]
    },
    {
     "name": "stdout",
     "output_type": "stream",
     "text": [
      "------ out shape----------- (100, 4)\n"
     ]
    },
    {
     "name": "stderr",
     "output_type": "stream",
     "text": [
      "  8%|▊         | 367/4541 [3:35:07<36:30:41, 31.49s/it]"
     ]
    },
    {
     "name": "stdout",
     "output_type": "stream",
     "text": [
      "------ out shape----------- (100, 4)\n"
     ]
    },
    {
     "name": "stderr",
     "output_type": "stream",
     "text": [
      "  8%|▊         | 368/4541 [3:35:38<36:24:28, 31.41s/it]"
     ]
    },
    {
     "name": "stdout",
     "output_type": "stream",
     "text": [
      "------ out shape----------- (100, 4)\n"
     ]
    },
    {
     "name": "stderr",
     "output_type": "stream",
     "text": [
      "  8%|▊         | 369/4541 [3:36:11<36:54:08, 31.84s/it]"
     ]
    },
    {
     "name": "stdout",
     "output_type": "stream",
     "text": [
      "------ out shape----------- (100, 4)\n"
     ]
    },
    {
     "name": "stderr",
     "output_type": "stream",
     "text": [
      "  8%|▊         | 370/4541 [3:36:43<36:40:34, 31.66s/it]"
     ]
    },
    {
     "name": "stdout",
     "output_type": "stream",
     "text": [
      "------ out shape----------- (100, 4)\n"
     ]
    },
    {
     "name": "stderr",
     "output_type": "stream",
     "text": [
      "  8%|▊         | 371/4541 [3:37:13<36:17:02, 31.32s/it]"
     ]
    },
    {
     "name": "stdout",
     "output_type": "stream",
     "text": [
      "------ out shape----------- (100, 4)\n"
     ]
    },
    {
     "name": "stderr",
     "output_type": "stream",
     "text": [
      "  8%|▊         | 372/4541 [3:37:44<36:15:24, 31.31s/it]"
     ]
    },
    {
     "name": "stdout",
     "output_type": "stream",
     "text": [
      "------ out shape----------- (100, 4)\n"
     ]
    },
    {
     "name": "stderr",
     "output_type": "stream",
     "text": [
      "  8%|▊         | 373/4541 [3:38:15<36:02:18, 31.13s/it]"
     ]
    },
    {
     "name": "stdout",
     "output_type": "stream",
     "text": [
      "------ out shape----------- (100, 4)\n"
     ]
    },
    {
     "name": "stderr",
     "output_type": "stream",
     "text": [
      "  8%|▊         | 374/4541 [3:38:46<36:01:49, 31.13s/it]"
     ]
    },
    {
     "name": "stdout",
     "output_type": "stream",
     "text": [
      "------ out shape----------- (100, 4)\n"
     ]
    },
    {
     "name": "stderr",
     "output_type": "stream",
     "text": [
      "  8%|▊         | 375/4541 [3:39:17<35:53:22, 31.01s/it]"
     ]
    },
    {
     "name": "stdout",
     "output_type": "stream",
     "text": [
      "------ out shape----------- (100, 4)\n"
     ]
    },
    {
     "name": "stderr",
     "output_type": "stream",
     "text": [
      "  8%|▊         | 376/4541 [3:39:49<36:05:48, 31.20s/it]"
     ]
    },
    {
     "name": "stdout",
     "output_type": "stream",
     "text": [
      "------ out shape----------- (100, 4)\n"
     ]
    },
    {
     "name": "stderr",
     "output_type": "stream",
     "text": [
      "  8%|▊         | 377/4541 [3:40:21<36:24:36, 31.48s/it]"
     ]
    },
    {
     "name": "stdout",
     "output_type": "stream",
     "text": [
      "------ out shape----------- (100, 4)\n"
     ]
    },
    {
     "name": "stderr",
     "output_type": "stream",
     "text": [
      "  8%|▊         | 378/4541 [3:40:52<36:20:51, 31.43s/it]"
     ]
    },
    {
     "name": "stdout",
     "output_type": "stream",
     "text": [
      "------ out shape----------- (100, 4)\n"
     ]
    },
    {
     "name": "stderr",
     "output_type": "stream",
     "text": [
      "  8%|▊         | 379/4541 [3:41:25<36:47:11, 31.82s/it]"
     ]
    },
    {
     "name": "stdout",
     "output_type": "stream",
     "text": [
      "------ out shape----------- (100, 4)\n"
     ]
    },
    {
     "name": "stderr",
     "output_type": "stream",
     "text": [
      "  8%|▊         | 380/4541 [3:41:56<36:42:12, 31.75s/it]"
     ]
    },
    {
     "name": "stdout",
     "output_type": "stream",
     "text": [
      "------ out shape----------- (100, 4)\n"
     ]
    },
    {
     "name": "stderr",
     "output_type": "stream",
     "text": [
      "  8%|▊         | 381/4541 [3:42:28<36:33:16, 31.63s/it]"
     ]
    },
    {
     "name": "stdout",
     "output_type": "stream",
     "text": [
      "------ out shape----------- (100, 4)\n"
     ]
    },
    {
     "name": "stderr",
     "output_type": "stream",
     "text": [
      "  8%|▊         | 382/4541 [3:42:59<36:30:34, 31.60s/it]"
     ]
    },
    {
     "name": "stdout",
     "output_type": "stream",
     "text": [
      "------ out shape----------- (100, 4)\n"
     ]
    },
    {
     "name": "stderr",
     "output_type": "stream",
     "text": [
      "  8%|▊         | 383/4541 [3:43:30<36:02:04, 31.20s/it]"
     ]
    },
    {
     "name": "stdout",
     "output_type": "stream",
     "text": [
      "------ out shape----------- (100, 4)\n"
     ]
    },
    {
     "name": "stderr",
     "output_type": "stream",
     "text": [
      "  8%|▊         | 384/4541 [3:44:01<36:02:01, 31.21s/it]"
     ]
    },
    {
     "name": "stdout",
     "output_type": "stream",
     "text": [
      "------ out shape----------- (100, 4)\n"
     ]
    },
    {
     "name": "stderr",
     "output_type": "stream",
     "text": [
      "  8%|▊         | 385/4541 [3:44:29<34:52:29, 30.21s/it]"
     ]
    },
    {
     "name": "stdout",
     "output_type": "stream",
     "text": [
      "------ out shape----------- (100, 4)\n"
     ]
    },
    {
     "name": "stderr",
     "output_type": "stream",
     "text": [
      "  9%|▊         | 386/4541 [3:45:01<35:29:05, 30.74s/it]"
     ]
    },
    {
     "name": "stdout",
     "output_type": "stream",
     "text": [
      "------ out shape----------- (100, 4)\n"
     ]
    },
    {
     "name": "stderr",
     "output_type": "stream",
     "text": [
      "  9%|▊         | 388/4541 [3:45:32<24:55:03, 21.60s/it]"
     ]
    },
    {
     "name": "stdout",
     "output_type": "stream",
     "text": [
      "------ out shape----------- (100, 4)\n"
     ]
    },
    {
     "name": "stderr",
     "output_type": "stream",
     "text": [
      "  9%|▊         | 389/4541 [3:46:03<28:12:16, 24.45s/it]"
     ]
    },
    {
     "name": "stdout",
     "output_type": "stream",
     "text": [
      "------ out shape----------- (100, 4)\n"
     ]
    },
    {
     "name": "stderr",
     "output_type": "stream",
     "text": [
      "  9%|▊         | 390/4541 [3:46:32<29:57:55, 25.99s/it]"
     ]
    },
    {
     "name": "stdout",
     "output_type": "stream",
     "text": [
      "------ out shape----------- (100, 4)\n"
     ]
    },
    {
     "name": "stderr",
     "output_type": "stream",
     "text": [
      "  9%|▊         | 391/4541 [3:47:02<31:17:51, 27.15s/it]"
     ]
    },
    {
     "name": "stdout",
     "output_type": "stream",
     "text": [
      "------ out shape----------- (100, 4)\n"
     ]
    },
    {
     "name": "stderr",
     "output_type": "stream",
     "text": [
      "  9%|▊         | 392/4541 [3:47:32<32:04:54, 27.84s/it]"
     ]
    },
    {
     "name": "stdout",
     "output_type": "stream",
     "text": [
      "------ out shape----------- (100, 4)\n"
     ]
    },
    {
     "name": "stderr",
     "output_type": "stream",
     "text": [
      "  9%|▊         | 393/4541 [3:48:03<33:07:49, 28.75s/it]"
     ]
    },
    {
     "name": "stdout",
     "output_type": "stream",
     "text": [
      "------ out shape----------- (100, 4)\n"
     ]
    },
    {
     "name": "stderr",
     "output_type": "stream",
     "text": [
      "  9%|▊         | 394/4541 [3:48:35<34:19:09, 29.79s/it]"
     ]
    },
    {
     "name": "stdout",
     "output_type": "stream",
     "text": [
      "------ out shape----------- (100, 4)\n"
     ]
    },
    {
     "name": "stderr",
     "output_type": "stream",
     "text": [
      "  9%|▊         | 395/4541 [3:49:06<34:40:53, 30.11s/it]"
     ]
    },
    {
     "name": "stdout",
     "output_type": "stream",
     "text": [
      "------ out shape----------- (100, 4)\n"
     ]
    },
    {
     "name": "stderr",
     "output_type": "stream",
     "text": [
      "  9%|▊         | 396/4541 [3:49:35<34:22:29, 29.86s/it]"
     ]
    },
    {
     "name": "stdout",
     "output_type": "stream",
     "text": [
      "------ out shape----------- (100, 4)\n"
     ]
    },
    {
     "name": "stderr",
     "output_type": "stream",
     "text": [
      "  9%|▊         | 397/4541 [3:50:07<35:13:15, 30.60s/it]"
     ]
    },
    {
     "name": "stdout",
     "output_type": "stream",
     "text": [
      "------ out shape----------- (100, 4)\n"
     ]
    },
    {
     "name": "stderr",
     "output_type": "stream",
     "text": [
      "  9%|▉         | 398/4541 [3:50:39<35:45:38, 31.07s/it]"
     ]
    },
    {
     "name": "stdout",
     "output_type": "stream",
     "text": [
      "------ out shape----------- (100, 4)\n"
     ]
    },
    {
     "name": "stderr",
     "output_type": "stream",
     "text": [
      "  9%|▉         | 399/4541 [3:51:09<35:23:16, 30.76s/it]"
     ]
    },
    {
     "name": "stdout",
     "output_type": "stream",
     "text": [
      "------ out shape----------- (100, 4)\n"
     ]
    },
    {
     "name": "stderr",
     "output_type": "stream",
     "text": [
      "  9%|▉         | 400/4541 [3:51:42<36:03:48, 31.35s/it]"
     ]
    },
    {
     "name": "stdout",
     "output_type": "stream",
     "text": [
      "------ out shape----------- (100, 4)\n"
     ]
    },
    {
     "name": "stderr",
     "output_type": "stream",
     "text": [
      "  9%|▉         | 401/4541 [3:52:14<36:20:28, 31.60s/it]"
     ]
    },
    {
     "name": "stdout",
     "output_type": "stream",
     "text": [
      "------ out shape----------- (100, 4)\n"
     ]
    },
    {
     "name": "stderr",
     "output_type": "stream",
     "text": [
      "  9%|▉         | 402/4541 [3:52:46<36:29:00, 31.73s/it]"
     ]
    },
    {
     "name": "stdout",
     "output_type": "stream",
     "text": [
      "------ out shape----------- (100, 4)\n"
     ]
    },
    {
     "name": "stderr",
     "output_type": "stream",
     "text": [
      "  9%|▉         | 403/4541 [3:53:20<37:02:37, 32.23s/it]"
     ]
    },
    {
     "name": "stdout",
     "output_type": "stream",
     "text": [
      "------ out shape----------- (100, 4)\n"
     ]
    },
    {
     "name": "stderr",
     "output_type": "stream",
     "text": [
      "  9%|▉         | 404/4541 [3:53:52<37:03:28, 32.25s/it]"
     ]
    },
    {
     "name": "stdout",
     "output_type": "stream",
     "text": [
      "------ out shape----------- (100, 4)\n"
     ]
    },
    {
     "name": "stderr",
     "output_type": "stream",
     "text": [
      "  9%|▉         | 405/4541 [3:54:24<36:47:08, 32.02s/it]"
     ]
    },
    {
     "name": "stdout",
     "output_type": "stream",
     "text": [
      "------ out shape----------- (100, 4)\n"
     ]
    },
    {
     "name": "stderr",
     "output_type": "stream",
     "text": [
      "  9%|▉         | 406/4541 [3:54:55<36:40:36, 31.93s/it]"
     ]
    },
    {
     "name": "stdout",
     "output_type": "stream",
     "text": [
      "------ out shape----------- (100, 4)\n"
     ]
    },
    {
     "name": "stderr",
     "output_type": "stream",
     "text": [
      "  9%|▉         | 407/4541 [3:55:27<36:44:23, 31.99s/it]"
     ]
    },
    {
     "name": "stdout",
     "output_type": "stream",
     "text": [
      "------ out shape----------- (100, 4)\n"
     ]
    },
    {
     "name": "stderr",
     "output_type": "stream",
     "text": [
      "  9%|▉         | 408/4541 [3:56:00<36:55:49, 32.17s/it]"
     ]
    },
    {
     "name": "stdout",
     "output_type": "stream",
     "text": [
      "------ out shape----------- (100, 4)\n"
     ]
    },
    {
     "name": "stderr",
     "output_type": "stream",
     "text": [
      "  9%|▉         | 409/4541 [3:56:24<34:08:31, 29.75s/it]"
     ]
    },
    {
     "name": "stdout",
     "output_type": "stream",
     "text": [
      "------ out shape----------- (28, 4)\n"
     ]
    },
    {
     "name": "stderr",
     "output_type": "stream",
     "text": [
      "  9%|▉         | 410/4541 [3:56:56<34:59:45, 30.50s/it]"
     ]
    },
    {
     "name": "stdout",
     "output_type": "stream",
     "text": [
      "------ out shape----------- (100, 4)\n"
     ]
    },
    {
     "name": "stderr",
     "output_type": "stream",
     "text": [
      "  9%|▉         | 411/4541 [3:57:22<33:21:46, 29.08s/it]"
     ]
    },
    {
     "name": "stdout",
     "output_type": "stream",
     "text": [
      "------ out shape----------- (40, 4)\n"
     ]
    },
    {
     "name": "stderr",
     "output_type": "stream",
     "text": [
      "  9%|▉         | 412/4541 [3:57:53<34:07:15, 29.75s/it]"
     ]
    },
    {
     "name": "stdout",
     "output_type": "stream",
     "text": [
      "------ out shape----------- (100, 4)\n"
     ]
    },
    {
     "name": "stderr",
     "output_type": "stream",
     "text": [
      "  9%|▉         | 413/4541 [3:58:25<34:47:56, 30.35s/it]"
     ]
    },
    {
     "name": "stdout",
     "output_type": "stream",
     "text": [
      "------ out shape----------- (100, 4)\n"
     ]
    },
    {
     "name": "stderr",
     "output_type": "stream",
     "text": [
      "  9%|▉         | 414/4541 [3:59:01<36:45:22, 32.06s/it]"
     ]
    },
    {
     "name": "stdout",
     "output_type": "stream",
     "text": [
      "------ out shape----------- (100, 4)\n"
     ]
    },
    {
     "name": "stderr",
     "output_type": "stream",
     "text": [
      "  9%|▉         | 415/4541 [3:59:32<36:26:12, 31.79s/it]"
     ]
    },
    {
     "name": "stdout",
     "output_type": "stream",
     "text": [
      "------ out shape----------- (100, 4)\n"
     ]
    },
    {
     "name": "stderr",
     "output_type": "stream",
     "text": [
      "  9%|▉         | 416/4541 [4:00:04<36:25:29, 31.79s/it]"
     ]
    },
    {
     "name": "stdout",
     "output_type": "stream",
     "text": [
      "------ out shape----------- (100, 4)\n"
     ]
    },
    {
     "name": "stderr",
     "output_type": "stream",
     "text": [
      "  9%|▉         | 417/4541 [4:00:36<36:17:39, 31.68s/it]"
     ]
    },
    {
     "name": "stdout",
     "output_type": "stream",
     "text": [
      "------ out shape----------- (100, 4)\n"
     ]
    },
    {
     "name": "stderr",
     "output_type": "stream",
     "text": [
      "  9%|▉         | 418/4541 [4:01:08<36:26:42, 31.82s/it]"
     ]
    },
    {
     "name": "stdout",
     "output_type": "stream",
     "text": [
      "------ out shape----------- (100, 4)\n"
     ]
    },
    {
     "name": "stderr",
     "output_type": "stream",
     "text": [
      "  9%|▉         | 419/4541 [4:01:40<36:38:02, 31.99s/it]"
     ]
    },
    {
     "name": "stdout",
     "output_type": "stream",
     "text": [
      "------ out shape----------- (100, 4)\n"
     ]
    },
    {
     "name": "stderr",
     "output_type": "stream",
     "text": [
      "  9%|▉         | 420/4541 [4:02:12<36:39:07, 32.02s/it]"
     ]
    },
    {
     "name": "stdout",
     "output_type": "stream",
     "text": [
      "------ out shape----------- (100, 4)\n"
     ]
    },
    {
     "name": "stderr",
     "output_type": "stream",
     "text": [
      "  9%|▉         | 421/4541 [4:02:37<34:02:03, 29.74s/it]"
     ]
    },
    {
     "name": "stdout",
     "output_type": "stream",
     "text": [
      "------ out shape----------- (15, 4)\n"
     ]
    },
    {
     "name": "stderr",
     "output_type": "stream",
     "text": [
      "  9%|▉         | 422/4541 [4:03:09<34:56:19, 30.54s/it]"
     ]
    },
    {
     "name": "stdout",
     "output_type": "stream",
     "text": [
      "------ out shape----------- (100, 4)\n"
     ]
    },
    {
     "name": "stderr",
     "output_type": "stream",
     "text": [
      "  9%|▉         | 423/4541 [4:03:40<34:56:46, 30.55s/it]"
     ]
    },
    {
     "name": "stdout",
     "output_type": "stream",
     "text": [
      "------ out shape----------- (100, 4)\n"
     ]
    },
    {
     "name": "stderr",
     "output_type": "stream",
     "text": [
      "  9%|▉         | 424/4541 [4:03:52<28:35:15, 25.00s/it]"
     ]
    },
    {
     "name": "stdout",
     "output_type": "stream",
     "text": [
      "------ out shape----------- (6, 4)\n"
     ]
    },
    {
     "name": "stderr",
     "output_type": "stream",
     "text": [
      "  9%|▉         | 425/4541 [4:04:23<30:35:38, 26.76s/it]"
     ]
    },
    {
     "name": "stdout",
     "output_type": "stream",
     "text": [
      "------ out shape----------- (100, 4)\n"
     ]
    },
    {
     "name": "stderr",
     "output_type": "stream",
     "text": [
      "  9%|▉         | 426/4541 [4:04:55<32:38:58, 28.56s/it]"
     ]
    },
    {
     "name": "stdout",
     "output_type": "stream",
     "text": [
      "------ out shape----------- (100, 4)\n"
     ]
    },
    {
     "name": "stderr",
     "output_type": "stream",
     "text": [
      "  9%|▉         | 427/4541 [4:05:27<33:48:54, 29.59s/it]"
     ]
    },
    {
     "name": "stdout",
     "output_type": "stream",
     "text": [
      "------ out shape----------- (100, 4)\n"
     ]
    },
    {
     "name": "stderr",
     "output_type": "stream",
     "text": [
      "  9%|▉         | 428/4541 [4:06:00<34:55:00, 30.56s/it]"
     ]
    },
    {
     "name": "stdout",
     "output_type": "stream",
     "text": [
      "------ out shape----------- (100, 4)\n"
     ]
    },
    {
     "name": "stderr",
     "output_type": "stream",
     "text": [
      "  9%|▉         | 429/4541 [4:06:37<37:08:48, 32.52s/it]"
     ]
    },
    {
     "name": "stdout",
     "output_type": "stream",
     "text": [
      "------ out shape----------- (100, 4)\n"
     ]
    },
    {
     "name": "stderr",
     "output_type": "stream",
     "text": [
      "  9%|▉         | 430/4541 [4:07:09<36:53:27, 32.31s/it]"
     ]
    },
    {
     "name": "stdout",
     "output_type": "stream",
     "text": [
      "------ out shape----------- (100, 4)\n"
     ]
    },
    {
     "name": "stderr",
     "output_type": "stream",
     "text": [
      "  9%|▉         | 431/4541 [4:07:39<36:14:29, 31.74s/it]"
     ]
    },
    {
     "name": "stdout",
     "output_type": "stream",
     "text": [
      "------ out shape----------- (100, 4)\n"
     ]
    },
    {
     "name": "stderr",
     "output_type": "stream",
     "text": [
      " 10%|▉         | 433/4541 [4:08:11<25:20:58, 22.21s/it]"
     ]
    },
    {
     "name": "stdout",
     "output_type": "stream",
     "text": [
      "------ out shape----------- (100, 4)\n"
     ]
    },
    {
     "name": "stderr",
     "output_type": "stream",
     "text": [
      " 10%|▉         | 434/4541 [4:08:43<28:47:33, 25.24s/it]"
     ]
    },
    {
     "name": "stdout",
     "output_type": "stream",
     "text": [
      "------ out shape----------- (100, 4)\n"
     ]
    },
    {
     "name": "stderr",
     "output_type": "stream",
     "text": [
      " 10%|▉         | 435/4541 [4:09:14<30:39:16, 26.88s/it]"
     ]
    },
    {
     "name": "stdout",
     "output_type": "stream",
     "text": [
      "------ out shape----------- (100, 4)\n"
     ]
    },
    {
     "name": "stderr",
     "output_type": "stream",
     "text": [
      " 10%|▉         | 436/4541 [4:09:38<29:30:30, 25.88s/it]"
     ]
    },
    {
     "name": "stdout",
     "output_type": "stream",
     "text": [
      "------ out shape----------- (13, 4)\n"
     ]
    },
    {
     "name": "stderr",
     "output_type": "stream",
     "text": [
      " 10%|▉         | 437/4541 [4:10:06<30:28:47, 26.74s/it]"
     ]
    },
    {
     "name": "stdout",
     "output_type": "stream",
     "text": [
      "------ out shape----------- (100, 4)\n"
     ]
    },
    {
     "name": "stderr",
     "output_type": "stream",
     "text": [
      " 10%|▉         | 438/4541 [4:10:30<29:21:54, 25.77s/it]"
     ]
    },
    {
     "name": "stdout",
     "output_type": "stream",
     "text": [
      "------ out shape----------- (2, 4)\n"
     ]
    },
    {
     "name": "stderr",
     "output_type": "stream",
     "text": [
      " 10%|▉         | 439/4541 [4:11:01<31:20:37, 27.51s/it]"
     ]
    },
    {
     "name": "stdout",
     "output_type": "stream",
     "text": [
      "------ out shape----------- (100, 4)\n"
     ]
    },
    {
     "name": "stderr",
     "output_type": "stream",
     "text": [
      " 10%|▉         | 440/4541 [4:11:32<32:30:12, 28.53s/it]"
     ]
    },
    {
     "name": "stdout",
     "output_type": "stream",
     "text": [
      "------ out shape----------- (100, 4)\n"
     ]
    },
    {
     "name": "stderr",
     "output_type": "stream",
     "text": [
      " 10%|▉         | 441/4541 [4:12:02<33:00:28, 28.98s/it]"
     ]
    },
    {
     "name": "stdout",
     "output_type": "stream",
     "text": [
      "------ out shape----------- (100, 4)\n"
     ]
    },
    {
     "name": "stderr",
     "output_type": "stream",
     "text": [
      " 10%|▉         | 442/4541 [4:12:35<34:20:25, 30.16s/it]"
     ]
    },
    {
     "name": "stdout",
     "output_type": "stream",
     "text": [
      "------ out shape----------- (100, 4)\n"
     ]
    },
    {
     "name": "stderr",
     "output_type": "stream",
     "text": [
      " 10%|▉         | 443/4541 [4:13:06<34:40:50, 30.47s/it]"
     ]
    },
    {
     "name": "stdout",
     "output_type": "stream",
     "text": [
      "------ out shape----------- (100, 4)\n"
     ]
    },
    {
     "name": "stderr",
     "output_type": "stream",
     "text": [
      " 10%|▉         | 444/4541 [4:13:36<34:30:59, 30.33s/it]"
     ]
    },
    {
     "name": "stdout",
     "output_type": "stream",
     "text": [
      "------ out shape----------- (100, 4)\n"
     ]
    },
    {
     "name": "stderr",
     "output_type": "stream",
     "text": [
      " 10%|▉         | 445/4541 [4:14:07<34:43:26, 30.52s/it]"
     ]
    },
    {
     "name": "stdout",
     "output_type": "stream",
     "text": [
      "------ out shape----------- (100, 4)\n"
     ]
    },
    {
     "name": "stderr",
     "output_type": "stream",
     "text": [
      " 10%|▉         | 446/4541 [4:14:37<34:15:26, 30.12s/it]"
     ]
    },
    {
     "name": "stdout",
     "output_type": "stream",
     "text": [
      "------ out shape----------- (100, 4)\n"
     ]
    },
    {
     "name": "stderr",
     "output_type": "stream",
     "text": [
      " 10%|▉         | 447/4541 [4:15:06<34:02:27, 29.93s/it]"
     ]
    },
    {
     "name": "stdout",
     "output_type": "stream",
     "text": [
      "------ out shape----------- (100, 4)\n"
     ]
    },
    {
     "name": "stderr",
     "output_type": "stream",
     "text": [
      " 10%|▉         | 448/4541 [4:15:36<33:59:35, 29.90s/it]"
     ]
    },
    {
     "name": "stdout",
     "output_type": "stream",
     "text": [
      "------ out shape----------- (100, 4)\n"
     ]
    },
    {
     "name": "stderr",
     "output_type": "stream",
     "text": [
      " 10%|▉         | 449/4541 [4:16:07<34:12:53, 30.10s/it]"
     ]
    },
    {
     "name": "stdout",
     "output_type": "stream",
     "text": [
      "------ out shape----------- (100, 4)\n"
     ]
    },
    {
     "name": "stderr",
     "output_type": "stream",
     "text": [
      " 10%|▉         | 450/4541 [4:16:37<34:28:54, 30.34s/it]"
     ]
    },
    {
     "name": "stdout",
     "output_type": "stream",
     "text": [
      "------ out shape----------- (100, 4)\n"
     ]
    },
    {
     "name": "stderr",
     "output_type": "stream",
     "text": [
      " 10%|▉         | 451/4541 [4:17:09<34:46:36, 30.61s/it]"
     ]
    },
    {
     "name": "stdout",
     "output_type": "stream",
     "text": [
      "------ out shape----------- (100, 4)\n"
     ]
    },
    {
     "name": "stderr",
     "output_type": "stream",
     "text": [
      " 10%|▉         | 452/4541 [4:17:40<34:54:04, 30.73s/it]"
     ]
    },
    {
     "name": "stdout",
     "output_type": "stream",
     "text": [
      "------ out shape----------- (100, 4)\n"
     ]
    },
    {
     "name": "stderr",
     "output_type": "stream",
     "text": [
      " 10%|▉         | 453/4541 [4:18:10<34:45:40, 30.61s/it]"
     ]
    },
    {
     "name": "stdout",
     "output_type": "stream",
     "text": [
      "------ out shape----------- (100, 4)\n"
     ]
    },
    {
     "name": "stderr",
     "output_type": "stream",
     "text": [
      " 10%|▉         | 454/4541 [4:18:39<34:21:38, 30.27s/it]"
     ]
    },
    {
     "name": "stdout",
     "output_type": "stream",
     "text": [
      "------ out shape----------- (100, 4)\n"
     ]
    },
    {
     "name": "stderr",
     "output_type": "stream",
     "text": [
      " 10%|▉         | 454/4541 [4:19:03<38:52:05, 34.24s/it]\n",
      "ERROR - 2022-02-23 13:04:11,759 - run - Failed after 4:19:09!\n"
     ]
    },
    {
     "name": "stdout",
     "output_type": "stream",
     "text": [
      "idx_b is empty!\n",
      "------ out shape----------- ()\n"
     ]
    },
    {
     "ename": "IndexError",
     "evalue": "tuple index out of range",
     "output_type": "error",
     "traceback": [
      "\u001b[0;31m---------------------------------------------------------------------------\u001b[0m",
      "\u001b[0;31mIndexError\u001b[0m                                Traceback (most recent call last)",
      "\u001b[0;32m<ipython-input-6-106ea74a54b1>\u001b[0m in \u001b[0;36m<module>\u001b[0;34m\u001b[0m\n\u001b[0;32m----> 1\u001b[0;31m \u001b[0mex\u001b[0m\u001b[0;34m.\u001b[0m\u001b[0mrun\u001b[0m\u001b[0;34m(\u001b[0m\u001b[0;34m)\u001b[0m\u001b[0;34m\u001b[0m\u001b[0;34m\u001b[0m\u001b[0m\n\u001b[0m",
      "\u001b[0;32m~/venv/lib/python3.8/site-packages/sacred/experiment.py\u001b[0m in \u001b[0;36mrun\u001b[0;34m(self, command_name, config_updates, named_configs, info, meta_info, options)\u001b[0m\n\u001b[1;32m    274\u001b[0m             \u001b[0mcommand_name\u001b[0m\u001b[0;34m,\u001b[0m \u001b[0mconfig_updates\u001b[0m\u001b[0;34m,\u001b[0m \u001b[0mnamed_configs\u001b[0m\u001b[0;34m,\u001b[0m \u001b[0minfo\u001b[0m\u001b[0;34m,\u001b[0m \u001b[0mmeta_info\u001b[0m\u001b[0;34m,\u001b[0m \u001b[0moptions\u001b[0m\u001b[0;34m\u001b[0m\u001b[0;34m\u001b[0m\u001b[0m\n\u001b[1;32m    275\u001b[0m         )\n\u001b[0;32m--> 276\u001b[0;31m         \u001b[0mrun\u001b[0m\u001b[0;34m(\u001b[0m\u001b[0;34m)\u001b[0m\u001b[0;34m\u001b[0m\u001b[0;34m\u001b[0m\u001b[0m\n\u001b[0m\u001b[1;32m    277\u001b[0m         \u001b[0;32mreturn\u001b[0m \u001b[0mrun\u001b[0m\u001b[0;34m\u001b[0m\u001b[0;34m\u001b[0m\u001b[0m\n\u001b[1;32m    278\u001b[0m \u001b[0;34m\u001b[0m\u001b[0m\n",
      "\u001b[0;32m~/venv/lib/python3.8/site-packages/sacred/run.py\u001b[0m in \u001b[0;36m__call__\u001b[0;34m(self, *args)\u001b[0m\n\u001b[1;32m    236\u001b[0m                 \u001b[0mself\u001b[0m\u001b[0;34m.\u001b[0m\u001b[0m_start_heartbeat\u001b[0m\u001b[0;34m(\u001b[0m\u001b[0;34m)\u001b[0m\u001b[0;34m\u001b[0m\u001b[0;34m\u001b[0m\u001b[0m\n\u001b[1;32m    237\u001b[0m                 \u001b[0mself\u001b[0m\u001b[0;34m.\u001b[0m\u001b[0m_execute_pre_run_hooks\u001b[0m\u001b[0;34m(\u001b[0m\u001b[0;34m)\u001b[0m\u001b[0;34m\u001b[0m\u001b[0;34m\u001b[0m\u001b[0m\n\u001b[0;32m--> 238\u001b[0;31m                 \u001b[0mself\u001b[0m\u001b[0;34m.\u001b[0m\u001b[0mresult\u001b[0m \u001b[0;34m=\u001b[0m \u001b[0mself\u001b[0m\u001b[0;34m.\u001b[0m\u001b[0mmain_function\u001b[0m\u001b[0;34m(\u001b[0m\u001b[0;34m*\u001b[0m\u001b[0margs\u001b[0m\u001b[0;34m)\u001b[0m\u001b[0;34m\u001b[0m\u001b[0;34m\u001b[0m\u001b[0m\n\u001b[0m\u001b[1;32m    239\u001b[0m                 \u001b[0mself\u001b[0m\u001b[0;34m.\u001b[0m\u001b[0m_execute_post_run_hooks\u001b[0m\u001b[0;34m(\u001b[0m\u001b[0;34m)\u001b[0m\u001b[0;34m\u001b[0m\u001b[0;34m\u001b[0m\u001b[0m\n\u001b[1;32m    240\u001b[0m                 \u001b[0;32mif\u001b[0m \u001b[0mself\u001b[0m\u001b[0;34m.\u001b[0m\u001b[0mresult\u001b[0m \u001b[0;32mis\u001b[0m \u001b[0;32mnot\u001b[0m \u001b[0;32mNone\u001b[0m\u001b[0;34m:\u001b[0m\u001b[0;34m\u001b[0m\u001b[0;34m\u001b[0m\u001b[0m\n",
      "\u001b[0;32m~/venv/lib/python3.8/site-packages/sacred/config/captured_function.py\u001b[0m in \u001b[0;36mcaptured_function\u001b[0;34m(wrapped, instance, args, kwargs)\u001b[0m\n\u001b[1;32m     40\u001b[0m     \u001b[0;31m# =================== run actual function =================================\u001b[0m\u001b[0;34m\u001b[0m\u001b[0;34m\u001b[0m\u001b[0;34m\u001b[0m\u001b[0m\n\u001b[1;32m     41\u001b[0m     \u001b[0;32mwith\u001b[0m \u001b[0mConfigError\u001b[0m\u001b[0;34m.\u001b[0m\u001b[0mtrack\u001b[0m\u001b[0;34m(\u001b[0m\u001b[0mwrapped\u001b[0m\u001b[0;34m.\u001b[0m\u001b[0mconfig\u001b[0m\u001b[0;34m,\u001b[0m \u001b[0mwrapped\u001b[0m\u001b[0;34m.\u001b[0m\u001b[0mprefix\u001b[0m\u001b[0;34m)\u001b[0m\u001b[0;34m:\u001b[0m\u001b[0;34m\u001b[0m\u001b[0;34m\u001b[0m\u001b[0m\n\u001b[0;32m---> 42\u001b[0;31m         \u001b[0mresult\u001b[0m \u001b[0;34m=\u001b[0m \u001b[0mwrapped\u001b[0m\u001b[0;34m(\u001b[0m\u001b[0;34m*\u001b[0m\u001b[0margs\u001b[0m\u001b[0;34m,\u001b[0m \u001b[0;34m**\u001b[0m\u001b[0mkwargs\u001b[0m\u001b[0;34m)\u001b[0m\u001b[0;34m\u001b[0m\u001b[0;34m\u001b[0m\u001b[0m\n\u001b[0m\u001b[1;32m     43\u001b[0m     \u001b[0;31m# =========================================================================\u001b[0m\u001b[0;34m\u001b[0m\u001b[0;34m\u001b[0m\u001b[0;34m\u001b[0m\u001b[0m\n\u001b[1;32m     44\u001b[0m     \u001b[0;32mif\u001b[0m \u001b[0mwrapped\u001b[0m\u001b[0;34m.\u001b[0m\u001b[0mlogger\u001b[0m \u001b[0;32mis\u001b[0m \u001b[0;32mnot\u001b[0m \u001b[0;32mNone\u001b[0m\u001b[0;34m:\u001b[0m\u001b[0;34m\u001b[0m\u001b[0;34m\u001b[0m\u001b[0m\n",
      "\u001b[0;32m<ipython-input-5-1b46853ecd9e>\u001b[0m in \u001b[0;36mmain\u001b[0;34m(_config, seed)\u001b[0m\n\u001b[1;32m    362\u001b[0m                 \u001b[0mt1\u001b[0m \u001b[0;34m=\u001b[0m \u001b[0mtime\u001b[0m\u001b[0;34m.\u001b[0m\u001b[0mtime\u001b[0m\u001b[0;34m(\u001b[0m\u001b[0;34m)\u001b[0m\u001b[0;34m\u001b[0m\u001b[0;34m\u001b[0m\u001b[0m\n\u001b[1;32m    363\u001b[0m                 \u001b[0;32mif\u001b[0m \u001b[0m_config\u001b[0m\u001b[0;34m[\u001b[0m\u001b[0;34m'iterative_method'\u001b[0m\u001b[0;34m]\u001b[0m \u001b[0;34m==\u001b[0m \u001b[0;34m'single_range'\u001b[0m \u001b[0;32mor\u001b[0m \u001b[0m_config\u001b[0m\u001b[0;34m[\u001b[0m\u001b[0;34m'iterative_method'\u001b[0m\u001b[0;34m]\u001b[0m \u001b[0;34m==\u001b[0m \u001b[0;34m'single'\u001b[0m\u001b[0;34m:\u001b[0m\u001b[0;34m\u001b[0m\u001b[0;34m\u001b[0m\u001b[0m\n\u001b[0;32m--> 364\u001b[0;31m                     \u001b[0mT_predicted\u001b[0m\u001b[0;34m,\u001b[0m \u001b[0mR_predicted\u001b[0m \u001b[0;34m=\u001b[0m \u001b[0mmodels\u001b[0m\u001b[0;34m[\u001b[0m\u001b[0;36m0\u001b[0m\u001b[0;34m]\u001b[0m\u001b[0;34m(\u001b[0m\u001b[0mrgb_resize\u001b[0m\u001b[0;34m,\u001b[0m \u001b[0mlidar_resize\u001b[0m\u001b[0;34m)\u001b[0m\u001b[0;34m\u001b[0m\u001b[0;34m\u001b[0m\u001b[0m\n\u001b[0m\u001b[1;32m    365\u001b[0m                 \u001b[0;32melif\u001b[0m \u001b[0m_config\u001b[0m\u001b[0;34m[\u001b[0m\u001b[0;34m'iterative_method'\u001b[0m\u001b[0;34m]\u001b[0m \u001b[0;34m==\u001b[0m \u001b[0;34m'multi_range'\u001b[0m\u001b[0;34m:\u001b[0m\u001b[0;34m\u001b[0m\u001b[0;34m\u001b[0m\u001b[0m\n\u001b[1;32m    366\u001b[0m                     \u001b[0mT_predicted\u001b[0m\u001b[0;34m,\u001b[0m \u001b[0mR_predicted\u001b[0m \u001b[0;34m=\u001b[0m \u001b[0mmodels\u001b[0m\u001b[0;34m[\u001b[0m\u001b[0miteration\u001b[0m\u001b[0;34m]\u001b[0m\u001b[0;34m(\u001b[0m\u001b[0mrgb_resize\u001b[0m\u001b[0;34m,\u001b[0m \u001b[0mlidar_resize\u001b[0m\u001b[0;34m)\u001b[0m\u001b[0;34m\u001b[0m\u001b[0;34m\u001b[0m\u001b[0m\n",
      "\u001b[0;32m~/venv/lib/python3.8/site-packages/torch/nn/modules/module.py\u001b[0m in \u001b[0;36m_call_impl\u001b[0;34m(self, *input, **kwargs)\u001b[0m\n\u001b[1;32m    725\u001b[0m             \u001b[0mresult\u001b[0m \u001b[0;34m=\u001b[0m \u001b[0mself\u001b[0m\u001b[0;34m.\u001b[0m\u001b[0m_slow_forward\u001b[0m\u001b[0;34m(\u001b[0m\u001b[0;34m*\u001b[0m\u001b[0minput\u001b[0m\u001b[0;34m,\u001b[0m \u001b[0;34m**\u001b[0m\u001b[0mkwargs\u001b[0m\u001b[0;34m)\u001b[0m\u001b[0;34m\u001b[0m\u001b[0;34m\u001b[0m\u001b[0m\n\u001b[1;32m    726\u001b[0m         \u001b[0;32melse\u001b[0m\u001b[0;34m:\u001b[0m\u001b[0;34m\u001b[0m\u001b[0;34m\u001b[0m\u001b[0m\n\u001b[0;32m--> 727\u001b[0;31m             \u001b[0mresult\u001b[0m \u001b[0;34m=\u001b[0m \u001b[0mself\u001b[0m\u001b[0;34m.\u001b[0m\u001b[0mforward\u001b[0m\u001b[0;34m(\u001b[0m\u001b[0;34m*\u001b[0m\u001b[0minput\u001b[0m\u001b[0;34m,\u001b[0m \u001b[0;34m**\u001b[0m\u001b[0mkwargs\u001b[0m\u001b[0;34m)\u001b[0m\u001b[0;34m\u001b[0m\u001b[0;34m\u001b[0m\u001b[0m\n\u001b[0m\u001b[1;32m    728\u001b[0m         for hook in itertools.chain(\n\u001b[1;32m    729\u001b[0m                 \u001b[0m_global_forward_hooks\u001b[0m\u001b[0;34m.\u001b[0m\u001b[0mvalues\u001b[0m\u001b[0;34m(\u001b[0m\u001b[0;34m)\u001b[0m\u001b[0;34m,\u001b[0m\u001b[0;34m\u001b[0m\u001b[0;34m\u001b[0m\u001b[0m\n",
      "\u001b[0;32m~/work/LCCNet_Moon/LCCNet_COTR_moon_Ver2.py\u001b[0m in \u001b[0;36mforward\u001b[0;34m(self, rgb_input, lidar_input)\u001b[0m\n\u001b[1;32m    477\u001b[0m         \u001b[0;31m#print(\"--------corrs_shape-------\" , corrs.shape)\u001b[0m\u001b[0;34m\u001b[0m\u001b[0;34m\u001b[0m\u001b[0;34m\u001b[0m\u001b[0m\n\u001b[1;32m    478\u001b[0m         \u001b[0mx\u001b[0m \u001b[0;34m=\u001b[0m \u001b[0mself\u001b[0m\u001b[0;34m.\u001b[0m\u001b[0mleakyRELU\u001b[0m\u001b[0;34m(\u001b[0m\u001b[0mcorrs\u001b[0m\u001b[0;34m)\u001b[0m\u001b[0;34m\u001b[0m\u001b[0;34m\u001b[0m\u001b[0m\n\u001b[0;32m--> 479\u001b[0;31m         \u001b[0mx\u001b[0m \u001b[0;34m=\u001b[0m \u001b[0mx\u001b[0m\u001b[0;34m.\u001b[0m\u001b[0mview\u001b[0m\u001b[0;34m(\u001b[0m\u001b[0mx\u001b[0m\u001b[0;34m.\u001b[0m\u001b[0mshape\u001b[0m\u001b[0;34m[\u001b[0m\u001b[0;36m0\u001b[0m\u001b[0;34m]\u001b[0m\u001b[0;34m,\u001b[0m \u001b[0;34m-\u001b[0m\u001b[0;36m1\u001b[0m\u001b[0;34m)\u001b[0m\u001b[0;34m\u001b[0m\u001b[0;34m\u001b[0m\u001b[0m\n\u001b[0m\u001b[1;32m    480\u001b[0m         \u001b[0mx\u001b[0m \u001b[0;34m=\u001b[0m \u001b[0mself\u001b[0m\u001b[0;34m.\u001b[0m\u001b[0mdropout\u001b[0m\u001b[0;34m(\u001b[0m\u001b[0mx\u001b[0m\u001b[0;34m)\u001b[0m\u001b[0;34m\u001b[0m\u001b[0;34m\u001b[0m\u001b[0m\n\u001b[1;32m    481\u001b[0m         \u001b[0;31m#print(\"--------x_shape-------\" , x.shape)\u001b[0m\u001b[0;34m\u001b[0m\u001b[0;34m\u001b[0m\u001b[0;34m\u001b[0m\u001b[0m\n",
      "\u001b[0;31mIndexError\u001b[0m: tuple index out of range"
     ]
    }
   ],
   "source": [
    "ex.run()"
   ]
  }
 ],
 "metadata": {
  "kernelspec": {
   "display_name": "Python 3",
   "language": "python",
   "name": "python3"
  },
  "language_info": {
   "codemirror_mode": {
    "name": "ipython",
    "version": 3
   },
   "file_extension": ".py",
   "mimetype": "text/x-python",
   "name": "python",
   "nbconvert_exporter": "python",
   "pygments_lexer": "ipython3",
   "version": "3.8.0"
  }
 },
 "nbformat": 4,
 "nbformat_minor": 5
}
